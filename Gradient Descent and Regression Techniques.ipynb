{
 "cells": [
  {
   "cell_type": "markdown",
   "metadata": {},
   "source": [
    "## Gradient Descent and Regression Techniques\n"
   ]
  },
  {
   "cell_type": "markdown",
   "metadata": {},
   "source": [
    "---\n",
    "\n",
    "## Introduction\n",
    "\n",
    "Here, we will use the [Boston Housing Prices Data Set](https://archive.ics.uci.edu/ml/machine-learning-databases/housing/housing.names)."
   ]
  },
  {
   "cell_type": "code",
   "execution_count": 1,
   "metadata": {},
   "outputs": [
    {
     "name": "stderr",
     "output_type": "stream",
     "text": [
      "D:\\Users\\Jonathan\\Anaconda3\\lib\\site-packages\\statsmodels\\compat\\pandas.py:56: FutureWarning: The pandas.core.datetools module is deprecated and will be removed in a future version. Please use the pandas.tseries module instead.\n",
      "  from pandas.core import datetools\n"
     ]
    }
   ],
   "source": [
    "import IPython\n",
    "import numpy as np\n",
    "import scipy as sp\n",
    "import pandas as pd\n",
    "import matplotlib\n",
    "import sklearn\n",
    "import time\n",
    "\n",
    "%matplotlib inline  \n",
    "import matplotlib.pyplot as plt  \n",
    "import statsmodels.api as sm\n",
    "from sklearn.linear_model import LinearRegression\n",
    "from sklearn.metrics import mean_squared_error\n",
    "import statsmodels.formula.api as smf\n",
    "\n",
    "import warnings\n",
    "warnings.filterwarnings('ignore')"
   ]
  },
  {
   "cell_type": "code",
   "execution_count": 2,
   "metadata": {},
   "outputs": [],
   "source": [
    "from sklearn.datasets import load_boston\n",
    "bdata = load_boston()"
   ]
  },
  {
   "cell_type": "markdown",
   "metadata": {},
   "source": [
    "---\n",
    "\n",
    "## Part 1: Getting oriented\n",
    "\n",
    "\n",
    "### 1.1 Use existing libraries\n",
    "\n",
    "Within this project, we will write the gradient descent algorithm, which we will then use to minimize the squared error cost function.  First, however, let's use the canned versions that come with Python, to make sure we understand what we're aiming to achieve.\n",
    "\n",
    "Using the same Boston housing prices dataset, use the [Linear Regression class](http://scikit-learn.org/stable/modules/generated/sklearn.linear_model.LinearRegression.html) from sklearn or the [OLS class](http://wiki.scipy.org/Cookbook/OLS) from SciPy to explore the relationship between  median housing price and number of rooms per house. Do this by first (a) regressing the housing price on the number of rooms per house, and then (b) regressing the housing price on the number of rooms per house and the (number of rooms per house) squared.  Interpret your results."
   ]
  },
  {
   "cell_type": "code",
   "execution_count": 3,
   "metadata": {
    "scrolled": true
   },
   "outputs": [
    {
     "name": "stdout",
     "output_type": "stream",
     "text": [
      "dict_keys(['data', 'target', 'feature_names', 'DESCR'])\n",
      "['CRIM' 'ZN' 'INDUS' 'CHAS' 'NOX' 'RM' 'AGE' 'DIS' 'RAD' 'TAX' 'PTRATIO'\n",
      " 'B' 'LSTAT']\n",
      "(506, 13)\n",
      "(506,)\n",
      "Boston House Prices dataset\n",
      "===========================\n",
      "\n",
      "Notes\n",
      "------\n",
      "Data Set Characteristics:  \n",
      "\n",
      "    :Number of Instances: 506 \n",
      "\n",
      "    :Number of Attributes: 13 numeric/categorical predictive\n",
      "    \n",
      "    :Median Value (attribute 14) is usually the target\n",
      "\n",
      "    :Attribute Information (in order):\n",
      "        - CRIM     per capita crime rate by town\n",
      "        - ZN       proportion of residential land zoned for lots over 25,000 sq.ft.\n",
      "        - INDUS    proportion of non-retail business acres per town\n",
      "        - CHAS     Charles River dummy variable (= 1 if tract bounds river; 0 otherwise)\n",
      "        - NOX      nitric oxides concentration (parts per 10 million)\n",
      "        - RM       average number of rooms per dwelling\n",
      "        - AGE      proportion of owner-occupied units built prior to 1940\n",
      "        - DIS      weighted distances to five Boston employment centres\n",
      "        - RAD      index of accessibility to radial highways\n",
      "        - TAX      full-value property-tax rate per $10,000\n",
      "        - PTRATIO  pupil-teacher ratio by town\n",
      "        - B        1000(Bk - 0.63)^2 where Bk is the proportion of blacks by town\n",
      "        - LSTAT    % lower status of the population\n",
      "        - MEDV     Median value of owner-occupied homes in $1000's\n",
      "\n",
      "    :Missing Attribute Values: None\n",
      "\n",
      "    :Creator: Harrison, D. and Rubinfeld, D.L.\n",
      "\n",
      "This is a copy of UCI ML housing dataset.\n",
      "http://archive.ics.uci.edu/ml/datasets/Housing\n",
      "\n",
      "\n",
      "This dataset was taken from the StatLib library which is maintained at Carnegie Mellon University.\n",
      "\n",
      "The Boston house-price data of Harrison, D. and Rubinfeld, D.L. 'Hedonic\n",
      "prices and the demand for clean air', J. Environ. Economics & Management,\n",
      "vol.5, 81-102, 1978.   Used in Belsley, Kuh & Welsch, 'Regression diagnostics\n",
      "...', Wiley, 1980.   N.B. Various transformations are used in the table on\n",
      "pages 244-261 of the latter.\n",
      "\n",
      "The Boston house-price data has been used in many machine learning papers that address regression\n",
      "problems.   \n",
      "     \n",
      "**References**\n",
      "\n",
      "   - Belsley, Kuh & Welsch, 'Regression diagnostics: Identifying Influential Data and Sources of Collinearity', Wiley, 1980. 244-261.\n",
      "   - Quinlan,R. (1993). Combining Instance-Based and Model-Based Learning. In Proceedings on the Tenth International Conference of Machine Learning, 236-243, University of Massachusetts, Amherst. Morgan Kaufmann.\n",
      "   - many more! (see http://archive.ics.uci.edu/ml/datasets/Housing)\n",
      "\n"
     ]
    }
   ],
   "source": [
    "# uncomment the following if you want to see a lengthy description of the dataset\n",
    "print(bdata.keys())\n",
    "print(bdata.feature_names)\n",
    "print(bdata.data.shape)\n",
    "print(bdata.target.shape)\n",
    "print(bdata.DESCR)"
   ]
  },
  {
   "cell_type": "code",
   "execution_count": 4,
   "metadata": {
    "scrolled": true
   },
   "outputs": [
    {
     "name": "stdout",
     "output_type": "stream",
     "text": [
      "                            OLS Regression Results                            \n",
      "==============================================================================\n",
      "Dep. Variable:                   MEDV   R-squared:                       0.484\n",
      "Model:                            OLS   Adj. R-squared:                  0.483\n",
      "Method:                 Least Squares   F-statistic:                     471.8\n",
      "Date:                Mon, 22 Oct 2018   Prob (F-statistic):           2.49e-74\n",
      "Time:                        18:11:13   Log-Likelihood:                -1673.1\n",
      "No. Observations:                 506   AIC:                             3350.\n",
      "Df Residuals:                     504   BIC:                             3359.\n",
      "Df Model:                           1                                         \n",
      "Covariance Type:            nonrobust                                         \n",
      "==============================================================================\n",
      "                 coef    std err          t      P>|t|      [0.025      0.975]\n",
      "------------------------------------------------------------------------------\n",
      "Intercept    -34.6706      2.650    -13.084      0.000     -39.877     -29.465\n",
      "RM             9.1021      0.419     21.722      0.000       8.279       9.925\n",
      "==============================================================================\n",
      "Omnibus:                      102.585   Durbin-Watson:                   0.684\n",
      "Prob(Omnibus):                  0.000   Jarque-Bera (JB):              612.449\n",
      "Skew:                           0.726   Prob(JB):                    1.02e-133\n",
      "Kurtosis:                       8.190   Cond. No.                         58.4\n",
      "==============================================================================\n",
      "\n",
      "Warnings:\n",
      "[1] Standard Errors assume that the covariance matrix of the errors is correctly specified.\n"
     ]
    }
   ],
   "source": [
    "import pandas as pd\n",
    "import numpy as np\n",
    "import matplotlib.pyplot as plt\n",
    "import scipy as sp\n",
    "import sklearn\n",
    "import statsmodels.formula.api as smf\n",
    "%matplotlib inline\n",
    "\n",
    "df_X = pd.DataFrame(bdata.data, columns = bdata.feature_names)\n",
    "df_Y = pd.DataFrame(bdata.target, columns = ['MEDV'])\n",
    "df = pd.concat([df_X, df_Y], axis = 1)\n",
    "lin_model = smf.ols(formula = 'MEDV ~ RM', data = df).fit()\n",
    "print(lin_model.summary())"
   ]
  },
  {
   "cell_type": "code",
   "execution_count": 5,
   "metadata": {
    "scrolled": true
   },
   "outputs": [
    {
     "name": "stdout",
     "output_type": "stream",
     "text": [
      "                            OLS Regression Results                            \n",
      "==============================================================================\n",
      "Dep. Variable:                   MEDV   R-squared:                       0.548\n",
      "Model:                            OLS   Adj. R-squared:                  0.547\n",
      "Method:                 Least Squares   F-statistic:                     305.4\n",
      "Date:                Mon, 22 Oct 2018   Prob (F-statistic):           1.46e-87\n",
      "Time:                        18:11:14   Log-Likelihood:                -1639.1\n",
      "No. Observations:                 506   AIC:                             3284.\n",
      "Df Residuals:                     503   BIC:                             3297.\n",
      "Df Model:                           2                                         \n",
      "Covariance Type:            nonrobust                                         \n",
      "==============================================================================\n",
      "                 coef    std err          t      P>|t|      [0.025      0.975]\n",
      "------------------------------------------------------------------------------\n",
      "Intercept     66.0588     12.104      5.458      0.000      42.278      89.839\n",
      "RM2            2.4701      0.291      8.502      0.000       1.899       3.041\n",
      "RM           -22.6433      3.754     -6.031      0.000     -30.019     -15.267\n",
      "==============================================================================\n",
      "Omnibus:                       82.173   Durbin-Watson:                   0.689\n",
      "Prob(Omnibus):                  0.000   Jarque-Bera (JB):              934.337\n",
      "Skew:                           0.224   Prob(JB):                    1.29e-203\n",
      "Kurtosis:                       9.642   Cond. No.                     1.91e+03\n",
      "==============================================================================\n",
      "\n",
      "Warnings:\n",
      "[1] Standard Errors assume that the covariance matrix of the errors is correctly specified.\n",
      "[2] The condition number is large, 1.91e+03. This might indicate that there are\n",
      "strong multicollinearity or other numerical problems.\n"
     ]
    }
   ],
   "source": [
    "df['RM2'] = df['RM']**2\n",
    "lin_model2 = smf.ols(formula = 'MEDV ~ RM2 + RM', data = df).fit()\n",
    "print(lin_model2.summary())\n",
    "del df['RM2']"
   ]
  },
  {
   "cell_type": "markdown",
   "metadata": {},
   "source": [
    "**SECTION 1.1**\n",
    " \n",
    "**Answers: **\n",
    "\n",
    "**a)** The linear model for this part can be expressed as: MEDV = -34.6706 + (9.1021)(RM). This means that for every unit increase in RM, there's a 9.1021 increase in MEDV (in 1000's). This is not a completely accurate model, however, because it yields a negative MEDV value for certain values of RM (e.g. RM = 1). This is primarily because the range of the data available is not extensive enough. \n",
    "\n",
    "**b)** In this part, the linear model is MEDV = 66.0588 + (2.4701)(RM$^2$) - (22.6433)(RM). Similar to the concept in part a, a unit increase in RM results in a 22.6433 _decrease_ in MEDV, while a unit increase in RM$^2$ results in a 2.4701 _increase_.\n",
    "\n",
    "It should be noted that both models are only _fairly accurate_ for values of _RM_ in the range (3,9). Beyond this range, the two models are not representative of the actual MEDV values."
   ]
  },
  {
   "cell_type": "markdown",
   "metadata": {},
   "source": [
    "### 1.2 Training and testing\n",
    "\n",
    "Chances are, for the above problem you used all of your data to fit the regression line. In some circumstances this is a reasonable thing to do, but often this will result in overfitting. Let's redo the above results the ML way, using careful cross-validation.  Since you are now experts in cross-validation, and have written your own cross-validation algorithm from scratch, you can now take a shortcut and use the libraries that others have built for you.\n",
    "\n",
    "Using the [cross-validation functions](http://scikit-learn.org/stable/modules/cross_validation.html) from scikit-learn, use 25-fold cross-validation to fit regression (a) above, i.e. the linear fit of housing price on number of rooms per house. Each fold of cross-validation will give you one slope coefficient and one intercept coefficient.  Plot the distribution of the 25 slope coefficients using a histogram, then draw a vertical line at the value of the slope coefficient that you estimated in 1.1 using the full dataset.  What do you notice?"
   ]
  },
  {
   "cell_type": "code",
   "execution_count": 6,
   "metadata": {},
   "outputs": [
    {
     "data": {
      "text/plain": [
       "Text(0.5,1,'Histogram of Linear Regression Slope Coefficients of 25-Fold Cross-Validation')"
      ]
     },
     "execution_count": 6,
     "metadata": {},
     "output_type": "execute_result"
    },
    {
     "data": {
      "image/png": "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\n",
      "text/plain": [
       "<matplotlib.figure.Figure at 0x24f7ef86f98>"
      ]
     },
     "metadata": {},
     "output_type": "display_data"
    }
   ],
   "source": [
    "from sklearn.cross_validation import KFold\n",
    "from sklearn.linear_model import LinearRegression\n",
    "\n",
    "reg = LinearRegression()\n",
    "coefficients = []\n",
    "kf = KFold(n = len(df), n_folds = 25, shuffle = True, random_state = 50)\n",
    "\n",
    "for train, test in kf:\n",
    "    model = reg.fit(np.array(df_X.iloc[train]['RM']).reshape(-1,1), df_Y.iloc[train])\n",
    "    coefficients.append(float(model.coef_))\n",
    "\n",
    "plt.figure(figsize = (14,8))\n",
    "ax = plt.hist(coefficients)\n",
    "plt.axvline(9.1021, color = 'red', linestyle = 'dashed', linewidth = 3)\n",
    "plt.xlabel('Slope Coefficients', fontsize = 14)\n",
    "plt.ylabel('Frequency', fontsize = 14)\n",
    "plt.title('Histogram of Linear Regression Slope Coefficients of 25-Fold Cross-Validation', fontsize = 14)\n"
   ]
  },
  {
   "cell_type": "markdown",
   "metadata": {},
   "source": [
    "**SECTION 1.2** \n",
    "\n",
    "**Answers: **\n",
    "\n",
    "The histogram shows that the slope coefficients of the 25-fold cross-validation are clustered around the slope coefficient of 9.1021 found in Section 1.1 (using the full dataset). Indeed, the mean of all 25 slope coefficients turns out to be 9.1021. For this particular random state, the minimum and maximum slope coefficients are 8.8894 and 9.4655, which correspond to deviations of about -2.34% and +3.99% from the mean respectively. "
   ]
  },
  {
   "cell_type": "markdown",
   "metadata": {},
   "source": [
    "### 1.3 Regression lines\n",
    "\n",
    "Create a scatterplot of housing price on rooms per house, and add the two regression lines from 1.1 (or 1.2 if you prefer to do so). Show the linear regression line in red, and the linear+quadratic regression line (which may have curvature) in blue.  Label these two regression lines with the corresponding regression equations (i.e. the slope and intercept of the line).\n",
    "\n",
    "Bonus: Add the 95% confidence bands (i.e.,  the area that has a 95% chance of containing the true regression line) to each of these lines.\n",
    "\n",
    "Note: You can get 2 points even without the confidence bands (if the other lines are correct, the axes are labeled, the lines are labeled, the points are plotted correctly, and so forth). If you do everything perfectly including the confidence bands, you get 2 points. If you do something else wrong and would normally receive less than two points, the confidence intervals can replace lost points up to 0.5.\n",
    "\n",
    "Useful reference: [1](https://www.medcalc.org/manual/scatter_diagram_regression_line.php), [2](https://rpubs.com/aaronsc32/regression-confidence-prediction-intervals)\n",
    "\n",
    "You can directly use some packages to calculate the bands."
   ]
  },
  {
   "cell_type": "markdown",
   "metadata": {},
   "source": [
    "\n"
   ]
  },
  {
   "cell_type": "code",
   "execution_count": 7,
   "metadata": {},
   "outputs": [
    {
     "data": {
      "text/plain": [
       "<matplotlib.legend.Legend at 0x24f7f248e10>"
      ]
     },
     "execution_count": 7,
     "metadata": {},
     "output_type": "execute_result"
    },
    {
     "data": {
      "image/png": "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\n",
      "text/plain": [
       "<matplotlib.figure.Figure at 0x24f7e7fdd68>"
      ]
     },
     "metadata": {},
     "output_type": "display_data"
    }
   ],
   "source": [
    "import seaborn as sns\n",
    "x = np.linspace(3,10)\n",
    "plt.figure(figsize = (14,8))\n",
    "ax = sns.regplot(x=\"RM\", y=\"MEDV\", data=df, ci = 95, color = \"red\")\n",
    "plt.plot(x, -22.6433 * x + 2.4701 * x**2 + 66.0588, color = \"blue\")\n",
    "plt.xlabel('Average Number of Rooms Per Dwelling', fontsize = 14)\n",
    "plt.ylabel('Median Housing Price ($1000\\'s)', fontsize = 14)\n",
    "plt.title('Plot of Median Housing Price Against Average Number of Rooms Per Dwelling', fontsize = 14)\n",
    "plt.legend(['MEDV = 9.10 * RM - 34.67', 'MEDV = -22.64 * RM + 2.47 * RM^2 + 66.06'], fontsize = 14)"
   ]
  },
  {
   "cell_type": "markdown",
   "metadata": {},
   "source": [
    "## Part 2: Gradient descent: Linear Regression\n",
    "\n",
    "This is where it gets fun!\n",
    "\n",
    "### 2.1 Implement gradient descent with one independent variable (average rooms per house)\n",
    "\n",
    "Implement the batch gradient descent algorithm that we discussed in class. Use the version you implement to regress the housing price on the number of rooms per house. Experiment with 3-4 different values of the learning rate *R*, and do the following:\n",
    "\n",
    "* Report the values of alpha and beta that minimize the loss function\n",
    "* Report the number of iterations it takes for your algorithm to converge (for each value of *R*)\n",
    "* Report the total running time of your algorithm, in seconds\n",
    "* How do your coefficients compare to the ones estimated through standard libraries? Does this depend on *R*?\n",
    "\n",
    "Some skeleton code is provided below, but you should feel free to delete this code and start from scratch if you prefer.\n",
    "\n",
    "* *Hint 1: Don't forget to implement a stopping condition, so that at every iteration you check whether your results have converged. Common approaches to this are to (a) check to see if the loss has stopped decreasing; and (b) check if both your current parameter esimates are close to the estimates from the previous iteration.  In both cases, \"close\" should not be ==0, it should be <=epsilon, where epsilon is something very small (like 0.0001).*\n",
    "* *Hint 2: Some people like to include a MaxIterations parameter in their gradient descent algorithm, to prevent divergence. *"
   ]
  },
  {
   "cell_type": "code",
   "execution_count": 8,
   "metadata": {
    "scrolled": true
   },
   "outputs": [],
   "source": [
    "\"\"\"\n",
    "Function\n",
    "--------\n",
    "bivariate_ols\n",
    "    Gradient Descent to minimize OLS. Used to find co-efficients of bivariate OLS Linear regression\n",
    "\n",
    "Parameters\n",
    "----------\n",
    "xvalues: narray\n",
    "    Independent Variable\n",
    "    \n",
    "yvalues: narray\n",
    "    Dependent Variable\n",
    "    \n",
    "R: float\n",
    "    Learning rate\n",
    "    \n",
    "MaxIterations: Int\n",
    "    Maximum number of iterations. Default is set to 5000.\n",
    "    \n",
    "\n",
    "Returns\n",
    "-------\n",
    "alpha: float\n",
    "    intercept\n",
    "    \n",
    "beta: float\n",
    "    co-efficient\n",
    "\"\"\"\n",
    "def bivariate_ols(xvalues, yvalues, R=0.01, MaxIterations=5000):\n",
    "    start_time = time.time()\n",
    "    \n",
    "    epsilon = 1e-6\n",
    "    Iteration = 0\n",
    "    xvalues = np.asarray(xvalues)\n",
    "    yvalues = np.asarray(yvalues)\n",
    "\n",
    "    #initialize parameters to be optimized\n",
    "    beta = (yvalues.max() - yvalues.min())/(xvalues.max() - xvalues.min())\n",
    "    alpha =  yvalues.mean() - beta * xvalues.mean()\n",
    "    prev_beta = 0\n",
    "    prev_alpha = 0\n",
    "\n",
    "    while (((abs(alpha - prev_alpha) > epsilon) | (abs(beta - prev_beta) > epsilon)) & (Iteration < MaxIterations)):\n",
    "        alpha_update = np.mean(beta * xvalues + alpha - yvalues)\n",
    "        beta_update = np.mean((beta * xvalues + alpha- yvalues) * xvalues)   \n",
    "        prev_alpha = alpha\n",
    "        prev_beta = beta\n",
    "\n",
    "        #update parameters\n",
    "        alpha = alpha - R * alpha_update \n",
    "        beta = beta - R * beta_update\n",
    "        Iteration += 1     \n",
    "\n",
    "    print(\"Time taken: {:.2f} seconds\".format(time.time() - start_time))\n",
    "    print(\"Number of Iterations:\", Iteration)\n",
    "    return alpha, beta"
   ]
  },
  {
   "cell_type": "code",
   "execution_count": 9,
   "metadata": {},
   "outputs": [
    {
     "name": "stdout",
     "output_type": "stream",
     "text": [
      "Time taken: 5.03 seconds\n",
      "Number of Iterations: 49014\n",
      "(-34.662305496843004, 9.100801777072022)\n",
      "\n",
      "\n",
      "Time taken: 3.00 seconds\n",
      "Number of Iterations: 27388\n",
      "(-34.66646351538469, 9.101455438666628)\n",
      "\n",
      "\n",
      "Time taken: 1.94 seconds\n",
      "Number of Iterations: 19382\n",
      "(-34.667849822904884, 9.101673373236947)\n",
      "\n",
      "\n",
      "Time taken: 1.74 seconds\n",
      "Number of Iterations: 15134\n",
      "(-34.66854291859473, 9.101782331393169)\n"
     ]
    }
   ],
   "source": [
    "# example function call\n",
    "print(bivariate_ols(df['RM'], df['MEDV'], 0.01, 50000))\n",
    "print('\\n')\n",
    "print(bivariate_ols(df['RM'], df['MEDV'], 0.02, 50000))\n",
    "print('\\n')\n",
    "print(bivariate_ols(df['RM'], df['MEDV'], 0.03, 50000))\n",
    "print('\\n')      \n",
    "print(bivariate_ols(df['RM'], df['MEDV'], 0.04, 50000))"
   ]
  },
  {
   "cell_type": "markdown",
   "metadata": {},
   "source": [
    "**SECTION 2.1** \n",
    "\n",
    "**Answers: ** \n",
    "\n",
    "To increase the accuracy of the intercept and slope coefficients obtained, a very small epsilon value of 1e-6 was used.\n",
    "\n",
    "**Q1**. The values of alpha and beta that minimize the loss function are -34.67 and 9.10 respectively. These match the intercept and slope coefficient obtained in Section 1.1.\n",
    "\n",
    "**Q2**. Generally, as the learning rate increases (not too much as divergence might occur), the number of iterations required for the algorithm to converge decreases. \n",
    "\n",
    "R = 0.01, Number of Iterations = 49014 <br>\n",
    "R = 0.02, Number of Iterations = 27388 <br>\n",
    "R = 0.03, Number of Iterations = 19382 <br>\n",
    "R = 0.04, Number of Iterations = 15134 <br>\n",
    "\n",
    "**Q3**. Generally, as learning rate increases, the algorithm running time decreases.\n",
    "\n",
    "R = 0.01, Running Time: 3.87 seconds <br>\n",
    "R = 0.02, Running Time: 1.82 seconds <br>\n",
    "R = 0.03, Running Time: 1.68 seconds <br>\n",
    "R = 0.04, Running Time: 1.32 seconds <br>\n",
    "\n",
    "**Q4**. Since a very small epsilon value of 1e-6 was used, the coefficients obtained from this gradient descent algorithm is very close to the ones estimated through standard libraries. Below a certain value of learning rate R, the accuracy of the beta and alpha values are similar and acceptable. However, increasing R beyond a certain threshold (approximately 0.05 in this case) results in divergence."
   ]
  },
  {
   "cell_type": "markdown",
   "metadata": {},
   "source": [
    "### 2.2 Data normalization (done for you!)\n",
    "\n",
    "Soon, you will implement a version of gradient descent that can use an arbitrary number of independent variables. Before doing this, we want to give you some code in case you want to standardize your features."
   ]
  },
  {
   "cell_type": "code",
   "execution_count": 10,
   "metadata": {},
   "outputs": [],
   "source": [
    "def standardize(raw_data):\n",
    "    return ((raw_data - np.mean(raw_data, axis = 0)) / np.std(raw_data, axis = 0))"
   ]
  },
  {
   "cell_type": "markdown",
   "metadata": {},
   "source": [
    "### 2.3 Implement gradient descent with an arbitrary number of independent variables\n",
    "\n",
    "Now that you have a simple version of gradient descent working, create a version of gradient descent that can take more than one independent variable.  Assume all independent variables will be continuous.  Test your algorithm using CRIM and RM as independent variables. Standardize these variables before before inputting them to the gradient descent algorithm. \n",
    "\n",
    "As before,  report and interpret your estimated coefficients, the number of iterations before convergence, and the total running time of your algorithm. Experiment with 2-3 different values of R.\n",
    "\n",
    "* *Hint 1: Be careful to implement this efficiently, otherwise it might take a long time for your code to run. Commands like `np.dot` can be a good friend to you on this problem*"
   ]
  },
  {
   "cell_type": "code",
   "execution_count": 11,
   "metadata": {
    "scrolled": true
   },
   "outputs": [],
   "source": [
    "\"\"\"\n",
    "Function\n",
    "--------\n",
    "multivariate_ols\n",
    "    Gradient Decent to minimize OLS. Used to find co-efficients of bivariate OLS Linear regression\n",
    "\n",
    "Parameters\n",
    "----------\n",
    "xvalues: narray\n",
    "    Independent Variable\n",
    "    \n",
    "yvalues: narray\n",
    "    Dependent Variable\n",
    "    \n",
    "R: float\n",
    "    Learning rate\n",
    "    \n",
    "MaxIterations: Int\n",
    "    Maximum number of iterations. Default is set to 5000\n",
    "    \n",
    "Returns\n",
    "-------\n",
    "alpha: float\n",
    "    intercept\n",
    "    \n",
    "beta_array: array[float]\n",
    "    co-efficient\n",
    "\"\"\"\n",
    "\n",
    "def multivariate_ols(xvalues, yvalues, R=0.01, MaxIterations=5000):\n",
    "    start_time = time.time()\n",
    "    xvalues = np.asarray(xvalues)\n",
    "    yvalues = np.asarray(yvalues)\n",
    "    epsilon = 1e-16\n",
    "    Iteration = 0\n",
    "    xsize = xvalues.shape[1]\n",
    "    \n",
    "    #initialize parameters to be optimized\n",
    "    beta = np.ones(xsize).reshape(xsize,1)\n",
    "    alpha = 0\n",
    "    prev_beta = np.zeros(xsize).reshape(xsize,1)\n",
    "    prev_alpha = 0\n",
    "    \n",
    "    while (((abs(alpha - prev_alpha) > epsilon) | (abs(beta - prev_beta) > epsilon).any()) & (Iteration < MaxIterations)):\n",
    "        alpha_update = np.mean(np.dot(xvalues, beta) + alpha - yvalues)\n",
    "        beta_update = np.mean(((np.dot(xvalues, beta) + alpha - yvalues) * xvalues), axis = 0)\n",
    "        prev_alpha = alpha\n",
    "        prev_beta = beta\n",
    "\n",
    "        #update parameters\n",
    "        alpha = alpha - R * alpha_update\n",
    "        beta = beta - R * beta_update.reshape(xsize,1)\n",
    "        Iteration += 1     \n",
    "    \n",
    "    print(\"Time taken: {:.2f} seconds\".format(time.time() - start_time))\n",
    "    print(\"Number of Iterations:\", Iteration)\n",
    "    print(\"Alpha:\", alpha, \"\\nBeta:\", beta)\n",
    "    return alpha, beta"
   ]
  },
  {
   "cell_type": "code",
   "execution_count": 12,
   "metadata": {},
   "outputs": [
    {
     "name": "stdout",
     "output_type": "stream",
     "text": [
      "Time taken: 0.06 seconds\n",
      "Number of Iterations: 409\n",
      "Alpha: 22.532806324110723 \n",
      "Beta: [[-2.24860926]\n",
      " [ 5.89441657]]\n",
      "\n",
      "\n",
      "Time taken: 0.98 seconds\n",
      "Number of Iterations: 3937\n",
      "Alpha: 22.532806324110563 \n",
      "Beta: [[-2.24860926]\n",
      " [ 5.89441657]]\n",
      "\n",
      "\n",
      "Time taken: 7.87 seconds\n",
      "Number of Iterations: 36538\n",
      "Alpha: 22.532806324108964 \n",
      "Beta: [[-2.24860926]\n",
      " [ 5.89441657]]\n"
     ]
    },
    {
     "data": {
      "text/plain": [
       "(22.532806324108964, array([[-2.24860926],\n",
       "        [ 5.89441657]]))"
      ]
     },
     "execution_count": 12,
     "metadata": {},
     "output_type": "execute_result"
    }
   ],
   "source": [
    "# standardize independent variables\n",
    "df_X = pd.DataFrame(bdata.data, columns = bdata.feature_names)\n",
    "df_Y = pd.DataFrame(bdata.target, columns = ['MEDV'])\n",
    "df = pd.concat([df_X, df_Y], axis = 1)\n",
    "df.iloc[:,:-1] = standardize(df.iloc[:,:-1])\n",
    "\n",
    "feature_select = ['CRIM','RM']\n",
    "xvalues = df.loc[:,feature_select]\n",
    "yvalues = df.loc[:,['MEDV']]\n",
    "\n",
    "multivariate_ols(xvalues, yvalues, 0.1, 50000)\n",
    "print('\\n')\n",
    "multivariate_ols(xvalues, yvalues, 0.01, 50000)\n",
    "print('\\n')\n",
    "multivariate_ols(xvalues, yvalues, 0.001, 50000)"
   ]
  },
  {
   "cell_type": "markdown",
   "metadata": {},
   "source": [
    "**To verify the accuracy of our results, we perform the multi-linear regression using standard libraries:**"
   ]
  },
  {
   "cell_type": "code",
   "execution_count": 13,
   "metadata": {},
   "outputs": [
    {
     "name": "stdout",
     "output_type": "stream",
     "text": [
      "                            OLS Regression Results                            \n",
      "==============================================================================\n",
      "Dep. Variable:                   MEDV   R-squared:                       0.541\n",
      "Model:                            OLS   Adj. R-squared:                  0.539\n",
      "Method:                 Least Squares   F-statistic:                     295.9\n",
      "Date:                Mon, 22 Oct 2018   Prob (F-statistic):           1.15e-85\n",
      "Time:                        18:11:38   Log-Likelihood:                -1643.5\n",
      "No. Observations:                 506   AIC:                             3293.\n",
      "Df Residuals:                     503   BIC:                             3306.\n",
      "Df Model:                           2                                         \n",
      "Covariance Type:            nonrobust                                         \n",
      "==============================================================================\n",
      "                 coef    std err          t      P>|t|      [0.025      0.975]\n",
      "------------------------------------------------------------------------------\n",
      "Intercept     22.5328      0.278     81.142      0.000      21.987      23.078\n",
      "CRIM          -2.2486      0.285     -7.899      0.000      -2.808      -1.689\n",
      "RM             5.8944      0.285     20.706      0.000       5.335       6.454\n",
      "==============================================================================\n",
      "Omnibus:                      170.471   Durbin-Watson:                   0.805\n",
      "Prob(Omnibus):                  0.000   Jarque-Bera (JB):             1034.461\n",
      "Skew:                           1.331   Prob(JB):                    2.34e-225\n",
      "Kurtosis:                       9.479   Cond. No.                         1.25\n",
      "==============================================================================\n",
      "\n",
      "Warnings:\n",
      "[1] Standard Errors assume that the covariance matrix of the errors is correctly specified.\n"
     ]
    }
   ],
   "source": [
    "lin_model3 = smf.ols(formula = 'MEDV ~ CRIM + RM', data = pd.concat([standardize(df_X),df_Y], axis = 1)).fit()\n",
    "print(lin_model3.summary())"
   ]
  },
  {
   "cell_type": "markdown",
   "metadata": {},
   "source": [
    "**SECTION 2.3**\n",
    "\n",
    "**Answers: ** \n",
    "\n",
    "To increase the accuracy of the intercept and slope coefficients obtained, a very small epsilon value of 1e-16 was used.\n",
    "\n",
    "**Q1**. The values of alpha and beta that minimize the loss function are 22.53 and (-2.25, 5.89) respectively. The accuracy of these values have been verified to be very similar to those obtained when we use built-in multi-regression libraries. \n",
    "\n",
    "**Q2**. Generally, as the learning rate decreases, the number of iterations required for the algorithm to converge increases. \n",
    "\n",
    "R = 0.1, Number of Iterations = 409 <br>\n",
    "R = 0.01, Number of Iterations = 3937 <br>\n",
    "R = 0.001, Number of Iterations = 36538 <br>\n",
    "\n",
    "**Q3**. Generally, as learning rate decreases, the algorithm running time increases.\n",
    "\n",
    "R = 0.1, Running Time: 0.06 seconds <br>\n",
    "R = 0.01, Running Time: 0.89 seconds <br>\n",
    "R = 0.001, Running Time: 5.73 seconds <br>"
   ]
  },
  {
   "cell_type": "markdown",
   "metadata": {},
   "source": [
    "### 2.4 Compare standardized vs. non-standardized results\n",
    "\n",
    "Repeat the analysis from 2.3, but this time do not standardize your variables - i.e., use the original data. Use the same three values of R (0.1, 0.01, and 0.001). What do you notice about the running time and convergence properties of your algorithm?"
   ]
  },
  {
   "cell_type": "code",
   "execution_count": 14,
   "metadata": {},
   "outputs": [
    {
     "name": "stdout",
     "output_type": "stream",
     "text": [
      "Time taken: 0.05 seconds\n",
      "Number of Iterations: 330\n",
      "Alpha: nan \n",
      "Beta: [[nan]\n",
      " [nan]]\n",
      "\n",
      "\n",
      "Time taken: 8.28 seconds\n",
      "Number of Iterations: 50000\n",
      "Alpha: -29.191953876474283 \n",
      "Beta: [[-0.26218941]\n",
      " [ 8.38047725]]\n",
      "\n",
      "\n",
      "Time taken: 9.54 seconds\n",
      "Number of Iterations: 50000\n",
      "Alpha: -12.32305090820048 \n",
      "Beta: [[-0.31853573]\n",
      " [ 5.75861851]]\n"
     ]
    },
    {
     "data": {
      "text/plain": [
       "(-12.32305090820048, array([[-0.31853573],\n",
       "        [ 5.75861851]]))"
      ]
     },
     "execution_count": 14,
     "metadata": {},
     "output_type": "execute_result"
    }
   ],
   "source": [
    "# non-standardized independent variables\n",
    "df_X = pd.DataFrame(bdata.data, columns = bdata.feature_names)\n",
    "df_Y = pd.DataFrame(bdata.target, columns = ['MEDV'])\n",
    "df = pd.concat([df_X, df_Y], axis = 1)\n",
    "\n",
    "feature_select = ['CRIM','RM']\n",
    "xvalues = df.loc[:,feature_select]\n",
    "yvalues = df.loc[:,['MEDV']]\n",
    "\n",
    "multivariate_ols(xvalues, yvalues, 0.1, 50000)\n",
    "print('\\n')\n",
    "multivariate_ols(xvalues, yvalues, 0.01, 50000)\n",
    "print('\\n')\n",
    "multivariate_ols(xvalues, yvalues, 0.001, 50000)"
   ]
  },
  {
   "cell_type": "markdown",
   "metadata": {},
   "source": [
    "**SECTION 2.4** \n",
    "\n",
    "**Answers:**\n",
    "\n",
    "The analysis from Section 2.3 was repeated with non-standardized independent variables. This has significant detrimental effects on the accuracy and convergence properties of the algorithm. \n",
    "\n",
    "When R = 0.1, the learning rate is deemed too high and the algorithm diverges. \n",
    "\n",
    "When R = 0.01, the algorithm converges to provide fairly accurate values of alpha and beta (verified with the built-in OLS algorithm from statsmodel library), but it uses up all 50,000 iterations allowed, which suggests that the error is still not smaller than epsilon, defined to be 1e-16 in this case.\n",
    "\n",
    "When R = 0.001, the algorithm is _unable to converge fast enough_ to produce accurate valeus of alpha and beta. Consequently, the estimates provided are inaccurate when all 50,000 allowed iterations have been performed. \n",
    "\n",
    "These erroneous results demonstrate the importance of standardizing the independent variables when utilizing gradient descent as an optimization tool. "
   ]
  },
  {
   "cell_type": "markdown",
   "metadata": {},
   "source": [
    "## 3. Prediction\n",
    "\n",
    "Let's use our fitted model to make predictions about housing prices. Make sure to first standardize your features before proceeding.\n",
    "\n",
    "### 3.1 Cross-Validation\n",
    "\n",
    "Unless you were careful above, you probably overfit your data again. Let's fix that in one of two ways. If you're feeling confident, use k-fold cross-validation to re-fit the multivariate regression from 2.3 above, and report your estimated coefficients (there should be three, corresponding to the intercept and the two coefficients for CRIM and RM). Or if you want to do the quick and dirty version, randomly divide your data into a training set (66%) and testing set (34%) and use the training set to re-fit the regression from 2.3 above. \n",
    "\n",
    "*NOTE: * If using k-fold cross-validation, you will end up with a different set of parameters for each fold. In this case, use the parameters from the fold that has the highest test performance."
   ]
  },
  {
   "cell_type": "code",
   "execution_count": 15,
   "metadata": {},
   "outputs": [],
   "source": [
    "def linreg_rmse(alpha, beta, xvalues, yvalues):\n",
    "    xvalues = np.asarray(xvalues)\n",
    "    yvalues = np.asarray(yvalues)\n",
    "    beta = np.asarray(beta)\n",
    "    alpha = np.asarray(alpha)\n",
    "    predicted_yvalues = np.sqrt(np.mean((np.dot(xvalues, beta) + alpha - yvalues)**2))\n",
    "    return predicted_yvalues"
   ]
  },
  {
   "cell_type": "code",
   "execution_count": 16,
   "metadata": {
    "scrolled": true
   },
   "outputs": [
    {
     "name": "stdout",
     "output_type": "stream",
     "text": [
      "Time taken: 0.78 seconds\n",
      "Number of Iterations: 3833\n",
      "Alpha: 22.569150562734688 \n",
      "Beta: [[-2.20683535]\n",
      " [ 5.80891007]]\n",
      "\n",
      "\n",
      "Time taken: 0.70 seconds\n",
      "Number of Iterations: 4003\n",
      "Alpha: 22.620765386263766 \n",
      "Beta: [[-2.23187519]\n",
      " [ 5.76262721]]\n",
      "\n",
      "\n",
      "Time taken: 0.77 seconds\n",
      "Number of Iterations: 4362\n",
      "Alpha: 22.48172403510935 \n",
      "Beta: [[-2.31544445]\n",
      " [ 5.69126699]]\n",
      "\n",
      "\n",
      "Time taken: 0.75 seconds\n",
      "Number of Iterations: 4040\n",
      "Alpha: 22.464011838080047 \n",
      "Beta: [[-2.12656883]\n",
      " [ 6.3353352 ]]\n",
      "\n",
      "\n",
      "Time taken: 0.63 seconds\n",
      "Number of Iterations: 3668\n",
      "Alpha: 22.63813454442697 \n",
      "Beta: [[-2.14117398]\n",
      " [ 5.76790549]]\n",
      "\n",
      "\n",
      "Time taken: 0.58 seconds\n",
      "Number of Iterations: 4441\n",
      "Alpha: 22.578696635860634 \n",
      "Beta: [[-2.4468356 ]\n",
      " [ 5.93113787]]\n",
      "\n",
      "\n",
      "Time taken: 0.45 seconds\n",
      "Number of Iterations: 3703\n",
      "Alpha: 22.517925227243808 \n",
      "Beta: [[-2.22610768]\n",
      " [ 5.96471452]]\n",
      "\n",
      "\n",
      "Time taken: 0.37 seconds\n",
      "Number of Iterations: 3819\n",
      "Alpha: 22.45985274352149 \n",
      "Beta: [[-2.23880013]\n",
      " [ 5.96964837]]\n",
      "\n",
      "\n",
      "Time taken: 0.38 seconds\n",
      "Number of Iterations: 4014\n",
      "Alpha: 22.405779846479273 \n",
      "Beta: [[-2.36389991]\n",
      " [ 5.81753149]]\n",
      "\n",
      "\n",
      "Time taken: 0.50 seconds\n",
      "Number of Iterations: 3814\n",
      "Alpha: 22.579789019203734 \n",
      "Beta: [[-2.25745665]\n",
      " [ 5.90020344]]\n",
      "\n",
      "\n",
      "10-fold Test RMSE: [5.959234663530616, 6.200027686135454, 4.107439993633237, 9.077574898637003, 5.452490816799484, 5.426396607849266, 4.9571033514537834, 7.991518488013538, 7.362085750205832, 4.544739064243571]\n"
     ]
    }
   ],
   "source": [
    "from sklearn.cross_validation import KFold\n",
    "\n",
    "# standardize independent variables\n",
    "df_X = pd.DataFrame(bdata.data, columns = bdata.feature_names)\n",
    "df_Y = pd.DataFrame(bdata.target, columns = ['MEDV'])\n",
    "df = pd.concat([standardize(df_X), df_Y], axis = 1)\n",
    "\n",
    "feature_select = ['CRIM','RM']\n",
    "\n",
    "xvalues = df.loc[:,feature_select]\n",
    "yvalues = df.loc[:,['MEDV']]\n",
    "\n",
    "test_rmse = []\n",
    "kf = KFold(n = len(df), n_folds = 10, shuffle = True, random_state = 1)\n",
    "\n",
    "for train, test in kf:    \n",
    "    (alpha, beta) = multivariate_ols(xvalues.iloc[train,:], yvalues.iloc[train,:], 0.01, 50000)\n",
    "    test_rmse.append(linreg_rmse(alpha, beta, xvalues.iloc[test,:], yvalues.iloc[test,:]))\n",
    "    print('\\n')\n",
    "\n",
    "print(\"10-fold Test RMSE:\", test_rmse)"
   ]
  },
  {
   "cell_type": "markdown",
   "metadata": {},
   "source": [
    "**SECTION 3.1**\n",
    "\n",
    "**Answers:**\n",
    "\n",
    "Here, I performed a 10-fold cross-validation to find suitable values of alpha and beta. The lowest test RMSE of 4.11 occurs when alpha = 22.48172 and beta = (-2.31544, 5.69127)."
   ]
  },
  {
   "cell_type": "markdown",
   "metadata": {},
   "source": [
    "### 3.2 Predicted values and RMSE\n",
    "\n",
    "Let's figure out how accurate this predictive model turned out to be. Compute the RMSE on your test cases, i.e. take the model parameters that you found above, predict the values for just the test instances, and compare the actual to the predicted values. If you did this the k-fold way above, this will be the average RMSE across the k test sets. If you did this the quick and dirty way above, this will just be the RMSE on your single test set.\n",
    "\n",
    "What is your test RMSE?  How does it compare to the performance of your nearest neighbor algorithm from the last problem set?"
   ]
  },
  {
   "cell_type": "code",
   "execution_count": 17,
   "metadata": {},
   "outputs": [
    {
     "name": "stdout",
     "output_type": "stream",
     "text": [
      "Average Test RMSE: 6.059765544590895\n"
     ]
    },
    {
     "data": {
      "text/plain": [
       "[5.963318867133821,\n",
       " 6.192197216669075,\n",
       " 4.1074388847563466,\n",
       " 8.804104323902447,\n",
       " 5.403154351401804,\n",
       " 5.343579811446785,\n",
       " 4.9252354381778485,\n",
       " 7.9693813037974985,\n",
       " 7.3535163058706265,\n",
       " 4.535728942752691]"
      ]
     },
     "execution_count": 17,
     "metadata": {},
     "output_type": "execute_result"
    }
   ],
   "source": [
    "beta = np.asarray([[-2.31544], [5.69127]])\n",
    "alpha = np.asarray([22.48172])\n",
    "\n",
    "kf = KFold(n = len(df), n_folds = 10, shuffle = True, random_state = 1)\n",
    "test_rmse = []\n",
    "for train, test in kf:\n",
    "    test_rmse.append(linreg_rmse(alpha, beta, xvalues.iloc[test,:], yvalues.iloc[test,:]))\n",
    "print(\"Average Test RMSE:\", np.mean(test_rmse))\n",
    "test_rmse"
   ]
  },
  {
   "cell_type": "markdown",
   "metadata": {},
   "source": [
    "**SECTION 3.2** \n",
    "\n",
    "**Answers:**\n",
    "\n",
    "For this section, we will use the values alpha = 22.48172 and beta = (-2.31544, 5.69127) obtained in the previous part. Performing a 10-fold cross-validation, the average test RMSE is 6.06, which is better than the test RMSE of 7.71 obtained from the nearest neighbor algorithm in Problem Set 3. "
   ]
  },
  {
   "cell_type": "markdown",
   "metadata": {},
   "source": [
    "### Extra Credit 1: Logistic Regression\n",
    "\n",
    "For extra credit, implement logistic regression using gradient descent. Create a new variable (EXPENSIVE) to indicate whether the median housing price is more than $40,000. Use your model  a logistic regression of EXPENSIVE on CHAS and RM. Report your results."
   ]
  },
  {
   "cell_type": "code",
   "execution_count": 18,
   "metadata": {
    "scrolled": true
   },
   "outputs": [
    {
     "data": {
      "text/html": [
       "<div>\n",
       "<style scoped>\n",
       "    .dataframe tbody tr th:only-of-type {\n",
       "        vertical-align: middle;\n",
       "    }\n",
       "\n",
       "    .dataframe tbody tr th {\n",
       "        vertical-align: top;\n",
       "    }\n",
       "\n",
       "    .dataframe thead th {\n",
       "        text-align: right;\n",
       "    }\n",
       "</style>\n",
       "<table border=\"1\" class=\"dataframe\">\n",
       "  <thead>\n",
       "    <tr style=\"text-align: right;\">\n",
       "      <th></th>\n",
       "      <th>CRIM</th>\n",
       "      <th>ZN</th>\n",
       "      <th>INDUS</th>\n",
       "      <th>CHAS</th>\n",
       "      <th>NOX</th>\n",
       "      <th>RM</th>\n",
       "      <th>AGE</th>\n",
       "      <th>DIS</th>\n",
       "      <th>RAD</th>\n",
       "      <th>TAX</th>\n",
       "      <th>PTRATIO</th>\n",
       "      <th>B</th>\n",
       "      <th>LSTAT</th>\n",
       "      <th>MEDV</th>\n",
       "      <th>EXPENSIVE</th>\n",
       "      <th>Intercept</th>\n",
       "    </tr>\n",
       "  </thead>\n",
       "  <tbody>\n",
       "    <tr>\n",
       "      <th>0</th>\n",
       "      <td>-0.417713</td>\n",
       "      <td>0.284830</td>\n",
       "      <td>-1.287909</td>\n",
       "      <td>-0.272599</td>\n",
       "      <td>-0.144217</td>\n",
       "      <td>0.413672</td>\n",
       "      <td>-0.120013</td>\n",
       "      <td>0.140214</td>\n",
       "      <td>-0.982843</td>\n",
       "      <td>-0.666608</td>\n",
       "      <td>-1.459000</td>\n",
       "      <td>0.441052</td>\n",
       "      <td>-1.075562</td>\n",
       "      <td>24.0</td>\n",
       "      <td>0</td>\n",
       "      <td>1</td>\n",
       "    </tr>\n",
       "    <tr>\n",
       "      <th>1</th>\n",
       "      <td>-0.415269</td>\n",
       "      <td>-0.487722</td>\n",
       "      <td>-0.593381</td>\n",
       "      <td>-0.272599</td>\n",
       "      <td>-0.740262</td>\n",
       "      <td>0.194274</td>\n",
       "      <td>0.367166</td>\n",
       "      <td>0.557160</td>\n",
       "      <td>-0.867883</td>\n",
       "      <td>-0.987329</td>\n",
       "      <td>-0.303094</td>\n",
       "      <td>0.441052</td>\n",
       "      <td>-0.492439</td>\n",
       "      <td>21.6</td>\n",
       "      <td>0</td>\n",
       "      <td>1</td>\n",
       "    </tr>\n",
       "    <tr>\n",
       "      <th>2</th>\n",
       "      <td>-0.415272</td>\n",
       "      <td>-0.487722</td>\n",
       "      <td>-0.593381</td>\n",
       "      <td>-0.272599</td>\n",
       "      <td>-0.740262</td>\n",
       "      <td>1.282714</td>\n",
       "      <td>-0.265812</td>\n",
       "      <td>0.557160</td>\n",
       "      <td>-0.867883</td>\n",
       "      <td>-0.987329</td>\n",
       "      <td>-0.303094</td>\n",
       "      <td>0.396427</td>\n",
       "      <td>-1.208727</td>\n",
       "      <td>34.7</td>\n",
       "      <td>0</td>\n",
       "      <td>1</td>\n",
       "    </tr>\n",
       "    <tr>\n",
       "      <th>3</th>\n",
       "      <td>-0.414680</td>\n",
       "      <td>-0.487722</td>\n",
       "      <td>-1.306878</td>\n",
       "      <td>-0.272599</td>\n",
       "      <td>-0.835284</td>\n",
       "      <td>1.016303</td>\n",
       "      <td>-0.809889</td>\n",
       "      <td>1.077737</td>\n",
       "      <td>-0.752922</td>\n",
       "      <td>-1.106115</td>\n",
       "      <td>0.113032</td>\n",
       "      <td>0.416163</td>\n",
       "      <td>-1.361517</td>\n",
       "      <td>33.4</td>\n",
       "      <td>0</td>\n",
       "      <td>1</td>\n",
       "    </tr>\n",
       "    <tr>\n",
       "      <th>4</th>\n",
       "      <td>-0.410409</td>\n",
       "      <td>-0.487722</td>\n",
       "      <td>-1.306878</td>\n",
       "      <td>-0.272599</td>\n",
       "      <td>-0.835284</td>\n",
       "      <td>1.228577</td>\n",
       "      <td>-0.511180</td>\n",
       "      <td>1.077737</td>\n",
       "      <td>-0.752922</td>\n",
       "      <td>-1.106115</td>\n",
       "      <td>0.113032</td>\n",
       "      <td>0.441052</td>\n",
       "      <td>-1.026501</td>\n",
       "      <td>36.2</td>\n",
       "      <td>0</td>\n",
       "      <td>1</td>\n",
       "    </tr>\n",
       "  </tbody>\n",
       "</table>\n",
       "</div>"
      ],
      "text/plain": [
       "       CRIM        ZN     INDUS      CHAS       NOX        RM       AGE  \\\n",
       "0 -0.417713  0.284830 -1.287909 -0.272599 -0.144217  0.413672 -0.120013   \n",
       "1 -0.415269 -0.487722 -0.593381 -0.272599 -0.740262  0.194274  0.367166   \n",
       "2 -0.415272 -0.487722 -0.593381 -0.272599 -0.740262  1.282714 -0.265812   \n",
       "3 -0.414680 -0.487722 -1.306878 -0.272599 -0.835284  1.016303 -0.809889   \n",
       "4 -0.410409 -0.487722 -1.306878 -0.272599 -0.835284  1.228577 -0.511180   \n",
       "\n",
       "        DIS       RAD       TAX   PTRATIO         B     LSTAT  MEDV  \\\n",
       "0  0.140214 -0.982843 -0.666608 -1.459000  0.441052 -1.075562  24.0   \n",
       "1  0.557160 -0.867883 -0.987329 -0.303094  0.441052 -0.492439  21.6   \n",
       "2  0.557160 -0.867883 -0.987329 -0.303094  0.396427 -1.208727  34.7   \n",
       "3  1.077737 -0.752922 -1.106115  0.113032  0.416163 -1.361517  33.4   \n",
       "4  1.077737 -0.752922 -1.106115  0.113032  0.441052 -1.026501  36.2   \n",
       "\n",
       "   EXPENSIVE  Intercept  \n",
       "0          0          1  \n",
       "1          0          1  \n",
       "2          0          1  \n",
       "3          0          1  \n",
       "4          0          1  "
      ]
     },
     "execution_count": 18,
     "metadata": {},
     "output_type": "execute_result"
    }
   ],
   "source": [
    "df_X = pd.DataFrame(bdata.data, columns = bdata.feature_names)\n",
    "df_Y = pd.DataFrame(bdata.target, columns = ['MEDV'])\n",
    "df = pd.concat([standardize(df_X), df_Y], axis = 1)\n",
    "df['EXPENSIVE'] = 0\n",
    "df.EXPENSIVE.iloc[:][df['MEDV'] > 40] = 1\n",
    "df['Intercept'] = 1\n",
    "df.head()"
   ]
  },
  {
   "cell_type": "code",
   "execution_count": 19,
   "metadata": {
    "scrolled": true
   },
   "outputs": [
    {
     "name": "stdout",
     "output_type": "stream",
     "text": [
      "Optimization terminated successfully.\n",
      "         Current function value: 0.115198\n",
      "         Iterations 9\n",
      "                        Results: Logit\n",
      "===============================================================\n",
      "Model:              Logit            No. Iterations:   9.0000  \n",
      "Dependent Variable: y                Pseudo R-squared: 0.500   \n",
      "Date:               2018-10-22 18:12 AIC:              122.5804\n",
      "No. Observations:   506              BIC:              135.2600\n",
      "Df Model:           2                Log-Likelihood:   -58.290 \n",
      "Df Residuals:       503              LL-Null:          -116.60 \n",
      "Converged:          1.0000           Scale:            1.0000  \n",
      "-----------------------------------------------------------------\n",
      "         Coef.    Std.Err.      z      P>|z|     [0.025    0.975]\n",
      "-----------------------------------------------------------------\n",
      "x1       0.3340     0.1797    1.8586   0.0631   -0.0182    0.6861\n",
      "x2       2.1627     0.2890    7.4843   0.0000    1.5963    2.7291\n",
      "const   -4.5804     0.4630   -9.8931   0.0000   -5.4878   -3.6729\n",
      "===============================================================\n",
      "\n"
     ]
    }
   ],
   "source": [
    "logit_model=sm.Logit(np.asarray(df.loc[:,'EXPENSIVE']), np.asarray(df.loc[:,['CHAS','RM','Intercept']]))\n",
    "result=logit_model.fit()\n",
    "print(result.summary2())"
   ]
  },
  {
   "cell_type": "markdown",
   "metadata": {},
   "source": [
    "## 4 Regularization \n",
    "\n",
    "### 4.1 Get prepped\n",
    "\n",
    "Step 1: Create new interaction variables between each possible pair of the F_s features. If you originally had *K* features, you should now have K+(K*(K+1))/2 features. Standardize all of your features.\n",
    "\n",
    "Step 2: For simplicity, generate a single training and testing set.  Randomly sample 66% of your data and call this the training set, and set aside the remaining 34% as your test set."
   ]
  },
  {
   "cell_type": "code",
   "execution_count": 20,
   "metadata": {
    "scrolled": true
   },
   "outputs": [
    {
     "name": "stdout",
     "output_type": "stream",
     "text": [
      "Original feature index: Index(['CRIM', 'ZN', 'INDUS', 'CHAS', 'NOX', 'RM', 'AGE', 'DIS', 'RAD', 'TAX',\n",
      "       'PTRATIO', 'B', 'LSTAT'],\n",
      "      dtype='object')\n",
      "\n",
      "Original number of features: 13\n",
      "\n",
      "New feature index: Index(['CRIM', 'ZN', 'INDUS', 'CHAS', 'NOX', 'RM', 'AGE', 'DIS', 'RAD', 'TAX',\n",
      "       ...\n",
      "       'TAXTAX', 'TAXPTRATIO', 'TAXB', 'TAXLSTAT', 'PTRATIOPTRATIO',\n",
      "       'PTRATIOB', 'PTRATIOLSTAT', 'BB', 'BLSTAT', 'LSTATLSTAT'],\n",
      "      dtype='object', length=104)\n",
      "\n",
      "New number of features: 104\n"
     ]
    }
   ],
   "source": [
    "from sklearn.model_selection import train_test_split\n",
    "import pandas as pd\n",
    "\n",
    "df_X = pd.DataFrame(bdata.data, columns = bdata.feature_names)\n",
    "df_Y = pd.DataFrame(bdata.target, columns = ['MEDV'])\n",
    "print('Original feature index:', df_X.columns)\n",
    "K = df_X.columns.size\n",
    "print('\\nOriginal number of features:', K)\n",
    "\n",
    "for i in range(K):\n",
    "    for j in range(i, K):       \n",
    "        df_X[df_X.columns[i] + df_X.columns[j]] = df_X.iloc[:,i] * df_X.iloc[:,j]\n",
    "\n",
    "print('\\nNew feature index:', df_X.columns)\n",
    "print('\\nNew number of features:', df_X.shape[1])"
   ]
  },
  {
   "cell_type": "code",
   "execution_count": 21,
   "metadata": {},
   "outputs": [
    {
     "name": "stdout",
     "output_type": "stream",
     "text": [
      "Shape of training set: (333, 105)\n",
      "Shape of test set: (173, 105)\n"
     ]
    }
   ],
   "source": [
    "training, test = train_test_split(pd.concat([standardize(df_X), df_Y], axis = 1), test_size = 0.34, random_state = 50)\n",
    "print('Shape of training set:', training.shape)\n",
    "print('Shape of test set:', test.shape)"
   ]
  },
  {
   "cell_type": "markdown",
   "metadata": {},
   "source": [
    "### 4.2 Overfitting (sort of)\n",
    "Now, using your version of multivariate regression from 2.3, let's overfit the training data. Using your training set, regress housing price on as many of those K+(K*(K+1))/2 features as you can (Don't forget to add quadratic terms. Form instance, RM^2.).  If you get too greedy, it's possible this will take a long time to compute, so start with 5-10 features, and if you have the time, add more features.\n",
    "\n",
    "Report the RMSE when you apply your model to your training set and to your testing set. How do these numbers compare to each other, and to the RMSE from 3.2 and nearest neighbors?"
   ]
  },
  {
   "cell_type": "code",
   "execution_count": 22,
   "metadata": {
    "scrolled": true
   },
   "outputs": [
    {
     "name": "stdout",
     "output_type": "stream",
     "text": [
      "Time taken: 17.04 seconds\n",
      "Number of Iterations: 50000\n",
      "Alpha: 22.554713123175233 \n",
      "Beta: [[ 1.15631236e-01]\n",
      " [-3.16688562e+00]\n",
      " [ 9.90659350e-01]\n",
      " [ 7.00272234e-01]\n",
      " [ 2.74799269e+00]\n",
      " [ 3.59248517e+00]\n",
      " [ 4.32106380e+00]\n",
      " [-5.48276052e+00]\n",
      " [ 5.01047867e+00]\n",
      " [ 1.97268032e+00]\n",
      " [ 2.02589678e-01]\n",
      " [ 5.19782397e+00]\n",
      " [ 3.21900347e+00]\n",
      " [ 1.67475957e+00]\n",
      " [-7.78504593e-02]\n",
      " [ 1.48858387e+00]\n",
      " [ 2.64697315e-01]\n",
      " [-1.12443292e+00]\n",
      " [-1.24838119e+00]\n",
      " [-5.50871423e-01]\n",
      " [-1.36326510e+00]\n",
      " [-1.23767403e+00]\n",
      " [-1.82686795e-01]\n",
      " [-1.51956511e-01]\n",
      " [-3.70112744e-01]\n",
      " [ 1.28124769e+00]\n",
      " [ 1.11611247e+00]\n",
      " [ 1.89022100e-03]\n",
      " [-2.57745953e-02]\n",
      " [-1.48795796e-01]\n",
      " [ 1.08077660e+00]\n",
      " [ 5.63265102e-02]\n",
      " [-1.57536914e+00]\n",
      " [-5.69474433e-01]\n",
      " [ 3.07976053e+00]\n",
      " [ 1.61154499e+00]\n",
      " [-7.09114438e-01]\n",
      " [-8.87421962e-01]\n",
      " [ 3.25069532e+00]\n",
      " [ 2.06200226e+00]\n",
      " [ 4.14076200e-01]\n",
      " [-3.33366069e+00]\n",
      " [ 2.55245636e+00]\n",
      " [ 4.38741437e-01]\n",
      " [ 3.36845987e+00]\n",
      " [ 2.95511955e+00]\n",
      " [-3.33549379e+00]\n",
      " [-2.29428077e-01]\n",
      " [-3.91785127e+00]\n",
      " [ 7.00272234e-01]\n",
      " [-4.05832302e+00]\n",
      " [-1.36676450e+00]\n",
      " [-5.26552315e-01]\n",
      " [-1.50323990e-02]\n",
      " [-1.65560531e-01]\n",
      " [ 8.40793399e-01]\n",
      " [ 2.51719040e+00]\n",
      " [-3.43007251e-01]\n",
      " [ 5.30014373e-02]\n",
      " [-2.11837726e+00]\n",
      " [-1.46294755e-01]\n",
      " [-2.26581789e+00]\n",
      " [-3.33597905e-01]\n",
      " [-5.64184535e-01]\n",
      " [-1.40061946e+00]\n",
      " [-2.24094696e+00]\n",
      " [-2.31849779e-01]\n",
      " [ 4.93134015e+00]\n",
      " [ 8.27663633e+00]\n",
      " [-2.53031885e+00]\n",
      " [-2.29687095e+00]\n",
      " [-1.83417396e+00]\n",
      " [-4.88114183e+00]\n",
      " [-4.56302559e+00]\n",
      " [ 8.43661425e-01]\n",
      " [-5.47820521e+00]\n",
      " [ 1.59745376e+00]\n",
      " [ 1.08335263e+00]\n",
      " [ 2.58322942e+00]\n",
      " [-1.06621326e+00]\n",
      " [ 9.35325330e-01]\n",
      " [-5.48813698e+00]\n",
      " [-3.02397096e+00]\n",
      " [ 6.04671909e+00]\n",
      " [ 5.05927130e-02]\n",
      " [-1.57355314e+00]\n",
      " [ 6.50396049e-01]\n",
      " [-1.84554455e+00]\n",
      " [ 8.17425476e-01]\n",
      " [-3.57919934e+00]\n",
      " [ 1.23134545e+00]\n",
      " [ 4.08438475e+00]\n",
      " [-2.25142987e+00]\n",
      " [-3.42314641e+00]\n",
      " [-1.56497121e+00]\n",
      " [ 4.66880339e+00]\n",
      " [-1.81177419e-01]\n",
      " [-3.62823788e+00]\n",
      " [ 6.15428274e-01]\n",
      " [ 3.48662586e+00]\n",
      " [ 2.24108196e+00]\n",
      " [-2.04833711e+00]\n",
      " [-8.05344348e-01]\n",
      " [ 2.08688876e+00]]\n",
      "\n",
      "Test RMSE: 3.702799964711681\n",
      "Training RMSE: 2.5941291577200247\n"
     ]
    }
   ],
   "source": [
    "import time\n",
    "alpha, beta = multivariate_ols(training.iloc[:,:-1], training.loc[:,['MEDV']], 0.01, 50000)\n",
    "testrmse = linreg_rmse(alpha, beta, test.iloc[:,:-1], test.loc[:,['MEDV']])\n",
    "trainingrmse = linreg_rmse(alpha, beta, training.iloc[:,:-1], training.loc[:,['MEDV']])\n",
    "print('\\nTest RMSE:', testrmse)\n",
    "print('Training RMSE:', trainingrmse)"
   ]
  },
  {
   "cell_type": "markdown",
   "metadata": {},
   "source": [
    "**SECTION 4.2**\n",
    "\n",
    "**Answers:**\n",
    "\n",
    "For this section, I managed to use all 104 features to overfit the training data, with an execution time of 23.2 seconds. The test RMSE of 3.70 is significantly higher than the training RMSE of 2.59, and this suggests that overfitting might have occurred.\n",
    "\n",
    "Nevertheless, the test RMSE of 3.70 in this case is substantially better than the test RMSE of 6.06 obtained in Section 3.2, indicating that some of the additional features introduced do enhance predictive capabilities. \n",
    "\n",
    "Moreover, compared to the test RMSE of about 7.71 for the basic nearest neighbor algorithm, the performance of this algorithm is significantly better. In fact, this algorithm is comparable to the performance of the K-nearest neighbor algorithm, which achieved an average test RMSE of about 3.42."
   ]
  },
  {
   "cell_type": "markdown",
   "metadata": {},
   "source": [
    "### 4.3 Ridge regularization\n",
    "Incorporate L2 (Ridge) regularization into your multivariate_ols regression. Write a new version of your gradient descent algorithm that includes a regularization term \"lambda\" to penalize excessive complexity. \n",
    "\n",
    "Use your regularized regression to re-fit the model from 4.2 above on your training data. Try this for several different values of lambda, and report your RMSE for each lambda separately for your training and testing data. How do these numbers compare to each other, to the RMSE from 4.2,  to the RMSE from 2.3, and to the RMSE from nearest neighbors?\n",
    "\n",
    "Go brag to your friends about how you just implemented ridge-regularized multivariate regression using gradient descent optimization, from scratch. If you still have friends."
   ]
  },
  {
   "cell_type": "code",
   "execution_count": 23,
   "metadata": {},
   "outputs": [],
   "source": [
    "\"\"\"\n",
    "Function\n",
    "--------\n",
    "multivariate_ols_ridge\n",
    "    Ridge Regularized Gradient Descent to minimize OLS. Used to find co-efficients of multivariate OLS Linear regression\n",
    "\n",
    "Parameters\n",
    "----------\n",
    "xvalues: narray\n",
    "    Independent Variable\n",
    "    \n",
    "yvalues: narray\n",
    "    Dependent Variable\n",
    "    \n",
    "R: float\n",
    "    Learning Rate\n",
    "\n",
    "l: float \n",
    "    Lambda - Regularization Parameter\n",
    "    \n",
    "MaxIterations: Int\n",
    "    Maximum number of iterations. Default is set to 5000\n",
    "    \n",
    "Returns\n",
    "-------\n",
    "alpha: float\n",
    "    intercept\n",
    "    \n",
    "beta_array: array[float]\n",
    "    co-efficient\n",
    "\"\"\"\n",
    "\n",
    "def multivariate_ols_ridge(xvalues, yvalues, R=0.01, l=0.5, MaxIterations=5000):\n",
    "    start_time = time.time()\n",
    "    xvalues = np.asarray(xvalues)\n",
    "    yvalues = np.asarray(yvalues)\n",
    "    epsilon = 1e-16\n",
    "    Iteration = 0\n",
    "    xsize = xvalues.shape[1]\n",
    "    \n",
    "    #initialize parameters to be optimized\n",
    "    beta = np.ones(xsize).reshape(xsize,1)\n",
    "    alpha = 0\n",
    "    prev_beta = np.zeros(xsize).reshape(xsize,1)\n",
    "    prev_alpha = 0\n",
    "    \n",
    "    while (((abs(alpha - prev_alpha) > epsilon) | (abs(beta - prev_beta) > epsilon).any()) & (Iteration < MaxIterations)):\n",
    "        alpha_update = np.mean(np.dot(xvalues, beta) + alpha - yvalues)\n",
    "        beta_update = np.mean(((np.dot(xvalues, beta) + alpha - yvalues) * xvalues), axis = 0)\n",
    "        prev_alpha = alpha\n",
    "        prev_beta = beta\n",
    "\n",
    "        #update parameters\n",
    "        alpha = alpha - R * alpha_update\n",
    "        beta = beta * (1 - R * l /len(xvalues)) - R * beta_update.reshape(xsize,1)\n",
    "        Iteration += 1     \n",
    "    \n",
    "    print(\"Time taken: {:.2f} seconds\".format(time.time() - start_time))\n",
    "    print(\"Number of Iterations:\", Iteration)\n",
    "    #print(\"Alpha:\", alpha, \"\\nBeta:\", beta)\n",
    "    return alpha, beta"
   ]
  },
  {
   "cell_type": "code",
   "execution_count": 24,
   "metadata": {
    "scrolled": true
   },
   "outputs": [
    {
     "name": "stdout",
     "output_type": "stream",
     "text": [
      "Calculating for lambda =  0.001 ...\n",
      "Time taken: 18.31 seconds\n",
      "Number of Iterations: 50000\n",
      "Calculating for lambda =  0.01 ...\n",
      "Time taken: 17.80 seconds\n",
      "Number of Iterations: 50000\n",
      "Calculating for lambda =  0.1 ...\n",
      "Time taken: 17.79 seconds\n",
      "Number of Iterations: 50000\n",
      "Calculating for lambda =  1 ...\n",
      "Time taken: 18.00 seconds\n",
      "Number of Iterations: 50000\n",
      "Calculating for lambda =  10 ...\n",
      "Time taken: 19.74 seconds\n",
      "Number of Iterations: 50000\n",
      "\n",
      "Test RMSE: [3.7027529093133316, 3.7023423236321933, 3.699424248070182, 3.7319142041834574, 4.174287642258579]\n",
      "\n",
      "Training RMSE: [2.594259809683202, 2.595437318668387, 2.6073397850771602, 2.7204567452029633, 3.154801192519084]\n"
     ]
    }
   ],
   "source": [
    "l = [0.001, 0.01, 0.1, 1, 10]\n",
    "testrmse = []\n",
    "trainingrmse = []\n",
    "\n",
    "for i in range(len(l)):\n",
    "    print('Calculating for lambda = ', l[i], '...')\n",
    "    alpha, beta = multivariate_ols_ridge(training.iloc[:,:-1], training.loc[:,['MEDV']], 0.01, l[i], 50000)\n",
    "    rmse = linreg_rmse(alpha, beta, test.iloc[:,:-1], test.loc[:,['MEDV']])\n",
    "    testrmse.append(rmse)\n",
    "    rmse = linreg_rmse(alpha, beta, training.iloc[:,:-1], training.loc[:,['MEDV']])\n",
    "    trainingrmse.append(rmse)\n",
    "\n",
    "print('\\nTest RMSE:', testrmse)\n",
    "print('\\nTraining RMSE:', trainingrmse)"
   ]
  },
  {
   "cell_type": "markdown",
   "metadata": {},
   "source": [
    "**SECTION 4.3**\n",
    "\n",
    "**Answers:**\n",
    "\n",
    "L2 regularization was incorporated into the multivariate_ols regression algorithm, and lambda values in the range [0.001, 0.01, 0.1, 1, 10] were tested. In general, within this range, as the size of the regularization parameter increases, both the test and training RMSEs hover around the same values before increasing. We expect predictive performance to decrease as we increase the regularization parameter beyond a certain threshold because the model is now prevented from using too many features for prediction. \n",
    "\n",
    "Also, as the regularization parameter increases, the _relative gap_ between the training and test RMSEs become smaller. Compared to the average test RMSE of 6.06 obtained in Section 3, this ridge regression gradient descent algorithm performs much better. However, it has approximately the same performance (in terms of RMSE) compared to the non-regularized multivariate regression performed in Section 4.2"
   ]
  },
  {
   "cell_type": "markdown",
   "metadata": {},
   "source": [
    "### Extra Credit 2: Cross-validate lambda\n",
    "\n",
    "Use k-fold cross-validation to select the optimal value of lambda. Report the average RMSE across all training sets, and the average RMSE across all testing sets. How do these numbers compare to each other, to the RMSE from your previous efforts?  Finally, create a scatter plot that shows RMSE as a function of lambda."
   ]
  },
  {
   "cell_type": "code",
   "execution_count": 25,
   "metadata": {
    "scrolled": true
   },
   "outputs": [
    {
     "name": "stdout",
     "output_type": "stream",
     "text": [
      "Calculating for lambda = 0.001 and K = 1 / 5\n",
      "Time taken: 24.91 seconds\n",
      "Number of Iterations: 50000\n",
      "Calculating for lambda = 0.001 and K = 2 / 5\n",
      "Time taken: 24.29 seconds\n",
      "Number of Iterations: 50000\n",
      "Calculating for lambda = 0.001 and K = 3 / 5\n",
      "Time taken: 19.71 seconds\n",
      "Number of Iterations: 50000\n",
      "Calculating for lambda = 0.001 and K = 4 / 5\n",
      "Time taken: 23.05 seconds\n",
      "Number of Iterations: 50000\n",
      "Calculating for lambda = 0.001 and K = 5 / 5\n",
      "Time taken: 20.97 seconds\n",
      "Number of Iterations: 50000\n",
      "Calculating for lambda = 0.005 and K = 1 / 5\n",
      "Time taken: 21.35 seconds\n",
      "Number of Iterations: 50000\n",
      "Calculating for lambda = 0.005 and K = 2 / 5\n",
      "Time taken: 20.79 seconds\n",
      "Number of Iterations: 50000\n",
      "Calculating for lambda = 0.005 and K = 3 / 5\n",
      "Time taken: 19.01 seconds\n",
      "Number of Iterations: 50000\n",
      "Calculating for lambda = 0.005 and K = 4 / 5\n",
      "Time taken: 20.90 seconds\n",
      "Number of Iterations: 50000\n",
      "Calculating for lambda = 0.005 and K = 5 / 5\n",
      "Time taken: 19.69 seconds\n",
      "Number of Iterations: 50000\n",
      "Calculating for lambda = 0.01 and K = 1 / 5\n",
      "Time taken: 21.83 seconds\n",
      "Number of Iterations: 50000\n",
      "Calculating for lambda = 0.01 and K = 2 / 5\n",
      "Time taken: 18.92 seconds\n",
      "Number of Iterations: 50000\n",
      "Calculating for lambda = 0.01 and K = 3 / 5\n",
      "Time taken: 19.85 seconds\n",
      "Number of Iterations: 50000\n",
      "Calculating for lambda = 0.01 and K = 4 / 5\n",
      "Time taken: 21.60 seconds\n",
      "Number of Iterations: 50000\n",
      "Calculating for lambda = 0.01 and K = 5 / 5\n",
      "Time taken: 23.17 seconds\n",
      "Number of Iterations: 50000\n",
      "Calculating for lambda = 0.05 and K = 1 / 5\n",
      "Time taken: 19.27 seconds\n",
      "Number of Iterations: 50000\n",
      "Calculating for lambda = 0.05 and K = 2 / 5\n",
      "Time taken: 21.86 seconds\n",
      "Number of Iterations: 50000\n",
      "Calculating for lambda = 0.05 and K = 3 / 5\n",
      "Time taken: 20.98 seconds\n",
      "Number of Iterations: 50000\n",
      "Calculating for lambda = 0.05 and K = 4 / 5\n",
      "Time taken: 20.49 seconds\n",
      "Number of Iterations: 50000\n",
      "Calculating for lambda = 0.05 and K = 5 / 5\n",
      "Time taken: 20.59 seconds\n",
      "Number of Iterations: 50000\n",
      "Calculating for lambda = 0.1 and K = 1 / 5\n",
      "Time taken: 20.99 seconds\n",
      "Number of Iterations: 50000\n",
      "Calculating for lambda = 0.1 and K = 2 / 5\n",
      "Time taken: 22.86 seconds\n",
      "Number of Iterations: 50000\n",
      "Calculating for lambda = 0.1 and K = 3 / 5\n",
      "Time taken: 22.43 seconds\n",
      "Number of Iterations: 50000\n",
      "Calculating for lambda = 0.1 and K = 4 / 5\n",
      "Time taken: 20.74 seconds\n",
      "Number of Iterations: 50000\n",
      "Calculating for lambda = 0.1 and K = 5 / 5\n",
      "Time taken: 19.09 seconds\n",
      "Number of Iterations: 50000\n",
      "Calculating for lambda = 1 and K = 1 / 5\n",
      "Time taken: 19.98 seconds\n",
      "Number of Iterations: 50000\n",
      "Calculating for lambda = 1 and K = 2 / 5\n",
      "Time taken: 20.22 seconds\n",
      "Number of Iterations: 50000\n",
      "Calculating for lambda = 1 and K = 3 / 5\n",
      "Time taken: 22.86 seconds\n",
      "Number of Iterations: 50000\n",
      "Calculating for lambda = 1 and K = 4 / 5\n",
      "Time taken: 19.69 seconds\n",
      "Number of Iterations: 50000\n",
      "Calculating for lambda = 1 and K = 5 / 5\n",
      "Time taken: 19.21 seconds\n",
      "Number of Iterations: 50000\n",
      "Calculating for lambda = 10 and K = 1 / 5\n",
      "Time taken: 19.28 seconds\n",
      "Number of Iterations: 50000\n",
      "Calculating for lambda = 10 and K = 2 / 5\n",
      "Time taken: 20.04 seconds\n",
      "Number of Iterations: 50000\n",
      "Calculating for lambda = 10 and K = 3 / 5\n",
      "Time taken: 18.58 seconds\n",
      "Number of Iterations: 50000\n",
      "Calculating for lambda = 10 and K = 4 / 5\n",
      "Time taken: 20.69 seconds\n",
      "Number of Iterations: 50000\n",
      "Calculating for lambda = 10 and K = 5 / 5\n",
      "Time taken: 22.72 seconds\n",
      "Number of Iterations: 50000\n",
      "Calculating for lambda = 100 and K = 1 / 5\n",
      "Time taken: 5.51 seconds\n",
      "Number of Iterations: 11983\n",
      "Calculating for lambda = 100 and K = 2 / 5\n",
      "Time taken: 4.68 seconds\n",
      "Number of Iterations: 11964\n",
      "Calculating for lambda = 100 and K = 3 / 5\n",
      "Time taken: 3.69 seconds\n",
      "Number of Iterations: 12060\n",
      "Calculating for lambda = 100 and K = 4 / 5\n",
      "Time taken: 3.80 seconds\n",
      "Number of Iterations: 12031\n",
      "Calculating for lambda = 100 and K = 5 / 5\n",
      "Time taken: 3.64 seconds\n",
      "Number of Iterations: 11999\n",
      "Calculating for lambda = 1000 and K = 1 / 5\n",
      "Time taken: 0.95 seconds\n",
      "Number of Iterations: 3241\n",
      "Calculating for lambda = 1000 and K = 2 / 5\n",
      "Time taken: 0.93 seconds\n",
      "Number of Iterations: 3239\n",
      "Calculating for lambda = 1000 and K = 3 / 5\n",
      "Time taken: 0.94 seconds\n",
      "Number of Iterations: 3240\n",
      "Calculating for lambda = 1000 and K = 4 / 5\n",
      "Time taken: 0.99 seconds\n",
      "Number of Iterations: 3233\n",
      "Calculating for lambda = 1000 and K = 5 / 5\n",
      "Time taken: 0.92 seconds\n",
      "Number of Iterations: 3234\n",
      "Calculating for lambda = 10000 and K = 1 / 5\n",
      "Time taken: 1.00 seconds\n",
      "Number of Iterations: 3225\n",
      "Calculating for lambda = 10000 and K = 2 / 5\n",
      "Time taken: 0.94 seconds\n",
      "Number of Iterations: 3224\n",
      "Calculating for lambda = 10000 and K = 3 / 5\n",
      "Time taken: 0.94 seconds\n",
      "Number of Iterations: 3226\n",
      "Calculating for lambda = 10000 and K = 4 / 5\n",
      "Time taken: 0.95 seconds\n",
      "Number of Iterations: 3223\n",
      "Calculating for lambda = 10000 and K = 5 / 5\n",
      "Time taken: 1.06 seconds\n",
      "Number of Iterations: 3224\n",
      "Average Test RMSE for each lambda: [3.512441434822436, 3.512083515814126, 3.5116403469162543, 3.5082596697756765, 3.504424445336313, 3.48062913540696, 3.639716378665464, 4.321524777241077, 5.110133142130708, 6.977096273860833]\n",
      "\n",
      "Average Training RMSE for each lambda: [2.6109518353801535, 2.6113488935726368, 2.611846272371511, 2.615865058530594, 2.6209764982822636, 2.715784698350621, 3.1695657972039952, 4.054004832091029, 4.984734783521003, 6.9469622118071594]\n"
     ]
    }
   ],
   "source": [
    "df = pd.concat([standardize(df_X), df_Y], axis = 1)\n",
    "\n",
    "l = [0.001, 0.005, 0.01, 0.05, 0.1, 1, 10, 100, 1000, 10000]\n",
    "kf = KFold(n = len(df), n_folds = 5, shuffle = True, random_state = 1)\n",
    "\n",
    "avgtestrmse = []\n",
    "avgtrainingrmse = []\n",
    "\n",
    "for i in range(len(l)):\n",
    "    k = 1\n",
    "    testrmse = []\n",
    "    trainingrmse = []\n",
    "    \n",
    "    for train, test in kf:\n",
    "        print('Calculating for lambda =', l[i], 'and K =', k, '/ 5')\n",
    "        alpha, beta = multivariate_ols_ridge(df.iloc[train,:-1], df.loc[train,['MEDV']], 0.01, l[i], 50000)\n",
    "        rmse = linreg_rmse(alpha, beta, df.iloc[test,:-1], df.loc[test,['MEDV']])\n",
    "        testrmse.append(rmse)\n",
    "        rmse = linreg_rmse(alpha, beta, df.iloc[train,:-1], df.loc[train,['MEDV']])\n",
    "        trainingrmse.append(rmse)\n",
    "        k += 1\n",
    "        \n",
    "    avgtestrmse.append(np.mean(testrmse))\n",
    "    avgtrainingrmse.append(np.mean(trainingrmse))\n",
    "    \n",
    "print(\"Average Test RMSE for each lambda:\", avgtestrmse)\n",
    "print(\"\\nAverage Training RMSE for each lambda:\", avgtrainingrmse)"
   ]
  },
  {
   "cell_type": "markdown",
   "metadata": {},
   "source": [
    "**Note that the above cell might take around 15 minutes to run. If preferred, the values obtained from the simulation (below) can be commented off to plot the graph instead.**"
   ]
  },
  {
   "cell_type": "code",
   "execution_count": 39,
   "metadata": {},
   "outputs": [
    {
     "data": {
      "text/plain": [
       "(2, 10)"
      ]
     },
     "execution_count": 39,
     "metadata": {},
     "output_type": "execute_result"
    },
    {
     "data": {
      "image/png": "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\n",
      "text/plain": [
       "<matplotlib.figure.Figure at 0x24f017a6e48>"
      ]
     },
     "metadata": {},
     "output_type": "display_data"
    }
   ],
   "source": [
    "#avgtestrmse = [3.512441434822436, 3.512083515814126, 3.5116403469162543, 3.5082596697756765, 3.504424445336313, 3.48062913540696, 3.639716378665464, 4.321524777241077, 5.110133142130708, 6.977096273860833]\n",
    "#avgtrainingrmse = [2.6109518353801535, 2.6113488935726368, 2.611846272371511, 2.615865058530594, 2.6209764982822636, 2.715784698350621, 3.1695657972039952, 4.054004832091029, 4.984734783521003, 6.9469622118071594]\n",
    "#l = [0.001, 0.005, 0.01, 0.05, 0.1, 1, 10, 100, 1000, 10000]\n",
    "\n",
    "fig, ax = plt.subplots(figsize = (12,6))\n",
    "plt.xscale('log')\n",
    "plt.scatter(l, avgtestrmse)\n",
    "plt.scatter(l, avgtrainingrmse)\n",
    "ax.set_xlabel('Regularization Parameter Lambda', fontsize = 14)\n",
    "ax.set_ylabel('RMSE', fontsize = 14)\n",
    "ax.set_title('Training and Test RMSEs against Regularization Parameter Lambda', fontsize = 14)\n",
    "ax.legend(['Test RMSE', 'Training RMSE'], fontsize = 14)\n",
    "plt.ylim(2, 10)"
   ]
  },
  {
   "cell_type": "markdown",
   "metadata": {},
   "source": [
    "**EXTRA CREDIT 2**\n",
    "\n",
    "**Answers: **\n",
    "\n",
    "To obtain the optimal value of lambda, we performed a 5-fold cross-validation and recorded the average training and test RMSEs for each combination. As before, we perform the multivariate regression (gradient descent) on all 104 features. \n",
    "\n",
    "The simulations were performed for lambda = [0.001, 0.005, 0.01, 0.05, 0.1, 1, 10, 100, 1000, 10000]. For this range of lambda, it appears that there is a very minimal decrease in test RMSE from 3.5124 to 3.4806 before it increases significantly. As such, when operating on 104 features, there is no significant increase in performance by adding a regularization term to the multivariate regression function. In this case, the optimal value of lambda is 1, where we obtain a training RMSE of 2.7158 and a test RMSE of 3.4806. "
   ]
  },
  {
   "cell_type": "markdown",
   "metadata": {},
   "source": [
    "### (Showoff) Extra Credit 3: Lambda and coefficients\n",
    "\n",
    "If you're feeling extra-special, create a parameter plot that shows how the different coefficient estimates change as a function of lambda. To make this graph intelligible, only include the *K* original F_s features in this plot"
   ]
  },
  {
   "cell_type": "code",
   "execution_count": 41,
   "metadata": {
    "scrolled": true
   },
   "outputs": [
    {
     "name": "stdout",
     "output_type": "stream",
     "text": [
      "Time taken: 10.28 seconds\n",
      "Number of Iterations: 46321\n",
      "Time taken: 11.03 seconds\n",
      "Number of Iterations: 45179\n",
      "Time taken: 8.67 seconds\n",
      "Number of Iterations: 36324\n",
      "Time taken: 2.75 seconds\n",
      "Number of Iterations: 11874\n",
      "Time taken: 1.23 seconds\n",
      "Number of Iterations: 4594\n",
      "Time taken: 0.85 seconds\n",
      "Number of Iterations: 3221\n",
      "Time taken: 0.87 seconds\n",
      "Number of Iterations: 3221\n",
      "Time taken: 0.62 seconds\n",
      "Number of Iterations: 3221\n",
      "Time taken: 0.72 seconds\n",
      "Number of Iterations: 3221\n"
     ]
    }
   ],
   "source": [
    "df_X = pd.DataFrame(bdata.data, columns = bdata.feature_names)\n",
    "df_Y = pd.DataFrame(bdata.target, columns = ['MEDV'])\n",
    "df = pd.concat([standardize(df_X), df_Y], axis = 1)\n",
    "lamb = [0.1, 1, 10, 100, 300, 500, 800, 1000, 1e4]\n",
    "\n",
    "betalist = []\n",
    "\n",
    "for i in range(len(lamb)):\n",
    "    alpha, beta = multivariate_ols_ridge(df.iloc[:,:-1], df.loc[:,['MEDV']], 0.01, lamb[i], 50000)\n",
    "    betalist.append(beta)"
   ]
  },
  {
   "cell_type": "code",
   "execution_count": 51,
   "metadata": {},
   "outputs": [
    {
     "data": {
      "text/plain": [
       "<matplotlib.legend.Legend at 0x24f7ff630f0>"
      ]
     },
     "execution_count": 51,
     "metadata": {},
     "output_type": "execute_result"
    },
    {
     "data": {
      "image/png": "iVBORw0KGgoAAAANSUhEUgAABJUAAALSCAYAAABkueAwAAAABHNCSVQICAgIfAhkiAAAAAlwSFlzAAALEgAACxIB0t1+/AAAADl0RVh0U29mdHdhcmUAbWF0cGxvdGxpYiB2ZXJzaW9uIDIuMS4yLCBodHRwOi8vbWF0cGxvdGxpYi5vcmcvNQv5yAAAIABJREFUeJzs3Xd4HOW5/vH7Wa26JblgXHEvsi3Aso0bzQQ7hNAhQDAJ5aQnnBMI/EggBEICJOFQUoCck5DQSyCQE5oDNrGNKTa494q7wRVrJavu7vv7Y0byqloylkfl+7muvaTdmZ15ZnZ27b31zjPmnBMAAAAAAADQFKGgCwAAAAAAAEDrQ6gEAAAAAACAJiNUAgAAAAAAQJMRKgEAAAAAAKDJCJUAAAAAAADQZIRKAAAAAAAAaDJCJQAAjjAzO9nMlppZuZnNqusxM+tnZs7MxjRymT83s+XNWngLxz44yD92vnIElvO4mb12JGpqYB1NOtbRPpjZJP+4OKaJz/uKmbnmqgsA0DSESgDQjvlfKF0dt5FHcB0tJgjwv8S8ZmZ7zKzEzFab2R/MrN8RXtXvJC2RNFDSxfU8tlVSD0mLG7nM+ySdfiSLbIVf9o/oPjCza8ysqBHzTarx/thrZv82s5OPVC0B+qGkrx2phfmB6UM1Hm7qsX646675Ou02s2lmdmJzrre5NXfw1wo/BwAALQihEgBghrwvfIm3FhEC1WRmKZ/jud+R9LakvZIulTRM0jfk/Vt42xEp8KBBkv7tnNvqnNtX12POuZhz7lPnXLQxC3TOFTnn9h7hOluVFrAPRsh7f0yStFvS62Z2bID1HDYzC5uZOecKnHP7m3NdTT3Wj4DK1+kcSZ0k/cvMcg53YWaWfKQKC1Llax50HQCAtoVQCQBQ5n/hS7xFJck8N5vZBn9kzzIzqzaqwcx+bWZr/OmbzOxeM0vzp10j6Q5JIxJGD1zjT6t1+o7//JsS7jsz+4GZvWxmByTd4z8+3MxeN7NCM9tlZs+ZWff6NtDMekv6vaSHnXNXO+dmOuc2Oefec879QFLiOi/2t7PMzLaa2U8Tv4iZWYqZ/cbMtpnZATP7yMzO8qf180/LyJH018rtreexWqMDzCzXzF4xswIzKzKzD8zseH9arRFfZnatma00s1IzW2tmN5hZKGG6M7Nvm9mLfq0f13j9Nvo/P/LnneU/73gze9vMIv4+XmJmZzSwf79kZnPM7DMz22dmb5rZsBrzjDOzhX6ti8zsy/46J/nTk8zsL2a20T+W1vnHXuL2VNsHlSM4zOyHZrbdX/9jZpaRMM9pZjbX358FZjbPzPL89T4mKTPh2Px5fdvo2+W/P5ZJukveazquia/JEDOb7U9f4++HooT3RZ2jRup6v9SYXu/7MHHf+cfeBkll/rZXjYKx2iN9Km+z/OldzHuvbfPXs8LMrk18PeSNJPtBwnP71XOsn+a/FqVmttPMHrSE0Ni8EU+PmNk95o0s3GVm9yXuy0a8Th9KulFSd0nj/eV+zbz3bOVnx4tm1ithvZX74Mtm9qGZlUs6y8wGmtk/zexT895LC83s3BqvwSYzu93fp4XmfX5cbmYdzex5/3VeZ2ZfrPG8ej/P/GPyaknnJOzTSf60Xv5yP/Nvr5vZ4EO95o3Yf9U057b7xpvZYv9YWGBmo2ss+yoz22xmxf6x2q2p9QEAmg+hEgCgIXfJG83zA0nDJf1K0v+a2TkJ8xyQ9B/yRv58X9JXJf3Un/Y3SfdLWqODo6D+1sQa7pD0hqTjJT1sZj0kvSNvNNVYSZMldZD0SgNfOC+VlCLp13VNrByp4X+ZeVHSy/76fiLpFknXJcz+mLwvzlP9eZ6Q9Kp5p9hUnuZTLOl6//cX63is1j4ws56S3pXkJE2RNErSw5KS6qrZzL4lL2S7Xd6+v1HSj+W9Bolul/RPSSf66/2rmfX1p431f37Jr6vyVL1nJX3iT8+X9HNJpXXV4cuU9Ft//kmSCvx9kuLX2kHSa5JWSxot6WZJ/11jGSFJ2yVd5m/PTyXdKulaNexUSXnyjoPLJV0k75QumVnY3/Z3/e0fJ+80xJik9+W9HsU6eGzed4h1yV9uRkJdFQmPN/ia+MfnPyRF5YUc18g7vlMbs95DaOh9WKm/vOP2Unn7o+Zr+r6qj1gcI2m/pFn+9DRJCyWdK2800O/kfR6c6U//oaQP5L1HKpextWahfogzTdIiecfXNyRdIe/zJdGV8vbVRHnvwevlvcZNUeL/rBxtlCJvn5/ob8cxkp6r43m/kTeCMVfSPHmfMdPkvTdPlPSSpJfNLLfG866X9KG89+8L8j4fnpX3GTZS3mfX03YweD/U59l9/nISR5S+7x+DM+W9hqdLmiDvPTvDEkJVHfo1b4xm2fYE98l7n4yR9LG8EYAZ/v4ZJ+lxSX/yl/GqpF8cZn0AgObgnOPGjRs3bu30Ju8/61FJRQm3af60THlfyE6t8ZzfSnqjgWV+V9L6hPs/l7S8jvmcpK/UeGyTpJtqzPOHGvP8QtLbNR7r5M87tp6aHpFU0Ij98Yy8U9RUo/5t/u8DJcUl9akxz/9JeiThfpGka2rMU+0xSf38msf49++WtFlSSj21VduPkrZI+nqNea6XtLLG/vtVwv2wvBDla3XVkDBfRNLVn+O4ypQX3Jzi3/+OpH2S0hPmmeqve1IDy/m1pBkN7IPH5YUW4YTH/lz5HEmd/XWcXs/yr5FU1IjtmeQvp/I9EvfvfyQpubGviaSz5L3feiVMn+gv65pDvCbV3i817zfyfVghqVuN+R6X9Fodz0+XNF9ewGoNrOd5SY8m3J8l6aEa89R1rK+XFKrxWpRJykhYzgc1ljM9cV0NvE7H+Pe7yAsVI5KOrec5uf5zetdYxiWNOC7mSrot4f4mSc8l3O/gL+v3DeyLQ36e1fUayQsQ1yW+NvIC6L2SLmvoNa9jO+o85o7Ctlfu6ytrPG+/pG/695+VNL3Guh+V5JpSHzdu3Lhxa75bWACA9u4dSd9OuF/5l/3h8kYm/MuqX2knWd4XCEnelXjkfXEeJO8LQZLqGV1zmObXuD9a0mlWd4PlgfL+Ul6TyfvycijDJL1e47F3Jd1hZtny/gJvklZa9dYkqZL+3YjlNyRf0rvOufJDzWhmXSUdJ2+UyB8TJoX9+hItrfzFORc1s92SDtUH6AFJj5rZ1fL6UL3knFvdQD0DJf1S3kigrvJGHYUk9fFnyZUXBpUkPG1eHcv5rqRvSuorL9RIlhe0NWSlq96rZ4dfh5xz+8w7JetNM3vb35YXnXO1Rs800hnyRmHlyxtVc7VzrsKvvTGvSa6kHc657QnTP5IXUn0ujXwfbnPO7WzEskxekJEkLyRz/uNJ8kbvXS6pl7zjPkUHRzI11jB5gVHidr/rL2uQDh6zS2s8b4cOfexK0ib//ZkpL3i51Dm3y9+GUfJGKo2UFzpWvjZ9JG1LWEa1zx0zy/Sfd6680ULJ8j4fa9aY+H4rMrNiScsSplfu/8rtOJzPs8rn9ZdUWOOzKMN/XqVGveYNacZtr/RBjectk/fvj+QdK6/WMf83DqM+AEAzIFQCABQ759bX8XjlqWTnyRuBkajyi/R4eSMV7pR0g7y/MJ+vxp1G5FQ7AKmrIe6BOup6XQl9kBLU9+VpraQcM+vpnNvRQE0NhU/OX7eTdJISTnvyldR6RtM0pYFu5WvzXXmnLDWkZp2V21Ev59zPzewZSWfLG11zh5l91zn313qe8qq8U9e+4/+MSlopLySQGhHqmdnl8kbB3SRvmyLyTru8qKHn6RDb55y71sx+K+8Uv/Ml3W1mFzrn3jzEcuuy0Tm3R9Ja/xSel83sROdcmRr3mjQm3KwMWhL7eDXYKLoJ78Oa76X63C7pNEknOecSn3OTvFP6figvLCiSd7pfU5uVH+p9VqnJx67vDHkj43Y75yJVK/XChzflnUr2dUm75J3+NkcHj9VKNffVffKOoZvkBVXFkp6s43l11VxR474StuNwPs8qn7dY3mmONe1L+L2xr3lDmmvbG6Mxn4uNrQ8A0AwIlQAA9Vkp73SUvs65+kbhnCxpu3Pul5UPJPTrqVSuukcu7Zb3V+XK53VLvN+AhfL67myuHCXSCH+XdyrVTyT9V82JZtbReX2VVko6pcbkU+T9tb/QzBbJ+5LT3Tk3s5HrbqyFkr5mZimHGq3knNtpZtslDXTOPfk51lm5nlqvj3NunbwvaL/3R958U1KtUMnMusgbTfCDyn3ijwZJ/D/GKklXmVl6wmilsdWXpFMkzXPOVV2O3h8B9bk555ZIWiLpN2Y2TV7j4zdV/7HZGE/JC19+IOmBRr4mqyT1qhFujlH1L9m7/Z+J74WRh6ilMe/DRvFHPN0s6Qzn3LYak0+R9Kpz7il/XpM0RF6IVakx+3SlpMvMLJQwWukU/7kbDqfuGirDv5py5YVItzrnNkpeY/5GLvMUSU86517yn5cmb0TQ2s9Za2M+z+rapwvl9aHa45r56n1qvm2vNF5eL6XK4C9PXigkecfK+DrmP5r1AQAaQKNuAECdnHOF8v4CfJ+Z/YeZDTKzkWb2XTOrPF1urbwvyVea2QAz+568LzqJNknqa2ajzOwYM6tsSvxveVeJGmNm+fJOt2lME9mH5V1162/mXVFsgJlNNrM/mVlWPduyVd4IjuvM7AnzrvDU18wmmNkfdLBp9P2STjfvqklDzOxKeSMz7vWXs1Ze36XHzewr/rrHmNlNTfhyWp9H5J229IKZneTv7yvMrL5A4eeSbjbv6mJDzbui2VVmdksT1rlL3girs8ysm5nlmFm6mT3s76N+fqPcU+R9uavLZ5L2SPqWX/Ppkv5H3milSs/I67H0Z/OudDVZXhNu6eDohbWSRpnZ2WY22Mx+Jq8B8WEzs/7mXRVtov96nyHphIRt2SQpzcym+MdmRr0Lq8EPQ34r6Sf+F2Hp0K/JdHlN658wsxP9EUYPyNtXzl9uibx+MD82sxFmNlGHHvnXmPfhIZlZnrzmyrdK2mJm3f1b54T1nGlmp5jXBPkheadgJdokaax/7BxjdTfPf0RST0mPmNkw8xr//1peL6biptbdBFvkBeXX+fvpHHmnbTbGWkkX+Z9jx0t6Wt4pVp9XYz7PNknK84+pY/yRa8/IG8n0TzM73T/WTzOz+y3hCnBNNMT/jE+8pan5tr3Sbf57cIS84LpcXi8lybtq52Qzu8X/XPiWao9ebO76AAANIFQCADTkZ/K+KN8kaYW8L8WXyL8UvXPuVXmBzG/l9a+YIm/0RqKX5F395215ozAqv+zeKO+v07PkjSR6VF7I0SB/hMfJ8k4T+pdf18PyviyWNfC8R/z6uvo1rZEXZEneVe7knFso7ypJl8i7GtOv/dtDCYu6Vt7Vre6VdzWz1+SdKnSo3j+H2q7t/nJS5F3VaZGk/1T1cCZx/kflNev9urxROHPk9cba2IR1RuWN3PqmvH41/5QX/nSSFy6skXe1sg8k/aieZcTl9dg5Qd4+e1jecVOWME+RvNMoR/jb9d/yjivpYJD4v/KuGPWsvD5D/eSFfJ9HsbyRNC/K++L5hLwv47/x63pfXgD2nLxj8+YmLv+v8kZk/dBfXoOvib+vLpLXi+hDv5675QVKiYHqf/g/P5K3X25rqIhGvg8bY4y8njy/lXclscrby/70u/y6p8nrxXZA3v5MdJ+8UGClvH3ap8b0ymP9bHm9qRbL24/P6WDQ2Cycc7vljVK70K/vDtVzXNfhR/I+n+bI2/65/u+ft6bGfJ79Wd4ot/ny9unJfvh2mrzP0BflfRY9Ie+9+9lhlvOMvPdn4m2QmmnbE/xE3nt9oaTBks6tPO3SOTdXXv+k78k7ti/Wwc+OSs1dHwCgAeb3XgQAADhqzOwCeYHVsfWcqtQumNmJ8oKVMc65BUHXAwAA0BSESgAAoNmZdyW5jyVtldcz5Q+SljrnLgi0sKPMzC6SN8JnnbzRWA/I69OV7/hPGQAAaGVo1A0AAI6GbvKuTtZD0qfyrnj140ArCkaWvNPvjpN3mtIsSTcQKAEAgNaIkUoAAAAAAABoMhp1AwAAAAAAoMkIlQAAAAAAANBkrbqn0jHHHOP69esXdBkAAAAAAABtxoIFC/Y457oear5WHSr169dP8+fPD7oMAAAAAACANsPMNjdmPk5/AwAAAAAAQJMRKgEAAAAAAKDJCJUAAAAAAADQZIRKAAAAAAAAaLIWEyqZWZqZfWhmS8xshZndGXRNAAAAAAAAqFtLuvpbmaQvOOeKzCxZ0rtmNs05NzfowgAAAAAAAFBdiwmVnHNOUpF/N9m/ueAqAgAAAAAAQH1azOlvkmRmSWa2WNIuSdOdc/PqmOfbZjbfzObv3r376BcJAAAAAACAlhUqOedizrmRknpLGmtmeXXM8yfn3Bjn3JiuXbse/SIBAAAAAADQskKlSs65/ZJmSfpSwKUAAAAAAACgDi0mVDKzrmbW0f89XdJkSauDrQoAAAAAAAB1aTGNuiX1kPSEmSXJC7tecM69FnBNAAAAAAAAqEOLCZWcc0sl5QddBwAAAAAAAA6txZz+BgAAAAAAgNaDUAkAAAAAAABNRqgEAAAAAACAJiNUAgAAAAAAQJMRKgEAAAAAAKDJCJUAAAAAAADQZIRKAAAAAAAAaDJCJQAAAAAAADQZoRIAAAAAAACajFAJAAAAAAAATUaoBAAAAAAAgCYjVAIAAAAAAECTESoBAAAAAACgycJBFwAAAADU5OJxxeMxxWMxxWNxxWNR7/d4TC4WV8y/72IxxeNxxaPRhPljVfMmPrdy3lg0KhePKSk5RQNGnaSM7JygNxcAgFaJUAkAAKAVqApZorHa4Ums9mMuFlOsKkhpeN54LCYXjykW9X42Zt5DrT/x8Wq11FnPwVDI+SGSc/Gjsl9DSWENGHWS8s6Yov4jRyuUlHRU1gsAQFtAqAQAAFqlylEolaGJN/oknhBWRL1RKvFYwiiWuB9wRA+OcKmat+b9eELYkrDsquXVXldl2FItzKln3lphS31BjR8iybnA9nUoKaxQOEmhUJJCSTVuoSRZUpKSkryf3jwh7zlJSQqnpCgUCikUDlfNGwqFlBQOy2rMG/KnVc4bSkqSVZu3xvyhkP/YwfteLWFvPdXmrb2uA/s/08o5M7Vqzkyt/+gDZXbspGGnnqG8SVPUpfdxge1vAABaC3MB/gfl8xozZoybP39+0GUAANAiOOe8QCNakTCi5OCpPg0FFokjWw6OFqn/NKI6l13rFKTEU5ZqjEQ5xLz1Bz8Hg53AQhazGgFK7ZCl8veqeRoIZBLvWyhJSeGkhACl4XlrzVPPvLWCn0bUVTV/qO234IxFo9q4aL6Wz5qhjxd+KBePq8fgocqbNEVDJ56q1IzMoEsEAOCoMrMFzrkxh5yPUAkAgKbzApyoYhUVilZUKBatUKzCu+/97t+i0ar70WqPJ/zuL6fy8WjNeRKWEauoe3nxaFTRaEUgQYtZSKGkUEKAEk4YQVIz5AhXm7fOAKWOkKMxIUvNeRsMUBLuWyOXWxW2tIOQpT07sP8zrZozU8tnzdDebVsUTknV4HETlTdpso4bfjyvPwCgXSBUAgC0Gc65gyFL9FABTO15agU/0Yo6Q5rE5VWGNLVDooNBz5GUlJyspHCy9zM5WWH/91A4XPW7N0+42rxhf56ksPd7Uvjgfe9Un8rRL+GqU4MSw53GjGjxTiUK1QqGCFnQljnntHPDOi2fNV2r33tHZcUHlN21m0acfqZGnH6mco7tFnSJAAA0G0IlAMBhcfF43SNqorVH4UQTH6trpE6N0CcejdYdAiUsLx6tseyKCsVjRzDAMasR0iQrKTlcK9AJ+eFN7XkTwp3wwcfDNUOf5GQlJfnLrhEC1VxOKCksMzty2wjgiKooL9P6Dz/Q8lkztGX5Esk59ck7QXmTpmjQ2AlKTk0LukQAAI4oQiUAaAXi8VjtU5oaCnKaME/NkMYLeOqZN2EZ8VjsiG2fhUK1Q5rEUKVmYFNrFE649rw15qkW/IRrhDp1jfzhyk4APofInl1aMfttrZg1QwW7diolPUO5E0/TiEmT1WPwUAJiAECbQKgEAAkqGxhXO6WpVgBTx2lPdfTHiVZUeEFNI0Oauk/T8kIkFz9yl8wOJSXVDmlqjKhpVEhT14iaBuepa5r3WChEgAOgbXLxuLatWq7ls2Zo7dz3FC0vU+dexylv0mQNP+0LyuzYKegSAQA4bIRKaBLnXFVzVycnOf8xOe9h57zHvZm96d5M/tOcvwwlLMN/zH9O4rFWub6a6zr4u2qvu+a6vF8T1u1XWM+66lpv1WN1rKv2tlTfzqr5Ktcp1blNBzen+rKrL7fu7aj2e1Wt9e0/1diHdWxT1aLq2qaqV7jaPqy1/xrcztrradxrU7PWul8byVXrlVO7301ir5xorcDoSDYwDiWFE0bA1B45U/PUqPpOe6o9Yiec0EsnYdl1jOqp6qXjj8Khrw0ABKOsuFhrPpijFbNmaMfaVbJQSP3zxyhv0mQNGHWSksLJQZcIAECTECq1EqVFRXri5utqBQh1fqH3p9UZxki1v5TXCmO8pdQZigBHiplM/tB/k38agMn74U+zhOn+fe8h8+avfNxfnvc87/dap0c1GNKEqwUwlQ2Mw/WENA2eppX4ezu5xDYAoOn2bt+qFbPf1sp3/q0Dn+1Tela2hp92hkZMmqKuffoFXR4AAI1CqNRKlJUc0Kyn/iC5JMmFZRaSLOR/0T74hbzyS3idX7yrvpCral6rmr/6F/KqxxK+5Ff9rsTnJC774Jf7xD4BNZddbbmqseyEMCGx1sp11bVNB2utYzsqH69r3VXrOlhHY4KLxGVX3/+qe9k1ApL6X5uE3gqNfG3qDWOqllHP/qs8BOo5Dmq/dnWvy19ire1s1HECAAAUj8W0aelCLZ85XRvmf6h4LKpuAwYpb9IU5Z58utI6dAi6RAAA6kWo1EpUVOzXO3NGJzxiCoVS/FuqQpYiC6UoKZQqq3rcnxZKUcgO3q9/emrC4zXmrWd6KJQisxSCAgAAgM+pOFKg1e/N1vKZ07V780YlJSdr0JjxyjtjivocfyL95wAALQ6hUisRi5Vox44XFHflisfKvJ/xcsXjZYrHy+XiCferph2cXm3ehOceKZXhUq2wqkYgZTWnJYRi9YZZSanVQrGaP61aaJbijeICAABoxXZu3KAVs2Zo1buzVFpUqA5djtGI087UiElnqlP3nkGXBwCAJEKlds05J+cqagdQrjKkqh1IVU6vM8yqnBarO9hyNZ5bc7p0ZK5uZZZ82KO4DgZfR2oUF39RBAAAhy9aUaEN8+dpxazp2rRkkZyLq/ewPI2YNFlDxp+slLT0oEsEALRjhEpoMeLxqOLxsoSRVPUEUAkjrVwd4VSDo7gOEWxVrtu56BHZJrMkL4Bq9CiumgFV7VFcteatb9kJpyd6P8OcpggAQCtWuG+PVs7+t1bMnqHPPtmh5LR0DZ1wikZMmqxeQ4fz7zwA4KgjVALq4Fys6aO06jn9sO5Qq/rzXLxcscp5a4ZiruIIbVWoztFUlSO56gqkGjeKq54wq6FRXpbMf3wBADhMzjltX7NSK2bN0JoP3lVFaYk69eipEadP1vDTv6CszscEXSIAoJ0gVAJaOOfiiscrqgKr6qcmljUYWDV2lJarIzSrFXz5yz5SDo6iqiPMqtFPq85RXPU81zvVMV0dOuQqLa0X4RUAoE0rLy3Runnva/nM6dq2arnMQup7Yr7yJk3RwDHjFE5ODrpEAEAbRqgEoNG8Plz1nJ5YaxRXQ6cu1jNvo0ZxHZwmNfy5lJLSVTnZI5WTk6/s7HxlZx+vpCR6TwAA2qb9n36iFbNnaPnst1W0d4/SOmQp9+TTlXfGFHXrPzDo8gAAbRChEoBWyQu4orUazMfiZYpFi1RYuEIFkUUqKFikkpLNkrweVx065Cone5QfNI1UenofRjMBANqUeDymLcuWaPmsGVr/0QeKVVSoa9/+yps0WbmnTFJGdk7QJQIA2ghCJQBtXnn5XkUiS1RQsFAFkcWKRJYqFjsgSUpO7qycnHzlZOcrJydfWVnHKxzODLhiAACOjNKiIq1+b7aWz5qhnR+vUygprIFjxipv0hT1O3GUQklcqRYAcPgIlQC0O87FVFS0VgWRRYoULFJBZLGKiz/2p4a80Uw5I6uCpvT0foxmAgC0eru3bNKKWdO1cs4slUQKlNmps4af9gXlTZqszj17B10eAKAVIlQCAEkVFZ+poGCxN5KpYJEKIksUixVJkpKTOyk7e2RCf6YTFA5nBVwxAACHJxat0MeL5mv5zOnauGi+XDyuHkNylTdpioZOOFWpGRlBlwgAaCUIlQCgDs7FdODAehX4I5kKChapuHi9P9XUIXOIshNOm8vI6C+zUKA1AwDQVAf2f6aVc2Zq+czp2rd9q8IpqRoybqLyzpii3sPyZCH+bQMA1I9QCQAaqaIioogfMBVEFikSWaxotFCSFA7nKCf7RGXnjPJHNI1kNBMAoNVwzunT9Wu1fNZ0rX7vHZWXFCvn2G4acfpkjTj9TGV3PTboEgEALRChEgAcJufiKi7+2AuZ/CbgBw6sk+QkmTIzB1WNZMrOHqnMzEGMZgIAtHgVZaVa/+EHWj5rhrYsXyKZqU/eicqbNFmDxk5Qckpq0CUCAFoIQiUAOIKi0UJFIkv9kGmRCgoWKxotkCQlJXU42JfJbwSenMxlnQEALVfBrp1aMfttrZj9tiK7dyo1I1O5J5+mEZMmq/vAIVzIAgDaOUIlAGhGzjkVF29UJLKoqj9TUdEaSXFJUkbGwISgKV8dMgfLjMs7AwBaFhePa+vKZVo+a4bWzXtf0fIydendR3mTJmvYqWcos2OnoEsEAASAUAkAjrJotEiRyNKE/kyLVVGxT5I3mik7+wQ/aBql7OwTlZLSOeCKAQA4qKz4gNZ8MEfLZ07XJ+vWKJSUpP75Y5Q3aYr6549RUjgcdIkAgKOEUAkAAuacU0nJ5qqAKVKwSEUHVsu5mCQpPb2fcnJGKid7lHJy8pWZOUShEP9hBwAEb++2rVoxe4ZWvvNvHdj/mTJ/A64mAAAgAElEQVRyOmrYKZOUN2myjunTL+jyAADNjFAJAFqgWKxYkciyqivNFRQsUkXFXklSUlKGsrKOV05Ovt8IfKRSUo4JuGIAQHsWj8W0cfECrZg1QxsWzFM8FlP3gYM1YtIU5Z58mtIyOwRdIgCgGRAqAUAr4JxTaek2P2RaqIKCxSoqWiXnopKk9LQ+1RqAd+iQq1AoOeCqAQDtUXGkQKvmzNKKWdO1e8smhZNTNGjsBI2YNFl9806UhbgSKgC0FYRKANBKxWIlKixc4V9pzuvPVF6+S5IUCqUp2x/NlO2fOpea2jXgigEA7YlzTrs2btDyWdO1+t3ZKj1QpKwuXTVi0pkacfpkdezWPegSAQCfE6ESALQR3mimHdWuNFdYuELOVUiS0tJ6V7vSXFaHYQqFUgKuGgDQHkTLy7VhwTwtnzldm5YukpxT7+F5yps0RUPGnazktLSgSwQAHAZCJQBow2KxMhUVrfBCJr8/U1nZp5KkUChVWVl5B680lzNSaan81RgA0LwK9+7Rynf+reWzpmv/p58oJT1dQ8afqrwzpqjnkFyZWdAlAgAaiVAJANqZ0tJPqq4yV1CwUJHCFXKuXJKUmtojoQF4vrKyhisUSg24YgBAW+Sc0/bVK7R81gyt/eBdVZSVqlPP3hpx+pkacdoX1KFzl6BLBAAcAqESALRz8XiZCgtXVV1lLlKwSKVlOyRJZinKyhqhHL8BeE5OvlJTe/BXZADAEVVeWqK1H7yr5bNmaPvqFTILqd/IUcqbNFkDRo9TOJmLTwBAS0SoBACopaxspwoKFlcFTYWFyxSPl0mSUlO6KTsnvypoyso6XklJjGYCABwZn32yXStmv60Vs99W0b69SsvK1vFnTNGES66g9xIAtDCESgCAQ4rHy1VUtLqqAXhBwSKVlm6VJJklK6vDMC9o8vszpaX1YjQTAOBzicdj2rJ0sZbNnK61895Tp+49dPZ1N6rHoKFBlwYA8BEqAQAOS1nZbkX8gKkgsliRyFLF4yWSpJSUrgevNJedr+zs45WUlB5wxQCA1mrriqWa9siDKtq3V+Mv/qrGXXSZksLhoMsCgHaPUAkAcETE41EVHVitSMHiqivNlZRsliSZhdWhQ25VX6bs7JFKT+/DaCYAQKOVFR/Qv//6P1o5Z6a6Dxqis39wozr37BV0WQDQrhEqAQCaTXn53oQrzS1SpHCpYrFiSVJychf/SnMj/SvNHa9wODPgigEALd2aD97VjEcfVrSiXJO+/g2dMPls/kgBAAEhVAIAHDXOxVRUtFYFEe8qcwWRRSou3uhPDXmjmRKCpvT0fnxRAADUUrRvr/71x99q89JF6j9ytM763vXK7Ngp6LIAoN0hVAIABKqi4jP/SnP+iKbIEsViRZKk5OROyvYDppzskcrOPlHhcIeAKwYAtATOOS1+63W989RfFU5L0xe/dZ0Gj5sYdFkA0K4QKgEAWhTnYjpwYH21K80VF6/3p5o6ZA7xrzTn9WfKyOgvs1CgNQMAgrN3+1ZNe+h+7fx4vUacPllnXPNtpWZkBF0WALQLhEoAgBavoqJAkciSqgbgkchiRaOFkqRwOEc52ScqO2eUf9rcSIXDWQFXDAA4mmLRqOa+/LzmvfyCso7pqrN/cIN6D8sLuiwAaPMIlQAArY5zcR0o3uBfaW6hCiKLdeDAOklOkikzc1C1K81lZg5iNBMAtAM71q7StIce0P5dn+qk8y/RxEuvVDg5OeiyAKDNIlQCALQJ0WihCiJLqhqAFxQsVjRaIEkKh7O83kx+f6bs7JFKTs4JuGIAQHMoLy3R7Cf/oqVv/0td+/bXl6+7Ucf06Rd0WQDQJhEqAQDaJOecios3qiCy0BvRFFmkoqK1kuKSpIyMgQlXmhvlj2ZKCrZoAMARs2HBPL31v39QWfEBnXrF1Rp19vmyEKNWAeBIIlQCALQb0WiRIpGlivgNwAsii1RR8ZkkKSmpg7KzT/CDpnzl5IxUcjKXpwaA1qy4YL/e+tMftGH+PB034gR96fs3KPuYrkGXBQBtBqESAKDdcs6ppGRz1ZXmIgWLVHRgtZyLSZLS0/t5IZPfBDwzc4hCoXDAVQMAmsI5p+Uzp2vm439SKClJZ37je8o9+XSZWdClAUCrR6gEAECCWKxYkciyqpFMBQWLVFGxV5KUlJShrKzjq0KmnJx8paR0CbhiAEBj7P/0E017+AHtWLtKQyecqjO/+X2ld+BqoQDweRAqAQDQAOecSku3qqBgsQoiC1VQsFhFRavkXFSSlJ7eRznZ+cr2+zN16JCrUIgrDQFASxSPx/TRP1/S+y8+o4ycjjrre9er3wn5QZcFAK0WoRIAAE0Ui5UoUrg84Upzi1RevluSFAqleb2Zqq40l6/UVPp3AEBLsvPj9Xrjofu1b/tW5Z99nk6deo2SU1KDLgsAWh1CJQAAPidvNNMORfyAqSCySIWFK+VchSQpLa13tSvNeaOZUgKuGgDat4ryMs159nEtmvaqOvc6Tl++7kZ1GzAo6LIAoFUhVAIAoBnEYmUqLFquSMHBK82VlX0qSQqFUpWVlZdwpbl8paZ2C7hiAGifNi1dpDcfeVDFkQJNvPRKnXTBJQqFkoIuCwBaBUIlAACOktLST1QQWeQHTQsVKVwh58olSampPapdaS4ra7hCIU7FAICjoaSoUG8/+ojWfDBHPYcM09nX3aiO3boHXRYAtHiESgAABCQeL1Nh4aqqvkyRgkUqLdshSTJLUVbWCD9o8k6dS0vrGXDFANB2Oee0+r3Zevsvf1Q8HtcZV39LeWdMkZkFXRoAtFiESgAAtCBlZTurXWmusHCZ4vEySVJqandl+w3Ac3LyldUhT0lJjGYCgCMpsme3/vXIg9q6YqkGjhmnL377P5WR0zHosgCgRSJUAgCgBYvHy1VUtLqqL1NBwWKVlm6VJJklKytr+MGgKTtfaWm9+Ks6AHxOLh7XwmmvaM5zTyg1I1Nf/M5/auDocUGXBQAtDqESAACtTFnZbkUiBxuARyJLFY+XSpJSUrr6V5nLV3bOKGVn5SkpKT3gigGgddqzZZPeeOh+7d68UcefeZYmXfVNpaTxmQoAlQiVAABo5eLxChUdWJNwpbmFKinZIkkyC6tDh9yqq8zl5OQrLe04RjMBQCNFKyr0/ovP6KNXXlLHY7vr7Ot+pJ5DhgVdFgC0CIRKAAC0QeXle1UQWaxIgd8EvHCpYrFiSVJychfl5OSrY84o9ex5hZKTswOuFgBavm2rlmvaww+ocM8ejbvoUo2/5AolhcNBlwUAgSJUAgCgHYjHozpwYJ13upx/2lxx8UalpHTVkCG369iuZzN6CQAOoay4WDMf/5NWzJ6hbgMG6ezrblSXXscFXRYABIZQCQCAdioSWarVa25TYeEKdekySUOH3Kn09N5BlwUALd66ee/rrT8/pGhpqU772rUaeda5BPMA2iVCJQAA2rF4PKpt25/Sxx8/IOecBgz4oY7rfY1CoeSgSwOAFq3os316639+p42LF6jvCfn60veuV4fOXYIuCwCOKkIlAACg0tIdWrP259qz52116DBMuUPvUk7OyKDLAoAWzTmnpTOmadaTf1E4OVmTv3Wdhk44JeiyAOCoIVQCAACSvC9Hu/e8pbVrf6Gysp3q3etrGjjwRoXDWUGXBgAt2r4d2zXtofv06YZ1GnbqGfrCtd9RWmaHoMsCgGbX6kIlMztO0pOSukuKS/qTc+53DT2HUAkAgMaLRgu14eMHtW3bk0pNOVZDhtyurl3Pol8IADQgFo1q3j9e0NyXn1eHTl109g9u0HEjTgi6LABoVq0xVOohqYdzbqGZZUlaIOlC59zK+p5DqAQAQNNFIku1avVPVVS0Usd0+YKGDPm50tN7BV0WALRon6xbo2kP36/9n36qU664SiedfwmhPIA2q7GhUuhoFNMYzrlPnHML/d8LJa2SxP9wAQA4wrKzT9BJY/6hwYNu1b7PPtDceWdp85ZHFY9Hgy4NAFqsHoOH6uu//r0Gjz9Zc559XK/97l5VlJYGXRYABKrFhEqJzKyfpHxJ84KtBACAtikUCqtPn29o/Lg31bnTBK1f/yt9NP8iRSJLgy4NAFqs5LQ0nfvDm3Xq1Gu0du67eu5nN2n/zk+DLgsAAtNiTn+rZGYdJM2WdLdz7uU6pn9b0rclqU+fPqM3b958lCsEAKBtcc5p9+43tWbtnSov363evb+ugQN+RCNvAGjApsUL9Nrv75XJdM71P1a/E/KDLgkAjphW11NJkswsWdJrkt50zj1wqPnpqQQAwJHjNfK+X9u2Pa3U1G5eI+9jvkjPEACox/5PP9E/77tLe7dt1alTr9aY8y7mMxNAm9DqeiqZ9+n7F0mrGhMoAQCAIyscztLQIT/XmNF/V3JyRy1b9n0tXfZdlZbuCLo0AGiROnbvoSvuuk+Dx03UO888ptd//9/0WQLQrrSYkUpmdoqkOZKWSYr7D9/qnHujvucwUgkAgOYRj1do67bH9fHHv5OZaUD/G9S791UKhcJBlwYALY5zTh+98pLmPPeEuh7XVxf8v9uUc2z3oMsCgMPWKk9/aypCJQAAmldJyTatWXuH9u6dpaysEcodereys48PuiwAaJE2Ll6g139/r8xCOueHN9NnCUCr1epOfwMAAC1PenpvnXjCo8rLe0hlZbv10fyLtXbtLxWNFgVdGgC0OP1HjtaV9zyoDp066+V77tBHr76s1vxHfAA4FEIlAADQIDNTt2PP1oTxb6lXr6nauu0JzZ13lnbvnh50aQDQ4nTq3tPrszR2gt55+q964w/3qaKMPksA2iZCJQAA0CjhcJZyh96pMaNfVHJyRy1d9l0tXUojbwCoKSUtXefe8BOd8tWrtPr9d/Tcz/6fCnZ9GnRZAHDEESoBAIAmycnJ10lj/k+DBv5Ye/fN0dx5X9KWrY/JuVjQpQFAi2FmGnfRZbr4x3cosmeXnr7lBm1eujjosgDgiCJUAgAATRYKJatv329r/Lh/qWPOaK1bd5c+mn+xIpFlQZcGAC1K//wxuvKeB5XZsZNeuud2zafPEoA2hFAJAAActvT043TiiX9V3ojfq6xsp9fIe91dikYPBF0aALQYnbr31NS779egseM1mz5LANoQQiUAAPC5mJm6dTtH48e9pV69rtDWrY/7jbxnBF0aALQYKWnpOu+GW+izBKBNIVQCAABHRHJytnKH/kJjRr+gcDhLS5d9R0uXfU+lpZ8EXRoAtAh19llaRp8lAK0XoRIAADiicnJGaexJr2jgwJu1d+87mjvvLG3d+jiNvAHAV63P0t23a/5r/6DPEoBWiVAJAAAccaFQsvr1/Y7Gj5umnJxRWrvul/po/iUqLFwRdGkA0CJ06t5TU++6T4NOGq/ZT/2FPksAWiVCJQAA0GzS0/to5ImPacSI36qs7BN9+NGFWrfuHhp5A4CklPQMnfejhD5Lt9+sgl07gy4LABqNUAkAADQrM1P3bud5jbx7Xq4tW/+iefO+pD17/h10aQAQuMo+Sxf9+HZFdu3U07feoC3LlwRdFgA0CqESAAA4KpKTc5Sbe5dGj/qbksKZWrL0W1q67AcqLePqRwAwIP8kXXnPA8rM6ai/3/Uz+iwBaBUIlQAAwFHVseMYr5H3gJu0d+9MzZ17lrZue5JG3gDavU49emnqXfdp4Jhxmv3UXzTtofvpswSgRSNUAgAAR10olKJ+/b6ncWOnKSd7pNauvVPzF1yqwsKVQZcGAIFKSc/Q+T+6RSdf/nWtem+2nrv9ZkV27wq6LACoE6ESAAAITEZGX40c+bhGDH9QJSXb9NH8C7Vu/a8UixUHXRoABMZCIY2/+HJddLPXZ+mpW66nzxKAFolQCQAABMrM1L37+Zow/i316PEVbdnyqObO+5L27JkZdGkAEKgBo07S1LsfUEZ2jv5+98+04PX/o88SgBaFUAkAALQIyckdNSz3Hq+Rd1KGliz9ppYt/0+VlXF5bQDtV+eevXTl3fdr4OhxmvXko16fpfKyoMsCAEmESgAAoIWpbOQ9YMCPtGfPDH0w94vatu1pGnkDaLeq+ixd9jWtem+2nv8ZfZYAtAyESgAAoMUJhVLUv98PNG7sNGVnn6A1a+/Q/AWXqbBoddClAUAgLBTS+Eu+qotuvl37d36ip2+5XluWLw26LADtHKESAABosTIy+il/5JMaPvx+lZRs0Ucfna/1639DI28A7daAUSfpynseVHp2jv5+921a8Po/6bMEIDCESgAAoEUzM/XofqHXyLv7Jdq85U+aO+9s7dk7K+jSACAQnXv20tS77tfA0WM168k/618PP0CfJQCBIFQCAACtQnJyJw0b9iuNyn9OoVCqliz5hpYt/y+VldFXBED7k5qRofN/dKsmXnalVs6Zqedvv1mRPXweAji6CJUAAECr0qnTWI0b+6oG9L9Be/ZM19x5X9S27c/KuXjQpQHAUWWhkCZccoUuvPl27f/0Ez39k+u1dQV9lgAcPYRKAACg1QmFUtW//3UaN/YNZWXlac2an2nBgstUVLQm6NIA4KgbOHqsrrznAaVnZevFu27TwjfoswTg6CBUAgAArVZGRn/lj3xKw4fdp+KSzfrwo/O1fsN/KxYrCbo0ADiqOvfsral3P6ABo8Zq5hN/1pt//K2i5eVBlwWgjSNUAgAArZqZqUePizRh/Fvq3v0ibd78P5o772zt3ftO0KUBwFGVmpGhC268VRO+MlUrZr+tv935ExXt2xt0WQDaMEIlAADQJiQnd9LwYb/WqPxnFQola/GSa7V8xfUqK9sddGkAcNRYKKSJl07V+Tfeqr1bt+jpW2/QjrWrgy4LQBtFqAQAANqUTp3GadzY19S///XatetNzZ33RW3f/hyNvAG0K4PHTtQVd92ncHKyXrjzJ1o+a0bQJQFogwiVAABAmxMKpWpA///UuLGvK6vDcK1ec5sWLLycRt4A2pWuffrpynseVK/cEXrzj7/VzMf/pHgsFnRZANoQQiUAANBmZWYOUH7+0xo+7F4VF2/0G3nfp1isNOjSAOCoSM/K1iW3/kKjvnyBFk57RS/dc7tKCiNBlwWgjSBUAgAAbZrXyPsSjR/3lrp3u0CbN/9R8+adrb175wRdGgAcFaGkJJ1x9bd01veu1/bVK/TMT3+kPVs2BV0WgDaAUAkAALQLKSmdNXz4vcrPf1oWStLiJddo+YobVFa+J+jSAOCoyJs0WZfd8WtFy8v17G03ad2H7wddEoBWjlAJAAC0K507TdDYk15X/37/pV27/qW5c6do+/bnaeQNoF3oOSRXX7vnQXU5ro9euf8effD35+TifP4BODyESgAAoN1JSkrVgAE/1Lixr6lDh2FaveanWrDwChUdWBd0aQDQ7Dp07qLL7/i1Rpx+pt5/8Rm9+uCvVV5aEnRZAFohQiUAANBuZWYO1Kj8ZzQs9zc6cGC9PvzwPG3YcD+NvAG0eeGUFJ31ves16apvaf1Hc/XcbTdp/85Pgy4LQCtDqAQAANo1M1PPnl/RhPFvqVu3c7Vp8yOa9+HZ2rfvvaBLA4BmZWYafc4FuvjWO1W0b6+eufUGbV62OOiyALQihEoAAACSUlK6aMTw+5Q/8ilJIS1afJVWrLhR5TTyBtDG9TshX1PveUCZHTvppXtu18Jpr8g5F3RZAFoBQiUAAIAEnTtP1Lixb6hfv+u0c9fr+mDuF7Vjxws08gbQpnXq3lNT77pPA0aN1czH/6S3/vf3ilZUBF0WgBaOUAkAAKCGpKRUDRxwg9fIO3OIVq2+RQsXTtWBA+uDLg0Amk1KeoYuuPFWjb/kCi2fOV0v3PkTFX22L+iyALRghEoAAAD1yMwcpFGjntWw3F+p6MBazfvwXG34+EHFYmVBlwYAzcJCIZ182ZU670e3aM+WzXrmluv1yfo1QZcFoIUiVAIAAGiAWUg9e17mNfI+9hxt2vSQ5n34ZRp5A2jThow7WVf88r8VCifr+dtv1tt//R8VF+wPuiwALYy15gZsY8aMcfPnzw+6DAAA0I7s2/eeVq+5TSUlW9S9+0UaPOgWpaR0CbosAGgWJYURvfe3p7T07TcVTknVSeddrNHnXqiUtPSgSwPQjMxsgXNuzCHnI1QCAABomlisVJs2PazNW/6spKRMDR50i3r0uERmFnRpANAs9u3Yrveef1Jr572njJyOmnDJFTr+zLOUFA4HXRqAZkCoBAAA0MyKitZq9ZrbVFCwQB07jlPu0F8qM3Ng0GUBQLP5ZN0avfPMY9q2ark6du+hU756tYaMP5lQHWhjCJUAAACOAufi2vHJi1q//teKxUrVr+931bfvd5WUlBp0aQDQLJxz2rh4vuY887j2bN2s7gMH69Sp16pP3glBlwbgCCFUAgAAOIrKyvdo/bp79OnOfyojo7+GDv2lOneaEHRZANBs4vGYVs2Zpff+9rQK9+5Wv5GjdeoVV+vYfgOCLg3A50SoBAAAEIC9+97VmjU/U0nJFvXofrEGDbpFKSmdgy4LAJpNtLxci998TfP+8YJKiw9o+CmTNPGyrynn2G5BlwbgMBEqAQAABMRr5P2QNm/5s8LhLA0edIu6d7+YniMA2rTSA0X68J9/16I3XpFzcY086xyNvfAyZWTnBF0agCYiVAIAAAiY18j7pyooWOg38r5LmZmcFgKgbSvcu0fvv/isVsyaoeS0NI294Csa9eXzlZyaFnRpABqJUAkAAKAFcC6uHTv+pvUb7vUaeff7vvr1/bZCIRp5A2jb9mzdrHeff1Ib5s9TZqfOmnjpVOVNmqJQUlLQpQE4BEIlAACAFqSsbLfWrb9bO3e+qoyMAcodepc6dRoXdFkA0Oy2rV6hOc88rh1rV6lTz9469YqrNOikCZwSDLRghEoAAAAt0N6972j1mttVWrpVPXp8RYMH/UTJyZ2CLgsAmpVzTuvnz9W7zz6hfTu2qceQXJ125bXqnTsi6NIA1IFQCQAAoIWKxUq0cdND2rLlUYXD2Ro86FZ1734hf7UH0ObFYzEtnzVDH7z4jIo+26cBo8fq1Cuu1jHH9Q26NAAJCJUAAABauKKiNVq9+qcqiCxSp04TlDv0l8rI6B90WQDQ7CrKSrVw2qv66J9/V3lJiUZMOlMTL71SWV2OCbo0ACJUAgAAaBWci2v7jue1YcO9isfL1K/v99WXRt4A2omSwojm/eMFLX7zNZmFlH/2eRp7waVK69Ah6NKAdo1QCQAAoBUpK9ultevu0q5drysjY5Byc+9Sp44nBV0WABwVkd279N4LT2vlnJlKy8jU2IsuU/5Z5yqckhJ0aUC7RKgEAADQCu3ZO0tr1tyh0tJt6tnjMg0a9GMlJ3cMuiwAOCp2b96oOc8+ro2LFyirS1dNvOxKDT/tDIVCSUGXBrQrhEoAAACtVCxWoo0bf68tW/+icDhHgwf/VN27XUAjbwDtxpblSzXn2cf06YZ1Oua4vjp16jXqnz+Gz0HgKCFUAgAAaOUKi1Zr9eqfKhJZrE6dJip36C9o5A2g3XDOad289/Tu80/qs092qPewPJ069Rr1HJIbdGlAm0eoBAAA0AY4F9P27c9r/YZ75Vy5+vW7Tn37fEuhEH1GALQPsWhUy/79lj74+7MqLtivweMm6pSvXqXOPXsHXRrQZhEqAQAAtCFlZTv9Rt5vKCNjkIbl3q2OHQ/5fz0AaDPKS0u04PX/00evvKxoeZmO/8IXNeErU9WhU+egSwPaHEIlAACANmjPnplas/YOlZZup5E3gHapuGC/5r78Ny2ZPk2hcJLGnHOhxpx3iVIzMoIuDWgzCJUAAADaqFisWB9v/J22bn1M4XBHDRl8m7p1O48GtgDalf2ffqJ3//aU1rz/jtKysjXh4st1wpQvK5ycHHRpQKtHqAQAANDGFRau1Oo1tykSWaLOnU7R0KG/UEZG36DLAoCjaufH6/XOM49py/Ilyu7aTadc/jXlnny6LBQKujSg1SJUAgAAaAeci2nb9me1YcN9cq5C/fv9p/r0+QaNvAG0O5uWLtKcZx7Xrk0b1LXfAJ029Rr1PSGfUZzAYSBUAgAAaEdKyz7V2rW/1O7d/1Jm5mDlDr2LRt4A2h0Xj2v1++/o3eefUmT3TvXJO1GnXXmtug0YFHRpQKtCqAQAANAO7d7zttau+blKy3aoZ8+vatDAm5WcnBN0WQBwVEUrKrR0xjTNfel5lRRGNHTCqTrlq1epY/ceQZcGtAqESgAAAO1UNHpAGzf+Tlu2PqaUlM4aPPg2dTv2XE4BAdDulBUXa/5rL2v+a/9QPBrVCZPP1oRLvqqMHK6aCTSEUAkAAKCdKyxcodWrb1OkcKk6dz5VuUN/ofT0PkGXBQBHXdFn+zT3pee09O03FU5J1UnnXazR516olLT0oEsDWiRCJQAAAHiNvLc9rQ0fP+A38v4vv5E3l9wG0P7s27Fd7z3/pNbOe08ZOR014ZIrdPyZZykpHA66NKBFIVQCAABAldLST7R23S+1e/ebyswcomG5dysnZ1TQZQFAID5Zt0bvPPOYtq1aro7de+iUr16tIeNP5jRhwEeoBAAAgFp2756hNWt/rrKyT9Wr1xUaOOD/KTk5O+iyAOCoc85p4+L5mvPM49qzdbO6DxysU6deqz55JwRdGhA4QiUAAADUKRo9oI83/lZbtz6ulJQuGjL4Zzr22C/zF3oA7VI8HtOqObP03t+eVuHe3eo3crROveJqHdtvQNClAYEhVAIAAECDIoXLtXr1T1VYuFxdupyuoUPuVHr6cUGXBQCBiJaXa/Gbr2neP15QafEBDT9lkiZe9jXlHNst6NKAo45QCQAAAIfkNfJ+ym/kHdOA/v+l4477Dxp5A2i3Sg8U6cN//l2L3nhFzsU18qxzNO6iy5WexanCaD8IlQAAANBopaU7tHbtL7R7z3R16JCr3KF3KScnPwXcJPQAACAASURBVOiyACAwhXv36P0Xn9WKWTOUnJamsRd8RaO+fL6SU9OCLg1odoRKrUU8Ju1ZK1lIknk/zbxb1f3Kx2rO40+TGjFPzWUDAADUtnv3W1qz9k6Vle1Ur15XatDAmxQOZwVdFgAEZs/WzXr3+Se1Yf48ZXbqrImXTlXepCkKJSUFXRrQbAiVWovifdK9/QNY8aGCp8r71oh5QpKpEfPY/2fvvqPjOs9733/33tNQpoAoBCEARKEoUoWybFkWZUlxia1YbpId27Jky1ZOyjrJSeKy1ln33jiOc2687rk3iVNuknOTlcSyFMlyU3Fc4kTO0VGxJUduqmwAQYIA0YEpmLr3fu8fe8qewQwAkgMOyvNZa9bM7P3OO+8MKJH88XmfXePYhYZlq8y7alhXr8++UZ/rHANG3Otdaz2un9mqYwrHaq15le/jnNYsQacQQmwmpplgdPTPGD9zHz5fB/v3f5auzl+SRt5CiB3tzJGXeeqBe5k89iptPb3c9OG72ff6w/L/RrEtSai0VZgZOPJtQIEq3Oz8czt/qzxWeM46xrifrzXGNW7NMfZ5rFk18HNRfcyqa6w1Jv9c1NF6grn8MV9L/tYK/lbwBZ3n/tb8saBzXzwWLJ3ztZTOe5skzBJCiDXEYi9w5OhniMdfpr39zVy2/3M0NfU2ellCCNEwSilOPP8sTz/4JRYmz7Bn/wFuvuseeg9c0eilCVFXEioJsdHcgdaawZe9RlhXOc8qYdmFBGHugG3LrNl9zIJsErJxyC5DJgHZBGTizn12Gcz0+n5+mp4PmlpdgVTrymMrztcIsSSkEkJsU7ZtcmbifkZHv4BSiqGh36Wv9x503dPopQkhRMPYlsVLTzzOD7/2AInFBYZedx03ffhjdPTtbfTShKgLCZWEEDuTlcsHTfmQyR06FUIo9+Nqx9yPzzukaikPnYrHgusLsbzNElIJITaVdHqSo8c+x9zc92ltPciBA58nHLq60csSQoiGymXS/OQ73+RHj32dXDrNFW96Kzd84C6C7R2NXpoQF2RLhkqapv0j8C5gRil15VrjJVQSQmy4Qki1ojKqWmC17FRRlQVWFcfOJ6RaURlVsf2vZoglIZUQor6UUszO/SvHjv03Mplpens/wvDQp6WRtxBix0vFYzz3yFf52fe+habpXPOOd3Pdez9AoLW10UsT4rxs1VDpZiAB3CehkhBiW7LM1SujygKrhCuQqnHMTK3zjbW1t/pVPRasHlhJSCXEjmaacUZG/4wzZ+7D7+ti//7P0tl5izSrFULseLHZGZ756j/xylP/k0BzC9fd/kGuueVdeHy+Ri9NiHOyJUMlAE3TBoBvSagkhBDr4A6pitVU8fVv9as8dr4hlbsJ+qrHagRWvhYJqYTYgmKxF3j1yO+RSLxCR8dbuWz/5wgEehq9LCGEaLjZUyd56sF7OfmzHxNs7+SGD97F5Te/GV03Gr00IdZFQiUhhBDnrhhSVVRGVQ2sltfuV3VeIVVFZVTNq/ut0q9KQiohLhrbNjlz5kuMjP4ZmqYxNPgJens/Jo28hRACOP3SCzz14BeZGjlOR99ebrrz4wxec61UdopNb9uGSpqm/Trw6wD9/f2vO3Xq1MVbnBBCiHNjW2tUS61yJb9qIVYuuc431ip6T1XrR1WtcsodYrlCKm8z6PqGflVCbHWp1ATHjn2Oufl/p7X1cg4e+Dyh0KFGL0sIIRpOKcXx557h6YfuY/HsJL0Hr+SmOz9Oz/4DjV6aEDVt21DJTSqVhBBihykLqao1Rl9rq19FiHXeIdU5XMnP3VS9EFh5WySkEtuSUorZ2e9x9Ngfks3O0tv7UYaHPiWNvIUQArBMkxf//V/54dcfJBld4tI33MCNd9zNrp7eRi9NiBUkVBJCCCHWUgipVlRGrePqftW2/607pKLK1f1Wu5Jfle19ZY3TJaQSm4vTyPtPOXPmn/D7dzuNvDveLts9hBACyKZT/Pjbj/If33wYM5vhqre8ncO/fCetbbsavTQhirZkqKRp2peBNwEdwDTwB0qpf6g1XkIlIYQQm4ptrdKPaj1X96vY/pdbXv97e129pwJhaB+GzgPQddC5bxsAaQ4qLrJo9GccOfp7JBJH6Oj4RS7b/wfSyFsIIfKS0SWeffgr/PzfvovuMbj2nbdx7bvfj7+5udFLE2JrhkrnSkIlIYQQ25o7pFpPY/TCseQCzB2H2JnSXJ4m6NwPnQeh60DpPtwvVU5iQ9l2jvEz9zI6+hf5Rt6fpLf3bmnkLYQQeUtTZ3n6K/dz9AdPEgiGOPy+D3Hobbfi8XobvTSxg0moJIQQQux06RjMHoXZV2HmSOk+Plka421xwqauy8srm8K9cgU9UVep1BmOHvsD5uefIBi8ggOXfZ5Q6KpGL0sIITaN6dETPPnAFzn90s8Jde7mxg99hANv/AU0+ccf0QASKgkhhBCiutQSzB6BmVfL7xPTpTG+IHRe5qpqyt+CeyRsEudNKcXM7L9w7Nh/I5udo6/3boaGPonH09ropQkhxKYx9sJPeeqBe5kZG6FzYIib7/w4ew9dI33pxEUloZIQQgghzk1yIR8wFSqb8oFTcq40xh/OB02uqqaug9C6W8ImsW6mGefEyJ8wMfEAfv9uLtv/OTo739boZQkhxKahbJsjP3iSpx+6n9jsNP1XXs3Nd93D7qF9jV6a2CEkVBJCCCFEfSzPuaqaXiltpUstlsYEIs4WOne/ps6D0NrZuHWLTS8a/SlHjn6GROIInR1vY//+z0ojbyGEcDFzOV54/Ls8+42HSMVjXHb4Jm68424i3XsavTSxzUmoJIQQQoiNoxQkZlb2a5p9FdLR0rjm9lLI1HWwtJWuWS6bLBy2nWN8/IuMnvwLNM1gaOiT9PXejabJ1QqFEKIgk0zy/D9/g+e//Si2aXLoF9/B4fffQXM40uiliW1KQiUhhBBCXHxKQfzsyn5NM0cgGy+Na+laWdXUdQCa2hq3dtFQqdQ4R49+lvmFJwkGr+TAgc8TCl7Z6GUJIcSmklhc4NlvfJkXvv89PD4/r3/3+3jdu27DF2hq9NLENiOhkhBCCCE2D6UgNuGqasrfZo9Cbrk0LrhnZb+mzgMQCDVu7eKiUUoxM/Mdjh3/P8lm5+nr+zhDg5/A42lp9NKEEGJTWZg8w9MP3cfx535AczjC4fd/mKveeguGx9PopYltQkKlrSK5AH/9hvrPW/dmqRvQfHWzr3FDGs5u9jVuxM95gyYsfvYqz1c7V/N5rXOrvG9d36fWc1zPz/W157tGznHshbxPtddSe2zx+UZ+F7ieX8zvXFvnZ698XmMNhg88gfzNn7/3VTzP3xt+1+OL/IdR24boeJWr0R0FM1UaF7qkFDIVttF1XgZ+uWrYdpTLxRgZ/RMmJh7E7+/ON/L+xUYvSwghNp3JY0d46sF7OfPqS0S693DjHR9j//VvlCvFiQsmodJWkUnAv36mzpPW+We6Ib9GNvsaN+Az133Kzf4dwsatUa3yfLVzNZ5XfvYNf5/Kc+t433N5n3NeI6XnG/o+7s/D+seueO2FrPEc3ree38VWohmuwMm/MoDy+MtDqHWFVtUCrhrzG37QdSdsWhpb2a9p9hhYmdJ6w/3lV6PrOggdl4GvuWFfoaifaPQnvHrk91hePkZn5y1OI29/d6OXJYQQm4pSipM/e56nHriXufFTdA9fyk133kP/lYcavTSxhUmoJIQQQmw26jwCqfMJvpQNVhbMTP6Wdt2n8+fSVc5lS2Pc56xq82Sqz2/nLvx70r3VwymP3wmoUM5nyKUhuwyZmHNTdmmOpjZo3QPhHgj3QdsAtA1CILiyOqsy6DJ8G1StKs6Hbec4Pf6PnDz5l2iah+GhT9Hb+xFp5C2EEBVs2+LVp57gma/8E/H5WQZe8zpu+vDH6BoYavTSxBYkoZIQQgghLj7bzodQq4VWmfLwal2hletcrVAslwYrXZ/Ky6rVWdWCrrWqsyorular/nK/XnpiVEqlTnPk6GdZWHiKUPAQBw58nmDw8kYvSwghNh0zm+Vn3/sWzz3yVdLJZS6/8U3c8MGPEO7a3eiliS1EQiUhhBBC7EyWWQqbMnGYP+5sn5s/DvMnYPEUxCaBQmWTBi0d0NIJzR3QFHEag3uanMqrmqFYIeSqEopdqOI2xDqFVue7DXGTUUoxPfMtjh//I3K5Rfp6P87g4O9KI28hhKgivZzgR499nZ9+55soZfOaW97JG27/EE1BufiFWJuESkIIIYQQtZgZJ2AqXoUu3yB88WRpG53ugfZ9K69Gt2t49UoipcDK1ajWymxQJVfF/Fb2wr+jmtsQN6g6q3L+VbYh5nJRRkb+mInJLxPw93DZZX9IR8dbLvwzCyHENhSfn+MHX3uQl594HG8gwHXv/WVee+t78PoDjV6a2MQkVBJCCCGEOFe5FMwdz4dMr5QahC+eoti7yvBB+6X5BuEHS/e7BkHfJH1+qm5DPIdKq3MaWy3gSpX3uDpfta5SmL/PkSGeOkFOLeNr6iW06/UY/jZXaFUZWFWEYt4WCF8Crd2bsjJLCCHqaW78FE8/dB8jzz9HS9subvjAnVz5prehG5vk9y6xqUioJIQQQghRL9kkzB1deTW6pdOlMYYfOvbnr0LnCpwiAzszsLDMihCqnqFVqSpLmSlyqWmszAK6DV58aDZoZmr9azV8ELoEIv0Q6YPIXudxuM+5D+6RPldCiG3jzJGXeeqBe5k89iptPb3c9OG72ff6w2hykQrhIqGSEEIIIcRGyyRg9mg+aCpsozsCsTOlMZ4m6NyfD5kOlrbShft2Zti0QZLJUxw9+lkWFp8mFLqaA/v/iGDzvhpN3l09t6JnnHAwOu7cL52GxHT55JrhVDSF+/PBUyF8ygdP4V4wvI354EIIcR6UUpx4/lmefvBLLEyeYc/+A9x81z30Hrii0UsTm4SESkIIIYQQjZKOlYdNhcApfrY0xtsCnZeV92vqPOAEFPKvxedFKcX09D9z7PgfYZpL9PX9CkODv4NhNJ/bRLm0EzZF8yHTkitwio7nG727/gyt6RDsKQ+a3FVP4V5nu50QQmwytmXx0hOP88OvPUBicYGh113HTR/+GB19exu9NNFgEioJIYQQQmw2qUUnbHI3B595FZZnSmP8ISdsqmwQHtyz48ImpRTYNsqywDRRtu3cW5ZzrOJemSbYNtnsEqfj9zKd+Tf8WgcDvnuIqKvAtlCmhbJMsGxAoQeDGKEwRjiEEQ6jB4Noa1WQmVmITZQHTe7wKTYByip/TWt3eYVTpL9U+RTuBd85Bl9CCFFHuUyan3znm/zosa+TS6e54k1v5YYP3EWwvaPRSxMNIqGSEEIIIcRWkVxATb8CUy+jpo/AzFHU9FFUcgFUvue1L4RqG0ZFBiEyhIoMQHgvyhcqBi/KtMAyUZadD05coYtplYcqtr3m+EL44hxzjTMtlG0595a1IqwphkBWxbhC+FM5zh0WuR5jWWt9c6vKDNtEP2xh9igCP9YJf83AiK0RzGmaEzSFwxihEEY4hB4OO8FTKIQRCaOHQvkgKh9GhULo4Qh6S7PTk8QyIT5ZHjS5q56iZ8DOlb9vS6erwsl1C/c5QZQ/eEHfhRBCrEcqHuO5R77Kz773LTRN55p3vJvr3vsBAq2tjV6auMgkVBJCCCHEplRWfVIIMfLBgjILwYadDzHcVSil8KJw7pwCk0IQUm28+z0rA5PVgpDC+KrjCu9prxGw5MMTuw5XS6snjwfNMMAw0PK3wmM8BppeeOxxKnuK43U0w7NyvOFBM3QwKsZ5DNAr5vUY+XF6fg7PyvEeo3iuOK/HAF1HK6xFN1CG4qz9Hc5kH0HXvOxtuZvulnegeXyAwo7HsaJRrGgMKxbFjsWwlqJYMee5FY1iR2PO82h09aDL48HIB1J62BU8hULO82I41YLHb6HrCQx7CT03j56YdFU9jTtNy92adrm21/WvrHoKhDf0l4MQYmeJzc7wzFfu55WnnyDQ3MJ1t3+Qa255Fx6fr9FLExeJhEpCCCHEBlC27QQW+XsKlRWuY8qyQKnyc1WP2U4JSpVjqhAyrHms8N6Ws52neKyycsSsEqasEYSsFbBUBCaVIUlZWFRRkbKp6Pq6w5HyAKQwvlpg4hpvlI+rGbqsN0wxdLTcMiyfRYufhcQEWtzp/6OZy84OOV2hNUWgfRCtfRCtYwg6LkXrvBRa21eGL+7gqPC5tplkcowjR3+fxcUfEApdw4EDf0Sw9cA5zaGUwl5OYufDpkIQZUXzYVTUCZ6sWD6IihbCqRh2LOb8P6AGzedzBU8hvBEfvhB4Wyw8/gwezzIGMXRzAT0zh2alyyfwh1c2EHdXPDW17bjtk0KICzczNsrTX/4SJ3/2Y4Ltndzwwbu4/OY3o+tGo5cmNpiESkIIsY0UKjtqBhgrjjmhQrVjxTBktWOuAMMJFyrCinUfU2XnlG1BxbFqcyiVP1eYw7KKx4pz1DxWEdyc4/jqc5TObXmrhQiFcKQsWKldpbJm9YmxznFlVSfrqD5xhy6FtVfMVbbeauPdn2+7/EVbKacRuLtfU+FqdNl4aVxLV/lV6Ar3TZHGrf0iUUoxNf0Yx49/HtOM0tf3KwwO/BYez8ZvLVO27VRFFSuhCkFURTjlqooqhFP28nLlbBh+G2+LhbfZwtem4wvreIM23kAOjzeFrpdvr1N6ALtpd76heD90DKHvvhStbcB53tIhoZMQoqbTL73AUw9+kamR43T07eWmOz/O4DXXbp/fQ8UKEiptEcq2sRYW8k9KP4uyn0vZj8h9fI3HZfOd5xyux3VZU8156jGHe0yd5qs2z3mvae111WOOsnku4Geman5vF7imyrWcw8/MCVZUWQjiBB+qPMCwKsKEmqFGIThwjpUFDZWBRK15rfLQYdU5qgVCheqSsmN2cStMMczYwv+vLqNpTjigO3/BLz4uO6Y5QYTrmKZp5eeqHtPRtPx4XQO9YvyKY6Xxq82hGbpzZSejsNYaxwrzGxWfqTB+vcc0/dzGu77DsmOuMGU7V5+IdVDKaRztvgrdzKtOw/CcK6wI7imFTF0HofOg0zA8EGrc2jdILrfIiRP/D5Nnv4rHE2bv3t+gr/ej536VuItE5XJY+W166wuioqjlBXRrEa8niafFwtdiOSFUi4m3xcLwlf++Yts6ltWCRQjLaEMFurBb9kCoD619AL2jHz0cwQhHnD5Tra3yl0khdhilFMeefYanH/oSS1Nn6T14JTfd+XF69p9b1afYGiRU2iLMxUWOH76h0csQYvszqocUxWDCHSYUzhX+ol4WNFQ5VhjvDhoK56odWzGHXgpRysKKaseqhA+Fc4ZxDse08nO6K4hY41gx/Kl6LD9v1UBIl7+ACLGZ2LbTv2f2CMy84lQ0zb4Ks8fATJXGhXqh64CrqikfNvm3ftPWePxlRka/wPz8E/h8HQzs/U0uueQOdN3f6KXVjZ3JlMIoV5WUWppGLZxGS0yipafRs3MYdhTDSODxpvD4yiszbQtyywa5pEFu2UMu6cGyW7GMCLa3A1q6MEKR8t5RhSvqhfLH8lv7tKYm+f1AiC3MMk1e/Pd/5Ydff5BkdIlL33ADN95xN7t6ehu9NFFHEiptEXYmQ/Thh0sHyn6D1aofLxuiuR5WG19rjurzVZ9jPfOdyxw15jmnz7XafPWYY43PVo85as2z1udazxxlj+v0M6u2rnrM4Z5uPa8rVISsJ8BwHxNCCLE+tgVLp0ohkztscjePjvQ7AVPXgdJ9x2Xg25zVPqtZiv6YkZE/ZWnpOQL+HgYHf5vu7veh655GL61hVCaOmj6BffYYavYEamEMLXYGbXkKPTOLbsfLxysNM+Mjt2yQjUEuYbhCKOcelf/92OstBkye9nZ8Q0P4h4fwDQ3jHx7C090tv3cLsQVk0yl+/O1H+Y9vPoyZzXDVW97O4V++k9a2XY1emqgDCZWEEEIIIUT92BYsnCwPmmaOwPxxsLL5QRq07YWuy8v7NXXsB2+goctfi1KKxcUfMDL6p8RiP6epaYChoU+wu+udTlWpKJdLQfSME0AujTtXrstfvU4tnYb4FJpra7tCw/a0YesRTLsVMxsgl/KSnTdJHF8gN5ug8K9MenMzvuFh/ENDzv3wEL6hIXx9fWienRv0CbFZJaNLPPvwV/j5v30X3WNw7Ttv49p3vx9/89b7RwZRIqGSEEIIIYTYeJYJC6P5kMnVt2n+BNj5K/1pOrQNljcH7zoI7fvAs7m2mimlmJv7PqOjXyCxfJTW1gMMDX6Sjo63SvXMuTAzTugUdQVOhfApOu70+VJ2cbgKtGE39ZKz28jGvCTPZkkeXyAzsVgco3m9+Ab2FiuaiveDg+iBzR1aCrETLE2d5emv3M/RHzxJUzDE9e/7EIfediser7fRSxPnQUIlIYQQQgjROGYWFkbKm4PPvOoEUCrfr0czoH24vKqpEDYZjf1LiFI209PfYvTkX5BKjREKXc3w0Kdpa7tBwqV6sHJOsLQw6jSNd1+tMBMtDlNNu7Cb+zBpJxv3kZoyWR5ZJH1y2ukLBqBpeHt7V1Q2+YeHMULbr9G8EJvd9OgJnnzgi5x+6eeEOndz44c+woE3/oJcMGSLkVBJCCGEEEJsPmYG5o67rkKXv188Wapc0T3Qfml5v6bOg7BrCIyLu/3Jtk2mph5m9ORfksmcJRJ5A8PDnyYSft1FXceOoRTEpyr6eR2tEja1o4J7MWknsxwgPW2yPBolfWISlc0WxxmdHfiH9+UDJydo8g0N4enslHBQiA029sJPeeqBe5kZG6FzYIib7/w4ew9dI//tbRESKgkhhBBCiK0jl3LCpplXywOFxVNQ6M1j+PJhk7tB+EFoGwDd2NDl2XaGiYmHGDv1N2Szc7S3v5nhoU8RDF6+oe8r8pSC+Nn8r4+jrl8jRyATKw1r7kCFBjC1TrKpJtLTFstjcdLHxrGXl4vj9GCwamWT95JLnIuACCHqQtk2R37wJE8/dD+x2Wn6r7yam++6h91D+xq9NLEGCZWEEEIIIcTWl03C3NHy5uAzr0L0dGmMJwAdl1Zcje4gRPZCnbdbWFaS8fH7OHX67zDNKF1dtzI0+AlaWobr+j5incrCpiOlLXTVwqbIMJbRRTbVTHrOJjmWIHViAmturjhO8/vxDQ6uqGzyDQyg+3yN+IRCbAtmLscLj3+XZ7/xEKl4jMsO38SNd9xNpHtPo5cmapBQSQghhBBCbF+ZhKtixdWPJ3amNMbb7Fx5zt2vqfMAhPsuOGzK5WKcHv8Hxse/iGWl2NN9G4ODv0NTU98FfjBRF0pBbNIVNBVCp6NlYRMtnai2YUxPN9lMC5l5jeTpBOnjE+QmJkrjDANfb69T2XTppTQduorAVVfh7eq6+J9NiC0sk0zy/D9/g+e//Si2aXLoF9/B4fffQXM40uiliQoSKgkhhBBCiJ0nHa1o/Jy/j58tjfG2QOdlTsDUNgCRPoj0O7dgzzn1bcpm5zl16m85M/FPKGXT0/NBBgd+C79/d/0/m7hwxbDJtX2uEEhm46VxLZ2o9v1Yvj3kskHSCxqp8SSpExNkx8bAcprNe7q7abrqKpquPkTgqkMErrgCo7WlMZ9NiC0ksbjAs9/4Mi98/3t4fH5e/+738bp33YYv0NTopYk8CZWEEEIIIYQoSC1WhE2vOD2c3GETOFekC11SCpki/eWhU+iSqlemS2emGBv7GyYnv4KmGfT2fpS9/b+Bz7frIn1AcUFWhE2uBuFlYVMXqmM/pr6bbNzL8qkU8RcnyY7lq5o0Df++YQJXHaLp0FU0HTqE/9JL0eSS6kJUtTB5hqcfuo/jz/2A5nCEw+//MFe99RYMz8W9KINYSUIlIYQQQggh1mJmIHoGlk6X36Ljzn1skmKjcABNd6qZaoROKa9idPx/MDX1GIbRTH/fPfT3/yc8nmDDPqK4AEpBbMJV1ZTfbjlzBHKlxt8q1Ifl6yGz3ERqMkvi5WlSE0lQGprfT+Dyy/Nb5pywydvXJ1fAEsJl8tgRnnrwXs68+hKR7j3ceMfH2H/9G+W/kwaSUEkIIYQQQogLZWadPk1L4zVCpwlQtusFGgT3sNzZzWhXihnfLB4twN7wrfT1fgxj16Xg8Tfs44g6sW1YOuVUvE2/AjMvO/fzJ0A5W+OU7sX27yGbCZKatlg+vkh6TmEmDYxIG4FDV9GUD5kCV12FZ5dUtYmdTSnFyZ8+z1MP3svc+Cm6hy/lpjvvof/KQ41e2o4koZIQQgghhBAbzco51UzVAqelU8TNKUb2Bphv9+HL2gycTnJJPIwe3lu+rS7SD+F81ZNXeopsWWYG5o6VB00zr5Y1kLf1JnJWhMwcJE8nSS95yCx5MXb3OwHToUM0HTpE4OBB9Cb5tSB2Htu2ePWpJ3jmK/9EfH6Wgde8jps+/DG6BoYavbQdRUIlIYQQQgghGs0yIX6WpanHGZn5J5bMMQJ2gMGlNronYujRCbDN8te0dK3s5RTZ61y1LtIHPmkEveWklvLb5lxB08zLTmP5PNNuJrPkIT1tkYl6Scf9aLsPErjyNflG4FfhHx5GM4wGfhAhLh4zm+Vn3/sWzz3yVdLJZS6/8U3c8MGPEO6SCyFcDBIqCSGEEEIIsYkopVhYfIbRkT8lFn+B5uZBBvf+NrubXovm7usUdfd3Ggc7Vz5Rc0dF6FQInPLH/NK/aUsoNAefeQWmX3buZ15BzRxBy//MldLILnvJLOhkol4yqRa03VfgOXg9TYeupunqQ3i6u6XvjNjW0ssJfvTY1/npd76JUjavueWdvOH2D9EUDDV6aduahEpCCCGEEEJsQkop5uYeZ2T0CywvH6O19QBDg5+ko+OtK8MB24bEdI3AKR86WZny1zTtKg+cIv2u0KkfAvIXsU3NMmFhpBg0qemXYfJFiJ9B4Y4kxAAAIABJREFUyzeNt02NTNRDJuoha0ag83KM/YfxX32YpkOHMELyMxbbT3x+jh987UFefuJxvIEA1733l3ntre/B6w80emnbkoRKQgghhBBCbGJK2UxPf4vRk39BKjVGKPQahoc+xa5db1z/JLYNy7PFHk6lfk6u0MlMlb8mEK4dOEX6oSlS3w8q6iO77Fx1buZl1NkXscd+jLZwDN2KF4eYaZ1M1ENOtUP7Zej7D+O//l349l8h1Uxi25gbP8XTD93HyPPP0dq2i8MfuJMr3/Q2dNkaWlcSKgkhhBBCCLEF2LbJ1NTDjJ78SzKZs7RFrmd4+NOEw6+98MmVguW5GqFT/nFuufw1/lBFA/HK0KkNJKDYPBKzMPMy9umfYB1/FmZewchOomtWcUg26cXSd6M6D2DsP4z3tW9H7z4IhreBCxfiwpw58jJPPXAvk8depa2nl5s+fDf7Xn9YAtQ6kVBJCCGEEEKILcS2M0xMfJmTY39DLjdPe/ubGR76FMHg5Rv3pkpBcqF2ldPSKcgmyl/ja60dOEX6obldQqdGs23U4hjmi/8T85Un4exLGJkJvIEUmu4MUbaO6emAjgPolx7G2Ps66Locwr3y8xNbhlKKE88/y9MPfomFyTPs2X+Am++6h94DVzR6aVuehEpCCCGEEEJsQZaVZHz8Pk6d/jtMM0pX160MDX6Clpbhi78YpSC1mO/nVCN0ysTKX+Ntrh04RfqhpVNCiwYxpyfJ/PDb+aDpRYzcWfyhLN5muzhG6U2ojsvQ+l6LtvtyJ2jqOgjNuxq4ciFWZ1sWLz3xOD/82gMkFhcYet113PThj9HRt7fRS9uyJFQSQgghhBBiC8vlYpwe/wfGx7+IZaXY030bg4O/Q1NTX6OXVi61VCN0yt/SS+XjPU1OI/FwH4R6nO10TREIRCoe5+8DYdClV8pGsNNp0i++SOr5ZzBffhKmXsLnj+OPmPgjJobXFTY17ULruBTa90H7sHO/axh2DYGvuYGfQoiSXCbNT77zTX702NfJpdNc8aa3csMH7iLY3tHopW05EioJIYQQQgixDWSz85w69becmbgfpRQ9PR9icOA38ft3N3pp65OOOlVN1UKn+FknlKq8gl0ZzblinTtoqhY+VTvmD4GuX7SPutUp2yY7MkLyJz8l9ZPnyb70HHryNP6wiS9o4t+l4wuaeDzp8heGektBU/E27DSDNzyN+TBiR0vFYzz3yFf52fe+habpXPOOd3Pdez9AoLW10UvbMiRUEkIIIYQQYhtJZ6YYG/trJie/iqYZ9PZ+lL39v4HPtw22JeVSzja71JJT2VS8r3Ysf7zw2M7VnlfTnUqn8wqkgrJND8jNzJB+6SUyJ0bIjpwgc2KE3OkTeD1xvK0W/pCJv8PA36bhDSTRcQWEugfaBsqDpsLj4B75fsWGi83O8MxX7ueVp58g0NzCdbd/kGtueRcen6/RS9v0JFQSQgghhBBiG0qlTjN68i+ZmnoMw2imv+8e+vv/Ex5PsNFLu/iUglxyZdC0ZjCVP6as2nNrxirhU9ipggqE87dQaate4Zw3cPG+h4tM2Ta5ybPFkCkzMkJm5ATZEyfQzDi+oIkvaBHo9ODv8uJrzeHRomjKFQB6W6B9qBQy7RouBU/Sv0nU2czYKE9/+Uuc/NmPCbZ3csMH7+Lym9+MLltra5JQSQghhBBCiG0ssXyck6N/wczsd/F4Igzs/XV6e+/GMJoavbStQSnnynbnUhVVuM/EwDZXn9/wuwKncHng5H5e65yvZctV8iilMKeny6qaMiMjZE6cwI5F8TRbxbCpqacJX5vC611GNxfQKPVvomlX9eom6d8kLtDpl17gqQe/yNTIcTr69nLTnR9n8Jpr0bbYf2sXg4RKQgghhBBC7ACx+EuMjv4Z8/NP4PN1MjDwm1zS8yF03d/opW1fhQqpdDR/i5UeZ6Ku45XnXI/N9OrvoRnlgVQxcIqsI6gKgT+8afpJKaWw5ubyAVOhqskJnKyFBdAVvhYTf4eHpr0hAp0GvuYMhlpEzy6UTxa6pEr/pn3OlQUNb2M+oNhSlFIce/YZnn7oSyxNnaX34JXcdOfH6dl/oNFL21QkVBJCCCGEEGIHWVp6npHRL7C09BwBfw+Dg79Dd/ft6Lo0St6UzMz5hVGFc9n4Gm+gOVv1mtrO7RaIXNTm2ubCAtmRkRWBkzk763wKj42/3aBlqI3AniZ8YQuvJ46emUJzfwfu/k27hlf2b9okAZvYPCzT5MV//1d++PUHSUaXuPQNN3DjHXezq6e30UvbFCRUEkIIIYQQYodRSrGw+AyjI39KLP4Czc2DDA7+Lru73ommyV+qtxXLdMKmaoGTe+tetVs6Cqzy90B/uDyQat4FoR6nSsh937obNqgnjRWNkhkZLatqyoyMYJ49mx+h8LR6aN7fSXNfK/52HW8ghWHPoyUm0MxUaTJv88qgqfBY+jfteNl0ih9/61H+458fxsxmuOotb+fwL99Ja9vO/rUhoZIQQgghhBA7lFKKubnHGRn9AsvLx2htPcDQ0KfoaH+L9A4RYFtOsFToI1UrfCrclmchfnbllj3NgGB3Pmhyh07u4KkbPPW70paVSDiVTWUNwkfITUyUBnk9NO3rpmV4F4HdPnzBHB49hp6aRFs6Xd6gvaltlf5NLXVbt9j8ktElnn34K/z8376L7jG49p23ce2734+/eWf28ZJQSQghhBBCiB1OKZvp6W8xevLPSaVOEQq9huGhT7Fr1xsbvTSx1SjlBEyxCYhNuu5dj6MTkFuueKEGrV21Q6dQDwR7LvhqeXYySWb05Ior0uVOjztrBzAMfHt7abl0N4HeZvxtGl5/EiM3g7Z4EuKT5ZOGLnHCpcr+TW17pX/TNrY0dZanv3I/R3/wJE3BENe/70McetuteLw762cuoZIQQgghhBACANvOcXbqYU6e/H/JZM7SFrme4eFPEw6/ttFLE9uJUs52vFqhU+FxOrrytc3tqwRPlzh9kfyt57wkO50mOza2okF49tQpsPIVS5qGt6+PwL5+mgci+Ds9+FpyeLQltOgYzB13thQWaEapf1Oxwilf5RTskf5N28T06AmefOCLnH7p54Q6d3Pjhz7CgTf+AtoO+flKqCSEEEIIIYQoY1kZJie/zMmxvyGXm6e9/c0MD32KYPDyRi9N7CSZhLOdbrWqp+T8ytcFwrWrnQqP/SFYxxZPlc2SPXVq5RXpxsYglyuO8/b04Ns3TGCoh6aeJvwRhcebQI+fhvkR5+bu3+RpKg+Z3Dfp37Qljb3wU5564F5mxkboHBji5js/zt5D12z7rcQSKgkhhBBCCCGqsqwk4+P3cer032GaUbq6bmVo8BO0tAw3emlCOHJpZztarWqn2CQkZljRcNzXunroFLrE6aNUIxBQuRzZ8TNOyOTq3ZQdHUVlMsVxnt278Q8P4xseIrC3nUCnga8pg56chPkTzm1xrLx/UyBSETQNl+6lf9OmpmybIz94kqcfup/Y7DT9V17NzXfdw+6hfY1e2oaRUEkIIYQQQgixqlwuxunxv2d8/F4sK8We7tsZHPwdmprkktpiCzCzkJhafbtd/Cwou/x1nsDqPZ5Cl0BzR9k2NmVZ5CYmVmyjy4yMoFKlSiWjowP/8HA+cBogsKcFf8jEyM2Wwqb5EWeNbsGe8pCpEDxF9ta10bm4MGYuxwuPf5dnv/EQqXiMyw7fxI133E2ke0+jl1Z3EioJIYQQQggh1iWbnefUqb/lzMT9KKXo6fkQgwO/hd/f1eilCXFhLBOWZyrCpsoA6izYufLX6V4I7ald7RTqgdbdKDRyk2dXNAjPnhjBXi41LTfa2pygad8w/uF9+Acuwdeu47EX0BZOlLbSzZ+A1EJpHZrhNAavrG7aNeysY4f099lsMskkz//zN3j+249imyaHfvEdHH7/HTSHI41eWt1IqCSEEEIIIYQ4J+nMFGNjf83k5FfRNIPe3o+yt/838PmkF4zYxmwbknOrNxePTYKZLn+dZkCwu2q1kwr2YGZ8ZM7GyY6dKgVOJ05gx2LFKfRQyKls2jeMbzgfOPXuwuNJoBVCpkJ108II5JKl9/cEnHCpVv+mbd7zZzNILC7w7De+zAvf/x4en59r33U7r3/P+/D6L+xqhpuBhEpCCCGEEEKI85JKnWb05F8yNfUYhtFMf9+v0N//K3g8wUYvTYjGUApSi6s3F49OQG654oUatHYVQycV3INFG5moQWYuS+ZslOz4NJnRk1gLpQolvbkZ3759FYHTMN6ghrY4Wgqa3P2bbLP0tsX+TcMrK5zO4yp6YnULk2d4+qH7mDpxnHv+/P/D6/M3ekkXrK6hkqZpvwCklVLP5Z9/HPhV4GXg00qpxIUt9/xIqCSEEEIIIcTGSSwfZ3T0z5md/Rc8nggDe3+d3t67MYymRi9NiM1HKcjEVu/xFJuAdHTla5vbMT3dZDNtZOIBMkuQmUmRnVzAXCiN1wIB/ENDpW10+/JhU083WnxiZdg0PwKxM+XvFdyzMmhq3wdtA9K/6QKllxMEWrZHaFfvUOmnwOeUUo9pmnYZ8ALwD8CNwDNKqf98oQs+HxIqCSGEEEIIsfFi8ZcYHf0C8/P/C5+vk4GB3+SSng+h61v/X+OFuOgyCaeB+GpVT8n54nArq5GJecgkQ2STIefxgom5VLoanebz4hvYi3/f/rLAydffj6ZysDBaHjTNn3C207neB013GoOvuDrdPunftAPVO1SKAa9RSo1qmvZ/ADcopd6ladobgG8opRpyeQgJlYQQQgghhLh4lpaeZ2T0T1la+hGBwCUMDvw23d23o+ueRi9NiO0ll4b45Ko9nqzFWbIxg0zUQybmJRP1kI37yCVc4Y+u4duzC//eXvz79uE/eAjf5VfjGxxE9/kguVAROLmCpxX9m4Zq9G9ql/5N21C9Q6UocK1S6rimad8HHlFK/ZWmaXuBI0qphtS/SqgkhBBCCCHExaWUYmHhaUZHv0As/gLNzYMMDX6Crq5b0TSpZBDiojGzkJhaETrZc6fJjI2TPTNLZjpBJmaQiXrJLRug8uGPBr42L/7uEL6+LvyDA/j3X4bvwNXonYPQ3OFcNa8yaJo/AYsnK/o3hUsBU1nj8GHwSx+2rareodLjwCTwbzjb3g4qpUbyvZbuVUoNXuiCz4eESkIIIYQQQjSGUoq5uX9jZPTPWF4+RmvrQYaGPklH+1vQpGpBiM3BMp1wKDaJPTtG9vgrzlXoTk2QnVwkM5MkG1WlsAmFt9XCH7bwdwbw7WnDv7cH/9AQeudep+F4azdgQyrqBEwLI6XQKTpe/v6t3Su30rUP5/s3yfbZzazeodJVwAPAXuALSqk/zB//K6BNKXXXBa73vEioJIQQQgghRGMpZTE9/W1GT/45qdQpQqFrGB76FLt23dDopQkh1kGl02SP/pzMyz8hc+wImdEx54p0MzGwSnmBt9nEFzbxh0z84Rz+sI2vpx2jo6d4dTtaOkD3gJVzmpYnZpzgaX4EknOlN9V0iPRXbKXLB0+hXunftAnUNVRa5U0CgKmUMtccvAEkVBJCCCGEEGJzsO0cZ6ce5uTJvySTmaKt7TDDQ58iHH5to5cmhDgPyjTJnh4nM3KC7IkTZI69Sub4cbKnJ1DZXHGcJ+jBH1H4WpL4W1P4wyb+UA7Dn88aWrqc0KmlC7xNTqBkZZ3QaXkWlk6X928y/PmAabh0ZbrCraVD+jddJPWuVPp34H1KqaWK4yHgUaXUW857pRdAQiUhhBBCCCE2F8vKMDH5IGNj/4Ncbp6O9rcwNPRJgsHLG700IUQdKMsiNzFB5sRIPnAacbbUjYygUqniOCPcgr87iL/dgy9k4m+O4/fOYBBdmQsFItDUVh46paPO1enc/Zv84ZVb6QrhUyB0cb6AHaLeoZINdCulZiqOdwETSinvea/0AkioJIQQQgghxOZkWUnGx7/EqdN/h2nG6Oq6laHBT9LSMtTopQkhNoCybXKTZ8mOnMgHTqXQyV5eLo4zImF8ey/B39OOv6sZfxv4Qhk8ah6tcMW75PzKNzAC+dBJAysD2eXy8y2d0HHpyqvTSf+m81KXUEnTtEKt6vPA24EF12kDuAX4VaXUwPkv9fxJqCSEEEIIIcTmlsvFOD3+94yPfxHLSrOn+3YGB3+HpqbeRi9NCHERKKUwp6fJnBgpD5xOnMCOxYrj9FAI//Aw/n3D+Ab24t8Txt/px+NLlcIm95XuEtMr30zTAQ2U5T4IrV0Q2QtdB2H3FaXAKdwLurHh38FWVK9QyQYKA6ptXEwBv62U+sfzWuUFklBJCCGEEEKIrSGbnefUqb/lzMT9KKW4pOcOBgb+M37/7kYvTQjRAEoprLm5fMBUvpXOWijVs+jNzfj27SsFTsPD+Pftw9vVgZacKQ+aCo+XTkP0DCzPUYo0qtB0Z9tdcA+0DULnZdBzDVxyLQR37+j+TfUKlfbihEmjwHXArOt0FphRqiwCvKi2Q6gUz8b52L98DB0dXVvlttb5whjdudc0DUMzqo7TWOVc5etcc1WbU0PD0I2qc57zXIVz65nL9TnWmksuaSuEEEIIsXmk02cZG/trJs9+DYD29l+gu/s2OtrfimHIFhUhBJgLC2RHRlYETuZsKZLQAgH8Q0P49g3jH96Hf98w/uFhvH19aEa++sgyYdkVPEUnYP44zJ/Ih06zkElQPXjSwNsMzbuc0GnXoFPptOcaZ5td624wPBfl+2iEi3L1t0bbDqFSIpvgM898BktZKKWwlV1+w155rPK8vY5x65hLrZbgbmGVoVy1YKsyoCo7V3FMQ0PX9KrjNU0rC/dWnHMFX+65Km/V5lpx7lznqhI+VptrtSBztbnWG3jWmksIIYQQO0sqdZozEw8yPfVNMtlpPJ4gXZ3voLv7NiKR16PJnw+EEBWsaJTMyOiKBuHm2bPFMZrPh29wEP/wcFng5OvvR/NWaQdt25Ccg6VTMPUiTL/sCp3mIJsobxbu5m12Kp1CPdA2BF0H4I2/uy221NU9VNI0rQ+4CegCyv4Pr5T6wvks8kJth1BpMymGWusJqPIhlKWsuoReCoVlW+sPx1aZc7W5lKqxZqqfKxyrNmfxXOXrqH6uci7391c53j3WVnbZse1qPVV5hmbQ6msl4o8Q9oUJ+UOE/eHi87DfORbxRwj7w4R9YVq8LVKtJoQQQmxiSlksLj7L2alHmJ39HpaVJBC4hO7d76G7+3ZaWoYbvUQhxCZnJRJkR0fLt9GdOEFuYqI0yONxejUNu7fS7cM3OIDu863+BrkUnP05TDyfD51GnNApOQ9munzsZ2bBs8Z8W0C9r/52F/CPgImzBc79IqWUasglHCRUEjtRWUUbdllAVThXNaBSyhlfecwVolWGXhc8V0U4VvVcYa4qn6NyvKlM4tk4sUyMaDbKUmaJaCZKykzV/L4MzXACpnzIVHxc7bnrWKu3VcIoIYQQ4iKzrCSzs48zNfUI8wtPAzbB4FXs6b6N3bvfhc/X0eglCiG2EDuZJDN6csUV6XLjZ5wKJQDDwNfXV76Nbt8+fIOD6IHA2m+SjjohU6G66aZPbeyHukjqHSqNAF8Bfr+RPZQqSagkhADIWlli2RjRTCloimaixLKxsufRbJRYpnQsaSZrzlkIo0K+UDFwivgjK567K6TC/jBBb1DCKCGEEKIOMplZpqf/mampR4knXkbTDHbtuonu7tvo7HgbhrGOv+wJIUQVdjpNdmxsRYPw7KlTYOUjD03D29dX3iB8eB/+oUH0lpbGfoCLoN6hUgI4pJQarcfi6kVCJSHEhchZOaLZaCl0ygdPaz1fzi3XnNPQjGLwVNyK5w6efOHS9rxCZVTAqYyS3lJCCCFEdYnEMaamH2Nq6jEymbMYRitdXb9E9+730tZ2vfRfEkLUhcpmyZ46tfKKdGNjkMsVx3l7elY0CPcND2MEg41bfJ3VO1T6KvCIUurL9VhcvUioJIRohJydcyqh8tvwCoFToQKqsmqq8DyRS9ScU9f0UhXUWtv08sFUyB8i6AtKGCWEEGLHUMpmcek5pqYeZWbmX7CsBH5/N92730t39220tu5v9BKFENuQMk2yp8edkKkYOI2QHR1FZTKYhkGyuRmzp4cbvvZVtLV6NG0B9Q6Vfg34feA+4EUg5z6vlHr4PNd5QSRUEkJsJTk7VwyiYpmK7Xr5cKq4Pc/1PJ6L15xTQyurgCpsw6v1vBBMtXpbMbbBVSmEEELsXJaVYm7u+5ydepSFhSdRyqK19fJ8/6X34Pd3NnqJQohtwLZtEokE0Wi0+m1xkVQmA4AB/N5nP4uub/1/9K13qGSvcloppRryNxMJlYQQO4Fpm8Vqp5rb8qocWyuMCvqCxaCp2ta8QuWU+2p6QV9QwighhBCbTjY7x/T0tzg79Sjx+IuAzq5db2RP9+10dr4Nw2hu9BKFEJtUOp0mGo0Si8WqhkaxWAzbLo9E/H4/4XC46q2vr09Cpa1CQiUhhKjNtJ2r5dXqDbWUXiqrmipcUS+eXTuMWuvqeZXPQ76QhFFCCCEuiuXlEaamHmFq6jHSmUkMo5nOzrfT3X07u9oOo2ny+5EQO4VlWcTj8dpVRtEomXyVUYGu64RCIUKhUM3gKLCeq8JtcVsyVNI07ZeAv8CpGvt7pdR/X228hEpCCFF/lm05YVR25dX0Krfsua+mF8/GUdT+PSXoCxZDpuLWPFcIVayaclVIBX1BPLrnIn56IYQQ24VSNktLzzM19Qgzs9/FNOP4fbvZ3f1uurtvJ9h6oNFLFEJcAKUUqVSqZoVRNBolHo9TmXk0NTXVDIvC4TCtra3botLoQtV7+5sG/Gfgt4BB4Eql1Kimaf8bMKqU+modFmwAx4C3AWeA/wA+rJR6pdZrtkOoZCdzTP3Zj/PPNNCKj1wPKg/mH7svW+4eUuV4lUnLzmnn+D6uF5Ut0X289hq0lcPW8T7Vpl7Pa1xf67rfZ+XPYf2vcQ5rVT53lddUe9163sf9gcp+9iuPrzWfdo7vUz6sxq+ZGsfLvs9avzarHNfc8+kamqGBoaEZunNfPKY79/nnxfOFYx699HpdK/++xQWzbItELlG1V9RqV9OLZWKrh1HeYLE3VOFqemXPq1RIhXwhCaOEEEIUWVaGufnvMzX1KPPz/wulTFpbLqO7+zZ2d7+HgL+70UsUQlQwTXPVwCgajZLLlbV7xjCMYjhUq9LItw2aaF8M9Q6VPgH8V+D/Bv47cEU+VPoo8GtKqZvrsODDwOeUUrfkn//vAEqp/6vWa7ZFqJSxiH571HmS/1GU/UzcP541jqv1ji+cU65T5/A+lUPW+z7lQ1XF3KvPp1a8aZXXVJ1PVax1/e+vap1bYz5V43jVSSu/m/W87py+z5Xvs8rf3XeefCBVDJ4M3RVQlYdWhec1AyqPXnWuwvNV53IHYoWQzD1/4fXFsMw1/zZgK7u0Tc8VPC1lllZcYa+sqXk2hq1qt/xr9bauuS2v8ljIH8Krey/ipxdCCHGxZbMLTM98m6mpR4nFfgZo7Gq7ge7u2+jsfDseT2ujlyjEtqeUYnl5edVeRonEyisnt7S0rFpl1NzcLFVGdVLvUOkI8Gml1Lc1TYsDV+dDpSuAJ5VS7XVY8C8Dv6SU+tX8848Cb1BK/Zdar9kOoZIQjaTWEZJVHl/xvwx3ilb5mnMNImuFdO75bIWySvfKssFyHTPtledslR9jO+OKx8qfu1+7cq78+OJcpde753e/34Yrq9xyQil3aFU1xCoeO48Qq1oVWOX7FcdUvJ+nSmCnaxcUjBXCqMrgqXD1vLIr7FX0jlotjGrxtjjb8/Lb8Irb9VzPw74wkYCrasoXxmtIGCWEEFtNMnmSs1OPOv2X0uPoehOdnW9jT/dttLW9EV2qXoU4L9lsdtUqo1gshmmaZa/xer2rVhmFQiG8Xvnz1sWy3lBpvf+X3Au8VOV4Dmg6l4WtotrfLFb8rUzTtF8Hfh2gv7+/Tm8txM60Ypte6Uzt12zYarYXVSUAWzXEKoReVUKrqiGZWT5WWSvnKr6Pey7Txl4tECu+nw2rXfezXjRWr9yqrAJzBVSFEKvF0GnRfVxidIGxu/q2yFYNQs5zZUBGZUnZKZJ2mqSdJGElSNjLJMwEMStB3IoTNWNEozEWzBlO5o6zlFsiQxZTszA1C0uzMLGK/1G0eFtKjclrXE3P/bwQTkkYJYQQjdPcPMjw0CcZGvwE0eiPmZp6lOmZbzM9/U18vg52734P3d3vJdh6hWybFyLPtm0SiURZQFQZGiWTyRWvCwaDhMNh9uzZw4EDB1aERk1NTfLf2Ra03lBpFHgtcKri+K1AzZ5H5+gM0Od63gtMVg5SSv0d8HfgVCrV6b2FEKKuNK0QejR6JedP2fmAaZ0hVtUArVZFmet5tfkLVWFVQ7KUuWL+suemQtnO+NW2e2pAS/7WSTPQDHSe8/dkawqlKyzNxtLsfOhkksMkR44sOXKaiaXFSLNIQrM4VQilNAt00D0GumHg8XgwPB68Xi9erw+vx4fP58fvCxDwBQh4m2gKNNPka8Lj8VbfOmno4NHQAx7n1uRB80oZuBBCrEbTNCKRa4lErmX//t9nbu4JpqYe4cyZ+xkf/0daWi6le/dtdHe/h0Cgp9HLFWJDZTKZVfsYxWIxbLv8Xx99Ph+RSIRwOExPT0/VKiPD2MJ/MBY1rTdU+hPgrzRNa8b5c/jh/Pa0/wr8Sp3W8h/ApZqmDQITwB3AnXWaWwghxDnS9HylEIBva/4hoBhU2a4Qq8pWxnVXeuVDK2zbNVf5/CurzmzMnIlp5jDNHJZpYpkWtmWjLMt5TVah2aDZGrqtoSsNQxl4lfu36RyQwyRG/Fy/iELI1JQPmQqPA0aVY/nnrvOaIaGUEGLn0HU/XV230NV1C7ncItMz32Vq6hFGRv+YkdE/IRImMyvUAAAgAElEQVS+lrZdN9AWuZ5w+Gp03d/oJQuxbpZlEY/HV60ySqfTZa/RNK24Ha2vr69qL6NAINCgTyQabV09lQA0Tfs14DOUqokmcBpr/0PdFqNptwJ/DhjAPyqlPr/aeOmpJIQQYrtSSrGcWyaajhJNLhFLRYmnYyTSCRLpOIl0nOX0MsnsMqlMkmQmSTqbIp1NY9gazVaAVruZkB3kEk83XUYn7UQIqVaarQDerIFKW9gpE+zV/yygeXVX0OQOp4yyIKpaYKUFPNumqbwQYmdLJk8xNf0Yc3OPE4+/Aih0PUA4/Fra2q6nre16QsFD6HLBB9EgSinS6fSqVUbxeJzKDKCpqWnVXkbBYFCaX+9AdW3UXTFxB6ArpWbOd3H1IqGSEEIIUU4pRSwbYyw2xujSKKPRUUaWRhiNjjKZmETl9wQamkF/qJ+h0BCXtu5jX9MgA75+9nh2480a2GkLlTKxC7e06TxPm9j5MMpOmai0ueZVJTV/KXzSmtaqkjLQmrzoTYYz3m9IfwUhxKaTy0VZWvoRi4vPsrj0LInEEQAMo5lw+HW0tR2mre16gq1XSLNvUTemaZZVFlWrMspms2WvMQyjalDkDpH8fqm2EyttWKi0mUioJIQQQqxfykwxFh1jJDpSDJxGo6Ocjp3GUhYAGho9rT0MhYcYjgwzFB5iKDLEUHiIoC+4Yk5lK1S2PGSyU5YTPpUdc4dTpfMqY62+aI2VFVBl4ZSrSsodVuXHaF5dQikhxIbLZhfKQqbl5eMAGEYrkcjri5VMwdaDaFu54aLYMEopksnkqlVGiURixetaWlpWhETu5y0tLVJlJM7LBYdKmqa9APyCUmpR07QXWeXfIZVSh857pRdAQiUhhBDiwuWsHKfjp4sVTYXA6WT0JFm79C+eXU1dDEYGGQ6XwqbhyDC7ArvO+72VpVCZQuBkYady2CmrFEQVwqdUeYVUoXJK5da4TKGhVe0TtTKYqh5WaR75g7gQ4txlsnMsLT5bDJmSyZMAeDwhIpHrnJApcj2trZehafL/mZ0gl8tVbXjtfm6aZtlrPB5PzQqjQoDk9cp2S7Ex6hEq/QHwx0qpZP5xTUqpPzy/ZV4YCZWEEEKIjWPZFpOJSaeyKb+N7mT0JCNLIyTN0qWCI/5IKWRyBU67m3dveJWQMu1S8FQInapVSeXPqYrzWGtUbHv0fCWUURFOeVzhVEVvqUBpjGZIlZQQAjKZaSdgyodMqdRpALzetrKQqaXlUqmu3IJs22Z5eXnVKqNkMrnidcFgcNUqo+bmZvn1IBpGtr8JIYQQYkMopZhOTjO6NFoMnAqPo5locVyLt4Wh8BCD4cHiVrrh8DA9rT0YeuO3fyilwLRrb9crVkm5zpdVTpmwRqGU5jOcQKrmFfZWqZLyG9LkXIhtKp2eLAuZ0ukJALzedtra3uD0ZIpcT3PzoIQKm0Amk1mzysi2y39D8Pl8q1YZBYNBPB7ptyU2r7qGSpqmXQEYSqkXKo4fAkyl1CvnvdILIKGSEEIIsXkopVhIL5RtoRuJjnBy6SQzqdL1PfyGn4HQQFm/puHIMP3BfrzG1injV0qhsnapiXlqlS177jH5vlMqs0aTcw00/2pVUsYqvaU8aD7pJyXEVpFKjZeFTJnMFAA+X1exH1Nb5Hqamvrlv+s6syyLRCKxapVROp0ue42maSuqiiqfBwIB+VmJLa3eodIzwF8rpR6sOH4H8F+UUjee90ovgIRKQgghxNYQy8Y4GT254op0E4mJ4hiP5qEv1OeETa7tdAPhAZo8TQ1c/cZQtkJlrKoVUIXqKVUZVBUrqixUdo0m5/r/z96dR8d1nnee/957q+6tFftGYuG+gRK1WCIlWZItU2QnbndbiTsZJ3Hi2Jbt092ZZHrSPen0nJ5J98lkOpPpmenTMzmnKXn3cfbNkeUjUrLlLZYoWZIpEdx3gERhB2q96zt/VKFQBRRJkASI7fmcU+feWvGiBIKqH5/neak91Lx8W0VYVRFKlXfhCy99NZkQa5FSinz+YlXI5DgjAFjWuoqQ6VGi0c4lXu3yppSiUCjUDIqmK42mpqaY/Zk4EoncsMookUhgGPI7ciVTKiAInOJFOajAIQjs0m2zjsqZue7a+E4B387jOzaBk8d3bQKvgO/aoBT3HfyvS/3tLYiFDpXSwANKqbOzbt8CvKWUqr/tld4BCZWEEEKIlW0xdqRbK5SvZoKnivY8lZ81W6pWlVRhHkPOQ1qNIGpm2PncICqEVjkIXYacC7EgiruCnS8HTOPjr+G6YwBEIt3FdrmGYtAUiaxb4tXeXZ7nkU6nb1hl5DhO1XN0Xa858LryumVZS/QdrW5B4BEENqoc0lQGOBXXS/erWo9R1ddVzfDnOo+puF8pd2G+KaWhBWG0IFS6WDz54R+viiq1+YZK823i9IFawVEjsPLfLSGEEEIsiWgoyq7mXexq3lV1+/V2pHv92utzdqSrbKGbnt90JzvSrRSaoWHEwxC/vZZB5QWzqqBmdt+rVSUV5D38scLMkPPgxv8wqYX1GlVSc1v2qsOpmcBK5kkJUaRpGvH4FuLxLXR1/QpKKbLZ0+WQaXj4Za5d+0sAotEN5Va5urp7S+1yK7Oiphim5W5YZZROp+c8LxaLUV9fT3NzM5s3b54TIMXjcXR9bYTeSqmKAMeeG7hU3Keqgp25Icz0c9R17694nZpf0+GmgwjnSdNC6LqFrptoWhgdEw0TXYXQ1HTAE8bwIoT8EHgGmhcCx0BzDXB0ND+E5oeLgZAqBkK6Hy4+nzB6OIJhFi++YVIgTEYZjLkGIznFcAZG0gHZAmiBhuGDGWjEdJ3HfkYRXkMbdcy3UunvKAZLv6BU8Z8NNU0LAX8BhJVSH1nUVV6HVCoJIYQQa0utHemmA6flsiPdWqCUQrlBRTtecX5UuWoqV6Nlb3oHvtL1G86TAjSrouopaqBHwzeokjKKt8Wm50nJkHOxdigVkMmcLIdMExNH8bxi2KLrFvH4VuLx7STi24kntpOI78CyOpb8d6HrunOGXc++eJ5X9ZxQKFSzHa2y0igcXtrZfEr5C1SBY88/4FG1vp6DUs7NFzxPum6i6xaaZpbOzXKwo+smujZzm6bXeIxWfV2rfJ5mgVcMe3AMNMcAW4e8DrYGeQOV1yAHKqehckHpH0FuvGGGZurFvztipb8vYiH0WHjmvHRfYBmMej5X8jYXRnIMpLKMjuTJjNu4aZeIp0gGGslAI6E09Nl1NYaG32LitkcImkx++xfvQV8FfwctdPvbDuCHQKZ0BHgcSABPKqVO3MFab5uESkIIIYSA1bMj3VqhVGme1HQ73nVnR80No4K8h7JvMk9KY24FVK0d9qIhdKt0X+kxesRAs0Joa+hfmcXqopRPJnOydDlFJnuabPZMefg3QCiUnBM0JRLbCYcbF2QNQRCQzWZvWGWUzWbnPC+RSNxwllEsFpsThhWrcdyaIY26XrhzoyqdmgGNfdMAZ7qtq1SDccc0zagIcCrCm+nrpfu0Wvdr1bdpNwh35jymRmikaeF5hZDlCticWzqWLnm3dJx1X+m6Ktz4PdMixqwwqHY4NPu+yjbsTM7l7KVJLvVPMTiYYWykQG7Cxsu4GIWARKARV8wJjJQBWjyMajbx2iO4LRZTCYNRU3EVh4HAIeWBo4pfS1M+A089iL4K/gFrQUOl0guuA34DuJ9iy9tbwB8rpa7eyULvhIRKQgghhLiRtbYj3VqhAlUMmaZ316uqiKoInyrur5w/pZybt2Bopl4MpqYDqapzA90qBVCRyuOs24y10WIjVgbXnSwGTJnTpWMxcPK8meDdNFtLQdOOcuAUj20lFIpXvVahkGdycoTJyVEmJ0eZSo+RSY+TyYyTyU6Sz00BLpoWoOs+uu4TDmvE4xbRWJhoNEwkYmBZBqapYYZ1QiGFwp3/nJyKcGehVFfhVAc4NatvagY4179vTiVPzfvN0jrmO6lmYU1Xos6EQm7xd2etcKh8Xrzvhr9bNaoDoDnBUPG6Njs4itw85Pdcn8y4zeBglssDaVKDGSZHC+QmbYKMR8gOiAZzX8PTwY/oGIkwWrOF12YRtFjk68KMhmEQj0t2nqu2j62qn68FWQxvGN0bxvBGCPujtIQDNkQifPlDv4dlmLf1/i8nCx4qLUcSKgkhhBDidsmOdGuX8oNyFVQxnCoFUIXK20qzpezZtxcfe9NB55TmSlWGUpZx3QCqslqqfJsVQgtLMCUWj1IKxxkikzlNJntqJnDKniEIChWPS5YqcFzAQ9cX6jOkNjegMWaHOLffYlWuwKl43bnB0HRLVxhNWz1/3soVobnZ1UFuRQVR7fvwb/Df19BuHA7Vui92+23JruOTHbfJjBdIj9kMpjIMpXJMjeXJT7qonEfInbveAop8GFTEIJQMY7RYqLYIqjmC1xBmytIYcD0u5Qv0FxwKs17CCHJo3lA5NNK9EaJqis6IweZYgq116+hOdtOV7KI72c26+DoyhYC+q1M8trXllr/P5eiOQyVN0x4E3lFKBaXz61JKvXV7y7wzEioJIYQQYqHV2pHu3MQ5rqSvzNmRrrwbnexIt+YoP5gbQJWPpdvsWmHV9LmPcubRJmNocyugrhdKzWnlK55rYX3J5+eIlcW287zz01c4eeIVPP8SsWge04wRNmNYZgzLShCJJohGkkRjdcSidRihyE1brGbaqaYrckLys3kTKlAzFZelAEjNCYpqhEO3Om9oulKocv5QrXBoAX+fOAWP7IRNZnz6UmBqrMDocI6pMRt7yoEa1U95TZHWFBlDoaIG4aSJ2WKht0fQW6IEDWFyYY1rrseVvMPlgk1+1uYSIZXH8EZQ7mA5NDL8YRp1l42xCJuS7XQnu6suzZHmOd/7lbEcR/pSHO4b5I2L44R0jbf/lwPEzKWpNFtICxEqBUCHUmqodK6ovdObUkotyRACCZWEEEIIcbe4vsulqUtVLXTnJs9xcfKi7EgnbktVG19ltZQ9O4CqUUE1fXT8mw49R9dqVEUVK6dmB1C1K6hCxXZA+fC/6k1OTnL06FHeeust8vk8HR0dPPLII9xzzz2EQiv/Q/JSuqV5QxX3q4J3w9ddiHlDi8HOe2TGC8Uqo1JwlB0vkJmwmRotkB638WvMx8tpirReDI3SusIOg1lnYrVGsDpihFojEA9TCMGYCui3Xa7kHXJBdfgUxsb0xwicQXBT6H6x4ijkj7LeNNiYaC1XGXUnu+mp66Er0UXCTNzw+1JKcfzqFIf7UhzpS3Hi2hQA29sTHOht52BvB/d21sug7tILbAAuK6VU6fy6lFKXbm+Zd0ZCJSGEEEIsNT/wGcgMVLXQyY504m5RgUI5/o1b+GZXUM1+rH3z3fjQQLPmtupVVk5dP5QyZFe+ZUwpxZUrV3j99dfp6+sDYOfOnezbt48NGzbI76cKizpv6GYzhmoFR/OYN7TQlFLYuWKFUXqsMFNpNFEKjUrnbo3h23YIpjTFBEE5NErrCi1mEG+LEuuIEWmKYMRDOKbOlAYp1+OK7ZDzq98/C4eImgR3CM/uB28IwxvB8EaIBJP0JJrnVBp1J7vpTHTe8qxE1w84emGMw8cHOdKX4upkAV2DhzY0caC3nQO97Wxsid/8hVaYhQiVvgP8vFJqQtO0XwP+TCllL/A674iESkIIIYRYrmRHOrFSKKVQTlCzOqo6gCqdX6eSiuAmyZQGmllrt72Z0Gl6973pKirNMmZ26CvfL0PQF4LnefT19fHaa69x9epVLMviwQcfZO/evTQ2LswucMvV9ecN3XzmEN4CzhuaDo6s5RG4KqUoZN1SVVGpwmisMFNpNFFsUfNqBGRBRKcQgkkUQ77HuArKoVFGV8RbozS1x0g2RgglTIKITtaAsSBgwHHJzgqNIppHTKUJ+aN49gC2fbkcGuneCPVhg55kT1VgNF151BZrQ7/D+VgZ2+N7p4Y53DfId08OMVXwiIR1ntjWyoHedvbvbKM5Yd3R11juFiJUsoFNSqmrmqb5wDql1FDNBy8RCZWEEEIIsdLc7o5004GT7EgnlqPpCo65AdSNKqimK6VKQZU9v535AAjpM4GUNX2c3pmvIpiyjIrHhSquz9y/HD7M303ZbJY333yTN954g0wmQ3NzM/v27eO+++7DslbWh+RFmzcU1muGQ3dz3tBCU4Ein3HJlKqJZiqMii1q6VKQ5HvVb4ymgREP4UcMciGYUAEpz6XfdpikFBppCiNq0N4ep745ilVnQjSEHdaYQJHyvBqhkU+dlscMxlHONfL5S3jOQGlHtRF0laMt1laz2qg72U29Vb/g79HQVIEjJ1IcPp7ix+dGcfyAprjJh3a2cbC3nSe2tRI1184/9ixEqPRT4G3gu8CXgN8Epmo9Vin11dtf6u2TUEkIIYQQq0nljnTlVrrr7Ei3pX5LVXWT7EgnVoOZdr5iyFSsipoJnWaHULPvn74vKPjgzS+gKu/SNx06WRXVU9PXIwa6aczMogrraGGjOGuq6rx03zIMqgYHB3nttdd499138X2fLVu28Mgjj7BlyxZ0fWkrv8rzhq7TOlYzHLrdeUM3nDlUmje0wnZdDAJFPu2Uh11XVRqNl1rUJmyCWVVWuq4RrTcxEiFcSyenw5jyGSztinYpb5PVINCAsEas3qKpNUaswcKIhXEtnbQOI75HblalYlRXNOoFImoKzR3Csa+QyZ4Dd7AcGoX0EJ2JzmKFUaK7ar5RZ6KTSCiyqO+bUopzwxleOl6cj/TOlQkANjTHOLCrnYO7O3jfhkaMZfjn+W5YiFDp/cD/A2wF6oA8tbutlVKq7g7WetskVBJCCCHEWpBzc1yculhd3SQ70glxQ8oPiiFTaae9oDATOlUFVXYpqJp9v1OqrLL9G2+xXktIR68MnMJ6caZUWK8612vcVius0mvdN48WwCAIOHXqFK+//joXL14kHA5z3333sW/fPlpbW2/zna1N5g0tjsAPyE055R3SshM26ekB2KVKo9yEQzAr1NFDGokGi3iDhZEI45oaGUMx6vtcdV0uZm3OTOaYsr3ih/ywhoqEqG+OkGyMEk6GCUrVSeNBQG5WbhDXoSnkkiCD4Y/i21fJ5s6Tzp5F94bRVXGmYCwUmxmEXTEYuzvZTUes4663efuB4u3L4+VB2xdGsgDc11Vfmo/Uwfb2xLKtOLub7jhUmvVi5Z3gFmJxC0VCJSGEEEKsZbIjnRB3h/KC6tDJDVCuX5xFNX3uBqXrPoEboBy/fL34mNJtFedB6bk3nNNzPbpWCqNmgqvp8MkxfE5kL3Js6ixTXpZkOMZ9zTvY3bKVqBkpPtfQwNCKVVWGXrw+fXv5/pmqqwWZN3S91rHrzRxaRvOGFoPvB2Qn7Fk7pBWDoukQKTdpM/sjuxHWSTRaxUtDhGi9iWNqpDXFcOAxYLtcSue5NJ7n8lgO2wvKoZEeD1HXFCFSZ0Gs2KI2qSkKc0IjjbZwQFLLYwXjKHcQu3CZicwpcrkLaCpX3hq+OdJcc7ZRd7KbpkjTkgc0Bdfnh2dGONw3yCsnhhjNOoQNjUc2N3NwdwcHdrXTUX/nVVF+4HNx6iJbGrYswKqX3kIP6v4k8OdKqfwCr/OOSKgkhBBCCDGX7EgnxMqiAjU3pKoKqGYFV44/K8wqPs6xHd6ZOMXb2TO4yqPDaOLe0EY20oYWaBAEKJ/SURWHq99innVb84aioWL4tYZ+r/huQHbSrmpJy0wHSOPF4de5KWfO+x8ydRKNkZnQqDFSrDaKh5gkYDjwuJKxuTKe49Jo8XJ1Mk9gaKhoCBU1CCfCxBosQokwnmWQ0RWFWetLGDodpkajbhNVU+jecLlFbXSqD9sbK4dGuqazLr6u5myjrmQX8fDy2/lsPOvwyskhjvQN8v3TI+Rdn6QV4oOl+Ugf2NFKXWRh5hN6gce3L3yb5959jpHcCC/9s5dWRYWwDOoWQgghhBBVbnVHutmBk+xIJ8Ty5Ps+b731Fq+++irZbJadO3fy5JNPsn79+ps+VwUKfIUKguKxFDYpX5XuK7amrdR5Q4vBc/yZgGiiIjSq2CEtn3bnPM+MGMSnA6OGitCo0SJeb2KbOlezBS6P5bk0luPyaJZLY8XgaNR2y6GRihpYdSZm0kRFDHIhDWdWXpcwdDqtEM0hjwRZwv4ovnOVXO4CY5mTDGcuEJTapwEiRoSuZFe5yqhyZ7V1iXWE9eW/QcTl0RyH+wY50pfijYtjBAo66iKltrZ2HtncjBlauJ9fx3f45rlv8oV3v0B/pp9tjdv43J7PcaDnwKr4u1IGdQshhBBCiHm55R3pKlrpZEc6IZaOUoq+vj5eeeUVxsbG6Onp4cCBA3R3dy/10lYs1/bLlUQzc4tssuOF8g5phezcwMiKhUg0WsQbZqqM4hXBUaLBQjd1rk0WuDSa4+JolstjOS6NZovXp/LkDK0cGhENYdaZ6LEQtqnjzgqN4oZOT8Sk3YQ6rYAVjKO5QxQKl5jKnOFa+gxjhdGq59Rb9cWB2HVzK45ao60rrpJMKcV7A1Mc6RvkcF+Kk4NpAHa0Jzm4uxgk3dtZv+DfV8Er8Fdn/oovvfclUrkUu5t38/k9n+cD3R9A11ZP6LoQodJjwH9BBnULIYQQQqxZU84U5yfOc2HyguxIJ8QycuHCBV5++WUGBgZobW3l6aefZvv27SsuGLibnIJXvUPahF1RYVS8zc7N3VEuEg8Tb7RINlrFSqNSWBQvVRzFGyzMSAgozu+5PDbdmlYMjC6N5bgwkaO/4OBFjFJwFEKLhQjFw3gRHW/W3Kjp0KgrEqbJ8IhRbFFz7X4y2XOk0ucYyPSTdbPl52hotMfbrzvfqM5cko/tC8rxAl6/MMqR0qDta5MFdA0e2tjEwd52DvZ20NMcW5SvnXWz/PmpP+crx7/CaGGUB9se5PN7Ps+j6x9dlX/uZFC3EEIIIYRYNLIjnRBLY3BwkJdffpmzZ89SV1fHU089xX333Yeur54KiVullMLJe1Vzi8o7pJUHYBdwCv6c50aT4fLcoso5RomGmdAoZFa3Mk3knJlqo1JodH48x4VcgZEgKIdGKmKgx0OoaAh/1k50MV2jJ2rRHTHptAySWo6QN4rvXCOfv8BQ9jwD6X4GMgN4wUzQFdbDdCY6a8436kx2YhnW4rzJSyhdcHn11DBH+lJ899QQ6YJHJKzz5LZWDvS2s39XO01xc9G+/pQzxTdOfIOvn/g6k/Ykj657lM/t+RwPddw0b1nRFjpU2gBcVvN58F0koZIQQgghxPIiO9IJsTjGx8f57ne/y7Fjx4hEIjzxxBPs3buXcHh1t54qpbCzXtWOaNlZc4wyEzaePSsw0iCWNKvmFiVmBUfxegujxoyoIFCk0oWqaqOz4znOZQr0FxyyIcqhkYoaEAuhZs3qiWga3RGTjbFicNQaCrDUBJqbwi5cYSRzgf7MFa6krzCUq67dSIQT5SqjytlG3clu2mJtq2Jez82kpgoc6UtxuC/Fj8+N4PqKprjJ07vaONDbweNbW4iai/s+jBXG+Hrf1/mTk39Cxs3wwa4P8tk9n2VP655F/brLxYKGSqUXvBf4PLAF+LRS6pqmac8Al5RSb9/Ram+ThEpCCCGEECvDfHeka7Qaq1ropoMn2ZFOrFXZbJYf/OAHvPHGG2iaxr59+3j88ceJRld+a6lSikLGrb1DWilEyo7beG5Q9TxNg1h9RUDUUAqNptvRGq1iYHSDocyOF9A/XqwyujSS5fRYljNTeS4VHIY8D9c0yvONVDQEs8InS9NYb4bZFLPYGLPoioSp0/IY3jCefZWx7CX6M1e4nL7MlfQV0k666vmt0dY57WnTlwarYc39vlNKcWYoUwySjg/y0/7i5hEbm2Mc3N3Bgd52HuxpxNAX/30Zyg3xleNf4S9O/wUFr8CBDQf47J7PsrNp56J/7eVkoSuVDgLfBL4NfBjYpZQ6r2nabwNPKKWeudMF3w4JlYQQQgghVrbZO9KdmzhXnN8kO9KJNc5xHF577TV+9KMf4TgO999/Px/84Aepr69f6qXNiwoUubRTNbeoepZRgeyEg+/NCox0jXiDSaI08HqmwmhmAHaszkQ3bt7ul7E9LpVa1E6OZDk5leV81uaq7TKpKYLI9UMjE2gPheiJWmxNRtgQtVhv6kTUBIFzjbHsZQYy/VxJF6uNBjID2L5dfr6hGaxPrK8536gr0UUsvDhzf1YSP1D85NI4R0o7tl0cLf4Dw33dDaX5SO1sbUvctYDtauYqX3zvi/zNmb/BVz4f3vRhnr33WTY3bL4rX3+5WehQ6XXgK0qpP9Y0LQ3cVwqV3gf8vVLq5ntVLgIJlYQQQgghVqfZO9Kdm5ypbhrOD5cfJzvSidXG933efvttXn31VTKZDDt27GD//v20tbUt9dLKgkCRm3TITBTm7JBWblGbtAn86s+auqFV7IpWMbeoVG2UaLKIJk30eVajKKUYyThcHstyciTDu2M5zmby9Bcchn2ffEi7bmgUVtBiGHRZYbYkImxPRumOWrQYHpo3xGSuv9ye1p8uhkeDuUECNROCRUPRYlCUqKg0Ku2sti6+jpAeuvM3e5XJOz4/PDvC4eODfOfkEKNZh7Ch8diWFg70Fndsa6+L3NU1XZq6xPPvPs8L514ADT665aN85p7P0F23tndRXOhQKQPco5S6OCtU2gScUErd3f/qJRIqCSGEEEKsPbIjnViNlFKcPHmSl19+mdHRUbq7u3n66afZsGHDXfv6TsEnn3YoZFzyaYd8xqWQcclNOVU7pGUnHVRQ/TnSCOmz5hZFKgKk4vVoIox2i+1Lnh9wbbLAieEMPx1Lc2oyz8W8Tcr1mEThWnrN0CikoFHTWRcOsSlmsbMhxtZElC4rTELLkM5fLYdG5cvUFcbt8arXabQaq8KiyktzpHnNtandjrGswysniru1fV2emTkAACAASURBVP/MMAU3IBkJ8aGdbRzobecD21tJRu7+PwKcGT/Dc+8+x0sXXyKsh/nYto/xqXs+RUe8466vZTmab6g03+h0HOgELs66/UGg/9aWJoQQQgghxO2rM+u4v+1+7m+7v+r2WjvSnZ04y3evfLfmjnQb6zbSHG2m0WqkwWqgMTJzTJpJdG3t7qYl7q6LFy/y8ssv09/fT0tLCx//+MfZsWPHHQUWKlAUci75tEsh45BPu+RnhUXl87RDPusSeLULDkJhnURTcYe0zh2NVcHRdKVRJB6+7fUWXJ8TwxneGk7TN1FqUXNcRgOfnAFBZWhkAZaBEejUKY22UIieqMm2ZJR7GuNsjkdYb+kU7CH6M/30p/u5PHWZixev8INMseoo7+XLX1tDY118Hd3Jbj7U86E5wVHCTNzW97TWXRrNlgdtv3lxjEDBuvoIv/hQNwd7O9i7qQnzBjOvFtPx0eM8d+w5Xrn8CtFQlE/2fpJf2/1rtERblmQ9K918K5X+EHgC+EWgD3gIWAd8GfiSUuo/LuIar0sqlYQQQgghxM1cb0e6y1OXKfiFms8xNIN6q74YOEUaaLQaq0Kn6WPl7dFQVKoWxC1JpVK88sornD59mmQyyVNPPcV9992HYVx/TtjMbmjF2UTZydKMounrpUsh43K9j3pmxCCSNIkmwkQT4Ypzk2gyTCQRJjp9W9IkZOp3/LPdP5XnzaE0744XB2JfsR2GPJ+0pnAsfU6lkR4o4j606AadkTCb4xF2N8S5tzFOT8wiis1AdqCqPW36ci1zDU95M9+vblYNxK4870x0YhqLtx39WqGU4t2BSQ4fL1YknUoVB5Pv7EhysLedA70d3NNZt6S/I98Zeof/duy/8cOBH5IMJ/nlXb/MJ3Z9goZIw5KtaTlb6Pa3MMUA6eOABgSl4zeAX1dK+dd/9uKRUEkIIYQQQtyJnJtjwp5g3B5nojBzHCuMMWFPFO8rjDNhF2+btCfLVU+zWYZVFTZNh1GVxyaraea61SBzn9aoiYkJXn31Vd555x0sy+KJJ55g7969GFqI7GR1QJSZsMlVhkaTDv6s3dAAoslwcUe0hmLLWTQ5ExJFEyaR6euJMEZ44StEphyPd8YyvDOS4dRkjos5m2uuxwRBcbbRrK+p+Yqop2gotahtiFnsrI9xf1OCXQ0xmsMGk85kdXtaRYBUOVsNIGkmqyqMepI95fCoLdYmlYeLwPECXjs/ypG+YpA0OFVA1+DhjU0c3N3Bwd52upuWdiC5Uoqjg0c5dOwQRweP0mg18qu9v8rHd36cpJlc0rUtdwsaKlW86BbgAUAH3lZKnbn9Jd45CZWEEEIIIcTdFKiAtJOuCpvGC+NzQyl7rHx99lbilRLhBA1WA02RYtjUYDXMqY4qV0ZZjdRZdfLheAVSSlHIuowOTvDj13/MiXPHQCnW122jWd+KnVbl6qLZjLBenEvUYBGvN4mXQqPybQ0W8XprUYKiShnP53y2wDsjGY6XWtT6bYdRPyBrKPzZrUx+gOko6pRGq2HQEzXZmohwb1OC97XW0RU3CVTAUG6oHBhdTl+uCo4ybqbqJduibTVnG3Unu6m3VsaueCvdVMHl1VPDHOlL8erJIdK2RzRs8OT2Fg72dvChnW00xpe+8kspxQ8GfsChY4f46fBPaYm28Ou7f51f2P4LsvPePC1KqFR64QSglFLZ213cQpFQSQghhBBCLHdu4DJpT5ZDpsowaroCqvL6hD1RNfOlkq7pNFgN5cv1WvEqj7FQTNryFpHn+mQnnKrKouysSqPMZI6sNUAufhml+Vj5duKZDSTiyepwqEZgZMVC8/7vp5TCU+AqRc4PyPk+uSAonVdcatyW9X0mHZ9x22XS8ch4xdvygaKAwjNmrcEP0AsBcV/RrBt0WmE2xSL0NsZ4sCXJ7uY44ZCB7dsMpAfmVBxdSV9hIDOAG8wEaSE9RGeic+6OaqWWtUhoSfaHWvOuTeZ5uTQf6bXzo7i+oiVhsn9ncbe2x7e1EAlfv2XzbgpUwHcuf4dDxw5xYuwE6+Lr+PQ9n+bntv0clmEt9fJWlAUPlTRN+5fA71Ac2A3FAd1/qJT649te5R2SUEkIIYQQQqxGeS9fVfk0blcEUBXXy0FUYaJqhkwlUzfntuJVVEfVmhu1lmfMKKXwS8GMqxSOH5Ceshm6lmV4MMv4aJ50xiWTcchkXQq2j6+Dr2v4OgQaYOqE4mGMuEEuNMWok8JRHolkE+s7NxKtT6CZOr4GTqDwlCofXaVwg1nHm91WcX4b3zB6AMoLwFfFixeg+QotUEQ0nURIpyNUbFHbURflvuYE97YmaEtG0DSNKWdqTnva9CWVTaGYWVcsFJsTFnUnu+mp66Ej1oGhL49wYi1TSnE6leFI3yCH+1Ic658EYFNLvDQfqZ0HehoxbnEnv8XkBR4vXXyJ5449x7nJc/Qke3j23mf5yOaPSJvxbVromUr/Dvhd4P8Efli6+QngfwT+QCn1n+5grbdNQiUhhBBCCCGKHwLTbrrmXKjZrXnT1VJTztR1Xy8ejle14jVFmqoroKaDqFKFVJ1Zd0thgBsortoOw45XM0y5Xshyy7cHCqd0f2UAc7PbF1tY0whpGqY+66hphPTSscb9YU0jrFcfCRSuF+C4AY7jU3A88rZPPu+Rzbmksw4TaRvH9tFKoZHmKwwFbdEw6+oirK+P0lEfYV19hHUV521Ji5Cho5RiOD9cXWk0VTpmrjBpT1Z9f02RppqzjbqT3TRFmqRybhnyA8WbF8fKO7ZdHssBcH93Awd3t3Owt50trYll99/O9V1eOP8Cz7/7PJfTl9nasJXP3vtZDm48SEif72b3opaFDpUuA7+jlPqTWbf/CsVQacNtr/QOSKgkhBBCCCHE7fECr9iWV6MFr9acqHF7/LpteRoa9VZ9RfDUiGV1oELteKFmctQzRYxx32TI1Uk5AXNHTc+foc0NZiqDllBl+FI6r3oMGsr18XM+ftbDzbg4aQcv62EExZ3HwppGss6kLmlR32jR0BChoSlCLBKa89qVx5HBQY7++B9IXb1Kc309Tz3xBL3btxM2NExNJ6Rx0w/mnh8wmnUYTtsMp22G0oXy+XDGZmiqeBxO2+ScuYPjQ7pGe12EjvoIHXUWbfU6jQlFfdwjEfWIWi5GyCbnZcm6WdJumqyTJeNmihen+jhpT1btlKhrOuvi62rONupKdhEPx+/gv664W/KOz/fPFOcjfefkEGNZB9PQeWxrMwd623l6Vzvtdcuz5dD2bf7mzN/wxfe+yLXsNXY17eLzez7PUz1Pydy5BbLQoVIBuEcpdXbW7duAd5VSS/KTJqGSEEIIIYQQd0/BK5RDp/7cOGezGS7mCwwUfFKuxqgfZlJFyZMk0KpbTnRvHN0fxvCKl7A/RlK3CWmqFPjohDUI63o5pDE1nbChY2k6pm5g6jqWbmAaYUJ6iLAeJqzPnM8+ho0wuhMiGDXxhkN4wzr2sEZhSFEe5aNBrClE3TqThvVRGtfFaO5K0NAawwyZhPQQIa32XKNABXiBhxu4pIZS/OC7P+DC2QvE4jH2PLqHjbs24uPjBR6O75C2bUYyecZyxct4Ls9k3maykGeqUCBt22Qcm5zrAD5oPppWPIKPGVZEwgorDGZIEQ4pQqGAkKHQdR9dD9A0n0B55LwcGTdD1sletzWyUjQUJRFOEA/HSYQTJMxE+Vhn1lVVG62Pr5eWohVqNGPzyskhDh9P8cOzwxTcgGQkxP6dbRzo7eADO1pJWMu3wifn5viL03/Bl49/mZH8CPe13sfn93yexzsfX3ZVVCvdfEOl+f60nAZ+GfiPs27/ZeDULa5NCCGEEEIIscwV/IArBYfL05e8zeWCw5W8w6WCx6QXA2Z2UaoL6WxIWDwQNemOmPSULi0hjzhZ8q7OhG0wVjCZKMQZt+tJO+lyKDP7OH1uuy5Z5eH6Ll7pWOvxylfUF9ppzq6nKbeO5tx6mnPrSTiJme8plGU0dpWx5qvFY+wqY7FBPMMpPiBdupye+35Mh1W6puMFHl7g4SufqBdl1/guNmY24mkepxpPcbbuLF879zU4dwtvuFF6O2MwPU5Y1wxC2kxAZpbWUDNEM6ziY40wIS1UDIdKwVA8HCdpJquOlcFRPByXVqFV7OJIttTWNshPLo0TKFhfH+G/e6ibg7s72LupibCxvKt70k6aPz35p3y176tM2BPs69jHHz7xhzzc8bCESUtsvr85fg/4c03TngR+BCjgceADwC8sztKEEEIIIYQQi8VXimu2y+W8w6WCzeW8MxMi5R0Gnert7S1dK4dFD9bHy6FRT7R4bAjf6KNFM9CzIOtWSpGbdBgdyDAykGF0IMNof5bxwSyBX+zC0A2NZLtF3WaLREeIeIdBpFXHSAR4qvuGIZbru6Rtu1w5lLYLpO0CWcch69jkXY+CA25Bo3syxGbbRANOhgLeM3Sc3D2o3B5iYZP6SIT6aITGaJSGaITmeIzmWJSWRIyWRIz2ZIzGaLQYBFVUXoX1MIZuSBuPuC1BoDg2MMmRvkGO9KU4ncoAsGtdHb/xoW0c7G1n9/q6FRHGTBQm+PqJr/ONE98g7aZ5ovMJPrfnc9zfdv9SL02UzCtUUkr9taZp+4B/BXwE0IA+YK9S6u1FXJ8QQgghhBDiNiilGHV9LlcERpfyTvF6wWGg4FbtFqYD66wwPVGTDzQl2RA1K4IjizYzhH6XP4S6js/Y1WwpOMowerUYIBWyM4FXvMGiuTPBhnuaaFqfoKUrQUN7DCNUDGSCQDGRdxnL2oymHcayDqPZ4nHm3GY0U7w+nnNw/VjN9UTCOq2xMLvCKTpyF9ECF7NtE129D/NkWzOtSYu2pEVzwsQKyS5m4u6xPZ/Xzo9x+PggL59IkZqyMXSNvRub+F8+0sOB3na6m2r/XC9HI/kRvnr8q/zpqT8l7+V5uudpPrvns/Q29y710sQs85qptFzJTCUhhBBCCLGWZT2/oj1tJjC6VAqRsn71OOzmcKiquqgnarIhYtETNVlvhTH1pamMUYFiajTP6MBMgDQykGFyOM/0bvQhU6e5M0Hj+jiRlghag4mbMJgMAsYydlVYVBkaTeQcgut85ElaIZoSJk1xk+Z48dgUt2bOE5W3m1w4c4qXXnqJqakptm3bxv79++no6Lh7b5QQFSbzLq+eGuJwX4rvnRomY3vETIMPbG/lQG87H9rZRkPMXOpl3pLB7CBfeu9L/NWZv8INXH5m48/w2Xs/y9bGrUu9tDVnQWYqaZq2AfifgX+tlJqadV898H8Av6+UunInixVCCCGEEELM5QaKAbuiwihfGSA5jLrVA5hjhs6GiMmGqMkTjQl6SoHRdMVRfJlUz3iuz8Vjo1w5OcbwlTRjV7P4zkwApiVDuIkQmU0xxkKKQc3nqucymh1l6niq5mtqGjREw6WAyGJra4KmTdWhUHPcKp83xsPzribKZDK88Ld/TV9fH+vWrePnfu7n2LRp04K8F0LciqsTeV4+keJIX4ofnxvFCxQtCZOP7FnHwd3tPLalhUh4efw5vxVXpq7whfe+wN+d+ztQ8E+2/BM+c+9n2FC3JBvNi1tws/a33wbs2YESgFJqUtM0G/jXwG8txuKEEEIIIYRYzQKlGHK88hDsS9OhUSlAuma7VNYahTToKgVEH26tpydSGoodNemJWDSHjSWfkxIEism8y0imuO39aMZhJGMzmrZJX8lgXM5TN+oSDqCgKYaMgGFdMRwNGDYCRg2Fq0HI1mgMmTSbxRBodzxWCoiscgVRY8ykuVRp1BgzMfSF/96PHz/Ot771LWzbZv/+/Tz22GMYxsr70C5WJqUUp1JpDh8vBknvDkwCsLklzmee2MTB3g4e6G5AX4Sf/bvh/MR5nnv3OV688CIhLcTHtn2MT9/zadYn1i/10sQ83SxUehr4zA3u/wbwpYVbjhBCCCGEEKvLhOtVVRcVwyObK4Vii5o9qzerwyzONXq0IUF3qepouuJonRXGWILQyPECRktzh6qCoozNSOl8JOMwWmpD8yq+p1ZfY5dj0OsYtCkdT4exxhBOZ4RoV5yepMX98eoWtOa4RV00tKQBWSaT4cUXX6Svr4/169fzzDPP0NbWtmTrEWuH5we8eWm8GCSdGOTKWB5Ngwe6G/idn9nJgd52trYlbv5Cy9jJsZMcOnaIly+9TCQU4RO7PsEnd3+Stpj8GVtpbhYqbQQGbnD/VUDq0YQQQgghxJqV94OKXdOKFUdXSiHSpYLNlFc916ghZNATMdkRj3CguY6eqEVPKTzqskwid2Frb6UUGdsrh0Mj5ZCodMzajKQdRrI2I2mbqYJX83UiYZ2WhEVzwqKzIcKeznpakiaNGESuFbDPpilMFNB0jZ7dTex4pIONe1oIm8u70ue9997jxRdfxLZtnn76aR599FGpThKLKud4fP/0CEf6UnznZIrxnIsZ0nn/lmb+xQe3sn9XG23JyFIv844dGz7GoWOH+F7/90iEEzx777N8ovcTNEWalnpp4jbdLFTKApuAy9e5f1PpMUIIIYQQQqxKvlJctV0u520uFRyu5KsHY6ec6sAlomvFlrSIxUP18erB2BGT+vC8NmC+9XUGivGcUxEUzVQPVZ8X77dnhV3T6qNhWhImzQmLXR11tGwtnhfDI5OWhEVL6RgzZ9rt7JzLubeHOf36IANnJrAVdGyuY/vTPWx9qI1oYvkPDJbqJHE3jWRsXinNR/rBmRFsL6A+GuZDO9s40NvOk9tbSViL8/viblJK8WbqTQ4dO8Rr116j3qrnN+7/DX5p1y9RZ9Yt9fLEHbrZT+hrwCeB713n/k8Bry/oioQQQgghhLiLlFKMuN5MWFRqT5sOjgZsB6+iQ00H1kfC9EQsnmqqK7WnmeWKo1YzhL5AbVsF12c06zCSnl095BSvV1QXjWVr73IW0jWaE8WWspakxZbWBC3J4g5n1UFRcYi1GZp/pZTvBVx6b4TTRwe5eGwU3wtoaI+x9yOb2L63nfrWlbGFuVKqPDvJcRypThKL5sJIlsPHBznSl+Inl8dRCjobovzS3h4O9rbz8KYmwnehWvFuUErxD1f/gUPHDvHW0Fs0R5r57ff9Nr+44xeJhVfG7wZxczcLlf4z8LKmaZPAHyqlBgE0TesA/i3wCeDA4i5RCCGEEEKIheMEAX8/NMHfD09wsRQk5fzqqp2WcIieqMkDdTE+GmmgJ2qxoVRxtN4yCd/mUFylFFMFr7rVLGMzXFFRNFrRipa2a7edxU2jVD1k0t0U44GexnL10OxqorpIeEGH+KpAce38JKdfH+TsT4awcx7RZJjdT6xn+74O2jYkl3xY+K3IZDJ861vf4sSJE1KdJBZcECh+2j/Bkb4Uh/tSnB3KANC7ro7f2r+NA73t9K6rW1F/Zm4mUAGvXnmVQ8cOcXz0OO2xdn537+/y89t+nkho5bfwiWo3DJWUUq9qmvYvgf8C/KamaVOAAuoBF/jvlVLfXfxlCiGEEEIIcWdStstXr47wtaujDDke3RGT3YkITzYmy+1p3aUWtfg8t5qH4lDdsZwzp3poeFZANH10/LltZ5oGjTGz2HYWt7i3q4HmuEnrdSqKokswk2jsWpbTrw9y+miK9FiBkKmz+f5Wtu/roHtnI/oKq66Q6iSxWGzP5x/OjXKkL8XLfSmG0jaGrrFvUxO/sq+HA73tdDWuvkodP/A5cukIh949xJnxM3Qluvi9R3+Pf7rlnxI2wku9PLFIbtqgqZT6b5qmvQD8IrAV0IDTwF8qpfoXeX1CCCGEEELckbcmszw/MMLfD03gKsXTzXV8prOFDzQlr9umlnf8684lqh5o7TCec1A12s5MQy/PJmpJmOzoSFZVEDVXHJtiJqFlGMpkJ23OvJHi9NEUw5fTaBp072pi30c3s+m+FszIypz3Ulmd1NnZyUc/+lGpThJ3ZDLv8uqpIQ4fT/HqqSGyjk/MNPjgjlYO9Lbz1I42GmLLf67Y7XADlxfPv8jz7z7PxamLbKrfxB88/gf87KafJaSvzN8RYv40VetvwBXioYceUm+++eZSL0MIIYQQQiwzdqnF7Qv9I7ydzpE0dH6+tYEPJxNEXRhO21Wh0cis1rOc49d83WQkVA6GijOKZmYVtcTNmVlFSYukFVqRLS1OweP8O8WB2/0nizNf2jYk2b63g60PtRGvt5Z6ibdNKVXe2c1xHJ566impThK37epEvtTWNsjr58fwAkVLwuJAbzsHe9t5dEszkfDq/dlyfIe/Pfu3fPG9LzKQGWBH4w4+t+dz7O/Zj6Gv3u97rdA07SdKqYdu9jiJDYUQQgghxIo1XVE0VAqJzk3leSWX5S088jpE7ICWa3ncS2n+rHCFP5v1fF2DpvhM9VBPT6zmXKLpIdar9QOi7wdc6Rvj9OuDXPjpCJ4bUNcS4X0/u5Hte9tp7Igv9RLvmFQniTullOLEtTRH+lIcOTHIewNTAGxpjfPsE5s5uLud+7saFnSG2XKU9/L81em/4kvvfYmh/BB7Wvbwu3t/lye7nlyRQbq4MxIqCSGEEEKIZcXxgnLl0HDaLlcVDadthjPFnc+GS9czpUHWQX0YrydB0BEFDaxxh83jHpsI0ZaM07q3iZZEcUZRayJCS7IYFjXGTIxV/gHwepRSpC5Mcfr1Qc78ZIhCxiUSD7PzsXVs39tBx+bVMTx4dnWSzE4St8LzA964OM7hvuKObf3jeTQNHuxp5N/+7E4O9LazpTWx1Mu8KzJOhj879Wd8te+rjBXGeKj9IX7/8d/nkXWPrIrfFeL2SKgkhBBCCCEWnR8oRrOVIZFTOzDK2Ezk3JqvURcJFUOhpMXu9XU0JU2GEgZv6R6XA5+YrvHzLQ18fkMb2xLRu/wdrhwTqRynjw5y6miKqeE8Rlhn054Wtu/roKe3CSO0/GY73a7Z1UnPPPMMra2tS70ssczlHI/vnx7m8PEU3zk1xETOxQzpPLG1hd94aiv7d7XTmly5baC3atKe5BsnvsHXT3ydKWeK969/P5/d81ne1/6+pV6aWAYkVBJCCCGEELclCBQTebd2RVEpJJq+bSzrENQY5Rk3DVqTxfaybW0JHtvSTEvCKlUUFWcVTe+ANt16lrJdvnJ1hK8OjDLi2myLWPzvXev4hfZGErewa9takptyOPuTFKdeTzF0cQo06NrRyEM/u5EtD7RiRlfXx4LZ1UkHDhzgkUcekeokcV3DaZtXTqQ40pfiB2dHcLyA+miY/TvbOLi7nSe2tRK3Vtefk5sZzY/ytb6v8aen/pSsm+Wp7qf43J7PcU/LPUu9NLGM3NKfCk3THgK2AC8opbKapsUBWynlLcrqhBBCCCHEXaWUIm17NUOi2S1oIxkbr0ZSZIZ0WkvBUFdjjAd6GkshkVmuNJqeUzTfD2lKKX4ymeX5/mH+fngCX8HTzXU829XKk40Jab2owbV9Lvx0mNNHU1zuG0MFipbuBI99bCvbHmon0bg6Ky0ymQwvvPACJ0+elOokcUPnhzMc7isGSW9dLg6l72qM8iv7ejjQ287ejU3LclfGxZbKpvjy8S/zl6f/Etu3+Ucb/xHP3vssO5p2LPXSxDI0r7/FNU1rB74JPAwoYBtwHvi/gALwW4u1QCGEEEIIcedyjlejkqh2C5rjBXOeH9K1YhCUNGlNWPSuq5upKCqFRNPnC7nrmR0EfHNoguf7h/lpOk/S0PlMZyuf6mphY3R1hiJ3IvAD+k+Oc/poinPvDOPZPokmiwcO9LB9bzvNnat39kut6qRHH30UXV97oYCoLQgU7/RPFHdsOz7IueEsALvX1/E/7N/Ogd52dq1LrtmQuj/dzxff+yJ/e/ZvCVTAP978j3n23mfZVL9pqZcmlrH5Vir938Ag0Axcrrj9L4D/utCLEkIIIYQQN2d7fnk20cisdrPZYVHW8ec8X9OgOW6WA6HNLfE5AdH0eUM0fFd3NBq0Xb4yMMLXro4y4npsi1n8p+1d/EJ7I3FpcauilGL4cprTr6c4/WaK/JSDFQux/eF2duxrZ92WBrRVPow8nU7zrW99S6qTxBwF1+fH50Y53Jfi5RMphtM2IV1j3+Ymfu3RjTzd205nw9qewXZx8iLPvfsc3zr/LXRN55mtz/Dpez5NV7JrqZcmVoD5hkr7gf1KqfFZqe05oGfBVyWEEEIIsUZ5fsBo1pkzk6hWO9pUofYEgoZYuBgGJSz2dDXMColmWtCaYuayau1QSvGTqRxfqGhxO9Bcx2ekxa2mqZE8p48OcvpoivHBHHpIY+O9LezY28GGe5oxwsvnv+1iUUrx7rvv8u1vf1uqk0TZZM7lO6eKbW3fOzVM1vGJmwYf3NHGgd52ntrRRn0svNTLXHKnx0/z3LHneOniS1iGxS/t/CU+ufuTdMQ7lnppYgWZb6gUBZwat7dSbH8TQgghhBDXEQSK8ZxTnkU0nCnM2QGtPNA656BqDLROWKFyKLSjI8njW1uqwqLpqqLmhIm1wip57CDg74Ym+EKpxa0uJC1u11PIuJz9SYrTR1NcOzcJwPptDdy3v5stD7YRia+dD8qV1UldXV189KMfleqkNWxgIs+R44Mc7kvx+oUx/EDRmrT46AOdHOht57EtzSvud+NieW/kPQ4dO8R3r3yXWCjGp+75FL/a+6u0RFuWemliBZpvqPR94NeBf1e6rjRNM4DfAV5ZhHUJIYQQQixrSimm8l65mqgYGNWuLhrNOvg1BlpbIb0cCG1ojvG+jY3lAdfTgVFb6Txqrr4PQ9LiNj+e43Px3VFOvT7I5eOjBL6iaX2cR57ZzLaH26lrXlutO1KdJKD4c9B3bao0HylF37UpALa2Jfj8k5s50NvOfV0Nd7Vtd7l7K/UWh44d4kdXf0TSTPLP7/vn/MquX6Heql/qpYkVbL6h0v8EfE/TtIcBC/jPwG6gvKy02AAAIABJREFUHnj/Iq1NCCGEEOKuy9renMHVc1vQihVGjl97oPV0KNReF+Ge9fXl4datyUhV+1liAQdarxRKKd4stbi9UNHi9mxXK09Ii1tZECiunh7n1NEU598awin4xOtN9nyomx37igO31+J7JdVJa5vrB7xxYay8Y9vARB5Ng/f1NPK7P7uTA73tbG5dvcPob4dSiteuvcahY4d4M/UmTZEmfuvB3+LjOz5OwpT3Sty5eYVKSqk+TdPuBf45YAMRikO6/z+l1LVFXJ8QQgghxB0ruH7NUGg4Uyi1o80ER7kaA611DZriM21mW9oSxfPp9rOK6qL6uzzQeqWYbnF7vn+YY9Mtbl2tfLqzhQ3S4lY20p/h9OuDnH4jRXbCJhwx2PJgG9v3ttO5vXHN/mxNVye9+OKLuK4r1UlrSNb2+P7pYQ73pfjOySEm8y5WSOeJbS385v6tfGhnO61J+R0ym1KK7/d/n0PHDnFs5Bht0TZ+5+Hf4WPbP0Y0tLaqG8XiummopGlaGPjfKAZI/+viL0kIIYQQ4uZcP2B0euezWVVFs6uL0tcZaN04PdA6afFAT8VA64RFS0VY1BQ3Mdboh/k7dc12+OrAaFWL2x9u7+KfSYtbWXqswJk3Upx6fZCxq1l0XaPnnmbe/8+2smlPC6FV2Pp4K9LpNC+88AKnTp2S6qQ1Yihd4JUTQxw+PsiPzo3ieAENsTD7d7VxsLeDJ7e3EDPn23SztgQq4OVLL3Po2CFOjZ+iM9HJv3/k3/PM1mcwDXOplydWoZv+SVRKuZqm/Qvgj+/CeoQQQgixhvnTA63TNXY7y1S3oI3n3JqvkZweaJ202NVRx5PbZu16lojQkjRpjluYIalyWAzTLW7P9w/zrVKL28GWOj7TKS1u0+ycy7m3hjn1+iBXz0wA0LG5ng/80na2vK+NaEI+/FVWJ3mex8GDB3nkkUekOmmVOjuU4UhfiiN9g7x9ZQKloLspyif2beDg7nYe2tC4rHarXG68wOPbF77N8+8+z/nJ82ys28jvv//3+fDmDxPW184Af3H3zTfefQn4EPDFRVyLEEIIIVYhpRSTebe6kqiqBW1mwPVoxqbGPGsiYb1cQbSpJc7DG5uqdjyrbEGLhNd2VcdSKvilXdwGpMWtFt8NuPTeKKePDnLh3RECT9HQHmPfP93Etoc7qG+VlpRps6uTnnnmGVpaZGeq1SQIFG9fGS/PRzo/nAXg3s56/tXT2zm4u50d7UkJoW/C9V2+ee6bPP/u8/Rn+tnasJU/evKPOLDhAIYufx+KxTffUOkV4A80TdsD/ATIVt6plPrrhV6YEEIIIZYvpRQZ25sJhuYMsq5uQXP9uUlR2NDKQdC6+gh7uuqrQ6KK87hpyAeLZeya7fCVUovbqOuxPRaRFrcSFSiunZvg1NEU534yhJ3ziCbD3PNkJzv2ddDaIx+aKymlOHbsGN/+9relOmkVKrg+/3BuhMPHU7x8YoiRjE1I13hkczO//thGnt7VzvoGCVfno+AV+Oszf80X3/siqVyK3c27+TcP/xs+2P1BdE3+vIi7Z76h0v9bOv5mjfsUsLb/b0EIIYRYJQquX6OiqHZYVHDn7nyma9CcmKka2taWrAiIiu1nbRUDreXD9MqllOKNySxfGBipanF7trOVx6XFjbGrWU4dHeT00UEyYzYhy2Dz/S3s2NtB185GdGnjmUOqk1aniZzDd04OcaQvxfdOD5NzfBJWiA/saOVgbzsf3NFGfVTas+Yr5+b481N/zpePf5nRwigPtD3Af3jsP/DY+sfW/O9dsTTmu/ub/K0nhBBCrFCOFzCavV5IVN2ClrZrD7RuipvlUOh9PY3XrShqjMlA69Wu3OLWP8yxTJ76kMGzXa18SlrcyE7YnH4jxemjg4xcyaDpGt27mnj0mS1suq+VsCX/DluLVCetPlfGcqX5SCmOXhzDDxTtdRY/90AnB3d38MjmJqw1XsV4q6acKf7kxJ/wtRNfY9Ke5JF1j/BHe/6Ih9ofkjBJLCkZmS+EEELcZUopvEDheEHx4heP9qzrxfP/n737Do+6zBo+/p30XieT3kghRUI1tAACAnZFECuWRXYt6z6vXZfH1VUXdXfd5pZHBSyr6wKiqKhYaCZIRwikQYAkpPeeTKbc7x8JIUCAAEkmmZzPdXGR+ZX7d2YymcycnHPfprPvO3H7tG0tBhNVjW2dVUW1Z5vQ2smucy6ihCCPzuoiv9OSRb5uDthLVcWQd6LF7f3iSqoNJmJdnPh9bAjzArxxtR26Hw7bWowc3dc+4XZhTg0o0EV4kLIghphx/rh4yITb5yLVSdZBKUVGcX3n/EhZJfUAxOjceGDaMGYlBJAU7ImN/NHhgtW01vDvzH/zUfZHNBoamRYyjcVJixnpN9LSoQkB9DCppNFoHjvXfqXUn3onHCGEEKL3GU9LvOi7JGcMXbd3l7Dp8rXeeGay5/xJITOG0883mVHdTEZ9sRzsbHC0tcHBrv2fo50Nvm6ORPm5MX6YD35uTme0oGndZEJrcX4nWtyWdbS4mRXM0Xpwf4gfk72GboubyWTmeEY1OTtLOba/EpPBjIfWiXHXRDA8OQAvfxdLhzgoZGRk8MUXX0h10iBlMJnZeay6syKpqLYFjQbGhXuz5Jp4ZiX4E6F1tXSYg1ZFcwXvZbzHqkOraDW2cmX4lSwesZh433hLhybEKXpaqfTIabftgUCgBSgHJKkkhBACaF/N5fQESttpyRj9ORI3XZMznQmfC0j8nDzf1Hm7u9XELpa9rQaHLgkcBzubjtu2nckdVwc7vF1suj3O8ZRzTh/jtO2nJYocbG3POMfeVjNkP9iLvtNqMrO2vIblhZUc6Ghx+3mIH/cO4RY3pRRlx+rJ2VFK7u5yWpsMOLnakzApkNjxAfhHesjPYg+ZTCa+++47tm/fTnBwMHPnzpXqpEGiUW9kS04F32WWsjG7nPpWI452NkyJ8eN/ZsYwI16H1m1ovkb0lpLGElYcXMEnhz/BqIxcE3kN94+4nyivKEuHJkS3ejqnUuTp2zQajT/wDvB2bwclhBCiZ5RSp1TdtHVJxnS3/dzJmVMrb86X+Ol2m9GMsRczOHY2mm4TLF2TM072Nng42XXss+047rTEz2nJGMezJG7OSPx0c1350CisWXFrG+8VV/Hvjha34a5O/GF4CDf7D90Wt9qy5vYJt3eUUl/Ziq29DcNGaolNDiA00QdbaQ29IA0NDaxevZqCggKSk5OZPXs2dnYyI8dAVtvcxlcHSvk2s5Qfc6toM5nxdrFndmIAsxL8mRKjxcVBvoeXqqC+gOUHl/N57ueggRujbmTRZYsI9Qi1dGhCnNNF//Qrpco0Gs0SYBXwae+FJIQQA5NSCoNJXXDlzen7DF2O6Xnix9Ttcd0t036xbG1OT8R0n1RxdbS7yOTMycSOva3mrJU3J6tybGTuBSH6gVKKnXVNLCus5KvKWpSCOVpPFoVoh2yLW3N9G4d3l3FoRynl+Q1oNBA83JvLr41k2Cg/HJzlA/TFyMvLY/Xq1bS1tXHzzTeTlJRk6ZDEORworOP9bXl8vr8YvdFMmI8Ld08MZ1aCP2PDvbGThGqvyK3J5e0Db7M+bz12GjtuGX4L9yXeR6BboKVDE6JHLvU3og3g3xuBCCEGDtUx2YtSoDpuq87bJ/fRZVvn7dOO57RzzjYenfvOMl7H7bNVx5yZnDFdUMvUudqtup7fWzQazkigdJdc8XSwP2vLlP3Zzj9tLMezjN2+72RSR1bsEmJoaTWZ+bS8hhXS4gaAQW/i6L4KDu0s5XhWDcqs0Ia6MXl+NDHj/HH1GnqPSW9RSvHjjz/y/fff4+Pjw913342/v3yEGIhaDSbWpZfw7+357D9ei4uDLfPGhnBHchiJQdLi2ZsyqzJ5O/1tvi/4Hmc7Z+5JuIe7E+9G6yytoGJw6elE3Tefvon2OZUeBlJ7O6ihpNVg4v1teV0+bJ/6gRpOfqDu7kO96vjibPs6t5049jzjde4/x3h0/cDfJd6zJwm6jnfqNehy/tnG44wYuh/v9PO7G+/8CY7OAbtPcHQ5p+v43Y13xmN+lvEu+DE//XilusR97iRQt4/5acdbq7MlV+y7bHN3sut5cqbLHDpna5k6Jelz2nh2NjIPjhDCMqTF7SSzyczx7BoO7Szl6L5KjHoT7j5OjJkdRmxyAD5BMsnwpWptbeWzzz4jKyuL+Ph4brzxRpycnCwdljhNflUTH+4oYNXu49Q2G4jWufHbGxKZOyYYDyd7S4dnVfaV7+Ot9LdILUrF3d6dXyT9grvi78LLycvSoQlxUXpaqfTxabcVUAFsBB7v1YiGmJY2E0u/yr7kcTSa9kyfRqNBc8q29h2ajtvQvu2M4zv3dWw7y3iccm7349F1n+Ys1+u4WNdtp49Hd/tOG48z7m/343VeywY02HQ7XtfrnWu80x+DU88//THXdHlcz/aYn3u8C37MTx/vjMf83OPRzeN3+nidw51nvG6/hye2dbneqY9R9+OdeExlImMhhLhwSil21DWxXFrcgPZ5kjK3FpO9vZSW+jYcXeyITfZneHIAgVGeaKRys1eUl5ezcuVKqqurmT17NhMnThxyz7WBzGRWbMou59/b89lyqAJbGw1zEv25a0I4E4f5yveqFyml2FW6i7fS32JH6Q68HL341ehfcVvcbbg7uFs6PCEuSU8n6paG2T7i5WJPxm/nAOdIUHR+3V2SRV7shRBCCNG9li6ruB1sbMHLzpZfhOi4N9iXsCHW4mYymDm6v4KM1CKKcmrR2GiIGOFL3MRAwhN9sbWXt7u96cCBA3z++ec4ODhwzz33EBERYemQRIfKRj2rdh/nw+0FFNW2oHN35P9dGcNtl4cR4ClVZL1JKUVaURpvpb/Fvop9aJ21PDHuCW6JvQUXexdLhydEr+hp+9vdwEqllP607Q7AbUqp9/siuKFAo9Hg6iiTPQohhBCi9xS1tvFeUSUflFRRbTAR5+rEH4eHcrO/Ny5DbHLd2rJmMtKKyd5WQmujAQ+tExNuGkbcxEBcPYdWYq0/GI1Gvv32W3bu3ElYWBjz58/Hw8PD0mENeUop9hbU8O9t+Xx1oJQ2k5mJw3xZcm08sxL8sR9irwt9zazMbCrYxJvpb5JVnUWAawBLxi9hbsxcHG3ldUdYl55mM94B1gPlp21379gnSSUhhBBCCAs60eK2rLCCryvrUAqu6mhxmzTEWtyMBhNHf6ogI7WY4sO12NhoiBylJTElmJA4b2lv6yN1dXWsXr2awsJCJkyYwKxZs7AdYvN0DTRNeiOf7Svm39vzySqpx93RjjvGh3HXhDCiddJ21dtMZhPf5H3D2wfeJrc2l1D3UF6c9CLXDbsOe1vrnpuqvr6e8vJyDAaDpUMRPWBvb49Op+uVpH9Pk0oausxh3EUYUHepQWg0mluAF4B4IFkptftSxxRCCCGEGApauqziNtRb3KpLmshMKyZ7ewn6JiMeWicmzo0ibmIgLh4Olg7Pqh09epSPP/4Yo9HILbfcQmJioqVDGtJyyxv5YHs+a/YU0qA3Ehfgzu/mXsZNo4KlS6IPGMwG1h1Zx/KDy8mvzyfKM4pXp7zKnIg52NlY/+NdX19PWVkZwcHBODs7D6k/YgxGSilaWlooKioCuOTE0jmf4RqN5gAdi0MBWzQajbHLblsgHPjqkiJodxC4GXizF8YSQgghhLB6Ra1tvFtUyYcdLW7xQ7TFzdhm4shP7XMlleTWYWOrYdgoPxKmBBESK1VJfc1sNrN161Y2btyIr68vt956K35+fpYOa0hqM5r5JqOUD3fks/1oNfa2Gq4ZEcjCCeGMDfeWD/p9QG/Ss/bwWlYcXEFxUzHxPvH8+Yo/MyNsBjaaofM6XF5eTnBwMC4uMk/UYKDRaHBxcSE4OJji4uK+TSpxctW3y4AvgcYu+9qAPGDNJUUAKKWyQCadFkIIIYQ4F6UU2zta3NYP8Ra3quJGMtOKydleir7ZiKefMxNvjiJuglQl9ZeWlhbWrl1LTk4OiYmJ3HDDDTg6Dq3quIHgeHUz/9lZwOrdx6lsbCPE25kn5wxnwbhQ/Nzl+9EXmg3NfHzoY97NeJeKlgqS/JJYMmEJU4KnDKnX4RMMBgPOzs6WDkNcIGdn515pVzxnUkkp9VsAjUaTR/tE3a2XfEUhhBBCCHFBWkxmPi2rYXlRBRmNrXjb2fJAqI57g7WEOg2dBIqxzUTu3nIyU4spOdJelRQ12o+EKcEEx3oNyQ9zllJaWsqqVauora1lzpw5TJgwQR7/fmQ0mdmYXc6HOwr44XAFGmBGnD93TghjaowftlKh1yca2xr5b85/eT/jfWr0NSQHJPPKlFdIDkge8s//oX7/B6Pe+p71qMFTKfXepV5Io9F8DwR0s2uJUuqzCxjn58DPAcLCwi41LCGEEEKIAavwxCpuxVXUGE0kuDrx+vBQ5g6xFreqokYy0oo5tKO9KsnL34VJ86KJmxCAs/vQSaoNFPv37+eLL77AycmJe+65h/DwcEuHNGSU1rWyctdx/rurgJK6VnTujjwyI4bbLg8lyEsqRfpKbWstH2Z/yIdZH9LQ1kBKcAo/T/o5o3WjLR2aEBbXo6SSRqNxAJYAt9M+OfcpU9crpc67rINS6sqLCbCbcd4C3gIYN25cd5OHCyGEEEIMWl1b3L6uaF8P5Wo/TxYF+zHRy3XI/DXY0GYid3c5mWlFlB6tx8ZOQ9RoHYlTggiKkaokSzAajaxfv57du3cTHh7O/PnzcXeXFcT6mtmsSMut5MMd+XyfVY7JrJgSo+X56xOZGa/DfgglmPtbZUsl72e+z8rslTQbm5kZNpPFSYtJ9JWJ6IU4oadT0b8E3Aq8AvwZeBKIAG4DnuuTyIQQQgghhpATLW7LCivIbGpvcXsoTMc9Q6zFrbKwgczUYnJ2ltHWYsQ7wIXJ86OJmxCIk5t1L8k9kNXW1rJ69WqKioqYNGkSM2fOxNb2vH9XFpegqlHP6j2F/GdHAQXVzfi4OnD/lEjuSA4j3NfV0uFZtdKmUt7NeJePD32MwWxgTsQcFo9YTIx3jKVDE32grKyMpUuXsm7dOgoLC9FqtSQlJfHII49wzTXXEBERQX5+PgBOTk6Eh4ezaNEinnjiic4/cOTl5REZGcmuXbsYN24ccLK9LDU1lZSUlM7rmUwmQkNDKSkpYfXq1cyfP7+f73Hv6mlSaQHwgFJqvUaj+SPwmVLqiEajyQJmcYmrtmk0mrnAG4Af8KVGo9mnlJpzKWMKIYQQQgwGhSdWcevS4van4aHcNIRa3Ax6E4d3l5GZVkzZsXps7WyIGutHYkowgdGeUpVkYbm5uaxZswaTycSCBQtISEiwdEhWSynFzmPVfLijgPUHS2kzmUmO9OHx2bFcdVkAjnaSyOtLxxuOs+LgCtbmrgUF10Vdx6LLFhHhGWHp0EQfycvLY/Lkybi7u/PKK68wcuRIzGYzGzZs4IEHHqCgoACA3/zmNzz44IO0trby/fff8+CDD+Lh4cEvfvGLc44fGhrK8uXLT0kqff3119jZ9TQVM/D19J74A5kdXzcCXh1frwdeu9QglFKfAp9e6jhCCCGEEIOBUopttU0sLxraLW4Vx09UJZViaDXhHehKyi0xDJ8QgJOrVCVZmtlsJjU1lU2bNqHT6ViwYAFardbSYVmluhYDn+4t5MMdBRwub8TdyY47xodx5/gwYvylxbCvHa07yrL0ZXx17CtsNDbMi5nHfZfdR7BbsKVDE33soYceQinF7t27cXNz69weHx/PnXfe2Xnb3d2dgID2KaLvv/9+/vWvf/Htt9+eN6l077338qc//Yk33nijc/zly5dz33338eKLL/bBPep/PU0qFQBBHf/nAnOAPcBEoKVvQhNCCCGEsC7NJ1Zx69Li9nBHi1vIEGlxa2s1kru7nIzUIsrzG7C1tyF6rI7ElCACoqQqaaBoaWnhk08+4fDhw4wYMYLrr78eB4eh8RztL0op0gvr+HBHPp/vL6bVYGZkqBe/n5/E9UlBODtIVVJfy6nO4e0Db/Nt3rc42TlxZ/yd3JN4DzoXnaVDE/2gurqa9evX8/LLL5+SUDrB29v7jG1KKbZs2UJWVhYxMedvh0xKSiI+Pp6VK1eyaNEiysvL+eqrr/jzn/885JJKnwIzge3AX4GPNBrNYiAY+EMfxSaEEEIIYRXO1uI2198b5yHS4laeX09GWjGHd5Zh0JvwCXJlyq0xxCZLVdJAU1JSwsqVK6mvr+eaa67h8ssvl2RfL2rSG/l8fzEf7sjnYFE9Lg62zB0dzJ3jw7ks2NPS4Q0JByoO8Fb6W2wu3IyrvSv3j7ifuxLuwsfJx9KhWY3ffpFBZnF9v14zIciD56/v+STqubm5KKWIj48/77FLlizhhRdeoK2tDYPBgJOTE7/61a96dJ2f/exnrFixgkWLFvH+++8zZcoUIiIiehznQNejpJJS6tkuX3+s0WgKgUnAIaXUur4KTgghhBBisFJK8WNtIyuKKk9pcbs/xI8JnkOjxa2txcihXe1zJVUUNGBnb0P05f4kpgThH+kxJB6DwWbv3r18+eWXuLq6ct999xEaGmrpkKxGdmk9H24v4NOfimjUG4kLcOelGxO5cXQwHk6SWO0Pu0t381b6W2wr2YanoycPj3qY2+Nux9NRknlDkVI9X0z+scceY9GiRVRUVLBkyRJmz57NpEmTenTuHXfcweOPP05OTg4rVqzgueesa62zi5odSim1nfaqJSGEEEII0UVzl1XcsoZgi5tSivL8BjJTizi0uxyj3oRvsBtTb4slNtkfRxf58DwQGQwGvv76a/bu3UtkZCTz58/H1VVWGLtUrQYTXx0o4cMdBezJr8HBzobrRgRy54QwxoR5S2K1Hyil2Fa
